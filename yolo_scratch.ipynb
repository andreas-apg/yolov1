{
 "cells": [
  {
   "cell_type": "code",
   "execution_count": 1,
   "id": "5a8cc60a-c486-4a25-8486-09c36e3ff8fb",
   "metadata": {},
   "outputs": [],
   "source": [
    "import torch\n",
    "import torch.nn as nn\n",
    "import os # dataset\n",
    "import pandas as pd # dataset\n",
    "from PIL import Image # dataset\n",
    "import torchvision.transforms as transforms # train\n",
    "import torch.optim as optim # train\n",
    "import torchvision.transforms.functional as FT # train\n",
    "#from tqdm import tqdm # train\n",
    "from tqdm.notebook import tqdm as tqdm\n",
    "from torch.utils.data import DataLoader # train\n",
    "import numpy as np # box utils\n",
    "import matplotlib.pyplot as plt # box utils\n",
    "import matplotlib.patches as patches # box utils\n",
    "from collections import Counter # box utils\n",
    "\n",
    "from torchvision import models\n",
    "from torchsummary import summary\n",
    "import matplotlib.pyplot as plt\n",
    "import numpy as np"
   ]
  },
  {
   "cell_type": "markdown",
   "id": "2d5c984a-4a21-4107-b047-798355d55c94",
   "metadata": {},
   "source": [
    "<center><img src='fig/YOLO-v1-network.png'><center>"
   ]
  },
  {
   "cell_type": "code",
   "execution_count": 2,
   "id": "f5158d96-ea50-42ea-80fd-645970d36cfa",
   "metadata": {},
   "outputs": [],
   "source": [
    "'''\n",
    "model\n",
    "'''\n",
    "# nout = [(nin + 2*p - k)/s] + 1\n",
    "# nin = number of input features\n",
    "# nout = number of output features\n",
    "# k = convolution kernel size\n",
    "# p = convolution padding size\n",
    "# s = convolution stride size\n",
    "architecture_config = [\n",
    "    # Tuple: (kernel_size, num_filters, stride, padding)\n",
    "    (7, 64, 2, 3), # original size\n",
    "    #(7, 64, 3, (18, 98)), # this was done to keep the 224x224 ratio after this layer\n",
    "    \"M\",\n",
    "    (3, 192, 1, 1),\n",
    "    \"M\",\n",
    "    (1, 128, 1, 0),\n",
    "    (3, 256, 1, 1),\n",
    "    (1, 256, 1, 0),\n",
    "    (3, 512, 1, 1),\n",
    "    \"M\",\n",
    "    # List: two tuples and then last integer represents number of repeats\n",
    "    [(1, 256, 1, 0), (3, 512, 1, 1), 4],\n",
    "    (1, 512, 1, 0),\n",
    "    (3, 1024, 1, 1),\n",
    "    \"M\",\n",
    "    [(1, 512, 1, 0), (3, 1024, 1, 1), 2],\n",
    "    (3, 1024, 1, 1),\n",
    "    (3, 1024, 2, 1),\n",
    "    (3, 1024, 1, 1),\n",
    "    (3, 1024, 1, 1),\n",
    "]\n",
    "\n",
    "# CNN block will be a conv layer, the batch norm and then a relu\n",
    "class CNNBlock(nn.Module):\n",
    "    # our **kwargs will be split_size, num_boxes, num_classes\n",
    "    def __init__(self, in_channels, out_channels, **kwargs):\n",
    "        super(CNNBlock, self).__init__()\n",
    "        # we are going to use batchnorm, so bias = False\n",
    "        self.conv = nn.Conv2d(in_channels, out_channels, bias=False, **kwargs)\n",
    "        self.batchnorm = nn.BatchNorm2d(out_channels)\n",
    "        self.leakyrelu = nn.LeakyReLU(0.1)\n",
    "    \n",
    "    def forward(self, x):\n",
    "        return self.leakyrelu(self.batchnorm(self.conv(x)))\n",
    "\n",
    "# 3 channels because of the bgr images\n",
    "class Yolov1(nn.Module):\n",
    "    def __init__(self, in_channels=3, **kwargs):\n",
    "        super(Yolov1, self).__init__()\n",
    "        # the model in the beginning of this block\n",
    "        self.architecture = architecture_config\n",
    "        # the number of channels of the image\n",
    "        self.in_channels = in_channels\n",
    "        # the conv layers mirror what Redmon did in his darknet\n",
    "        self.darknet = self._create_conv_layers(self.architecture)\n",
    "        # fully connected\n",
    "        self.fcs = self._create_fcs(**kwargs)\n",
    "    \n",
    "    def forward(self, x):\n",
    "        x = self.darknet(x)\n",
    "        # start_dim = 1 to not flatten the number of examples\n",
    "        return self.fcs(torch.flatten(x, start_dim=1))\n",
    "    \n",
    "    def _create_conv_layers(self, architecture):\n",
    "        # all layers will be added in this empty list, created from the architecture\n",
    "        layers = []\n",
    "        in_channels = self.in_channels\n",
    "        \n",
    "        # this will go over every tuple/list in the architecture\n",
    "        for x in architecture:\n",
    "            # for a tuple, we add a CNNBlock\n",
    "            if type(x) == tuple:\n",
    "                # x arguments for a tuple being (kernel_size, num_filters, stride, padding)\n",
    "                # x[0] = kernel_size\n",
    "                # x[1] = num_filters\n",
    "                # x[2] = stride\n",
    "                # x[3] = padding\n",
    "                layers += [CNNBlock(in_channels=in_channels,\n",
    "                                  out_channels=x[1],\n",
    "                                  kernel_size=x[0],\n",
    "                                  stride=x[2],\n",
    "                                  padding=x[3],\n",
    "                                 )\n",
    "                         ]\n",
    "                # in_channels has to change for the next element\n",
    "                # to the format outputted by this tuple\n",
    "                in_channels = x[1]\n",
    "                #print(x[1])\n",
    "                \n",
    "            # for the \"M\" in the architecture a maxpool layer is added\n",
    "            elif type(x) == str:\n",
    "                # kernel_size and stride are both 2x2 and a single argument of 2\n",
    "                # is understood as (2, 2)\n",
    "                layers += [nn.MaxPool2d(kernel_size=2, stride=2)]\n",
    "            \n",
    "            # the lists in the architecture all consist of two tuples and\n",
    "            # a last integer that represents number of repeats\n",
    "            elif type(x) == list:\n",
    "                conv1 = x[0] # tuple\n",
    "                conv2 = x[1] # tuple\n",
    "                num_repeats = x[2] # integer\n",
    "\n",
    "                # the indexes of the tuple elements are the same as the singular tuples:\n",
    "                # conv[0] = kernel_size\n",
    "                # conv[1] = num_filters\n",
    "                # conv[2] = stride\n",
    "                # conv[3] = padding\n",
    "                for _ in range(num_repeats):\n",
    "                    # first we add the first tuple of the list\n",
    "                    layers += [CNNBlock(in_channels=in_channels,\n",
    "                                        out_channels=conv1[1],\n",
    "                                        kernel_size=conv1[0],\n",
    "                                        stride=conv1[2],\n",
    "                                        padding=conv1[3],\n",
    "                                        )\n",
    "                              ]\n",
    "                    # then the second tuple of the list.\n",
    "                    # the in_channels is now the output from the\n",
    "                    # FIRST conv layer, so conv1[1]\n",
    "                    layers += [CNNBlock(in_channels=conv1[1],\n",
    "                                        out_channels=conv2[1],\n",
    "                                        kernel_size=conv2[0],\n",
    "                                        stride=conv2[2],\n",
    "                                        padding=conv2[3],\n",
    "                                        )\n",
    "                              ]\n",
    "                    # we now change in_channels itself to the num_filters\n",
    "                    # of the second tuple, because it will be the input of\n",
    "                    # the first tuple the next time the loop iterates\n",
    "                    in_channels = conv2[1]\n",
    "                    \n",
    "        # we do * to unpack the list, which then will be converted to a nn.Sequential\n",
    "        return nn.Sequential(*layers)\n",
    "    \n",
    "    # the linear fully connected layer with 4096 entries before the final output\n",
    "    def _create_fcs(self, split_size, num_boxes, num_classes):\n",
    "        S, B, C = split_size, num_boxes, num_classes\n",
    "        # this will be reshaped later in the loss function to\n",
    "        # not be linear anymore\n",
    "        return nn.Sequential(nn.Flatten(),\n",
    "                             nn.Linear(1024 * S * S, 4096),\n",
    "                             nn.Dropout(0.0),\n",
    "                             nn.LeakyReLU(0.1),\n",
    "                             nn.Linear(4096, S * S * (C + B * 5))\n",
    "                            )"
   ]
  },
  {
   "cell_type": "markdown",
   "id": "ec387260-7757-4956-be04-6752d5e576ed",
   "metadata": {},
   "source": [
    "<center><img src='fig/iou.png' width=\"600\"><center>"
   ]
  },
  {
   "cell_type": "code",
   "execution_count": 3,
   "id": "9e091407-d14e-4a47-a441-aff078a9c5b7",
   "metadata": {},
   "outputs": [],
   "source": [
    "'''\n",
    "IOU\n",
    "'''\n",
    "\n",
    "def intersection_over_union(boxes_preds, boxes_labels, box_format=\"midpoint\"):\n",
    "    \"\"\"\n",
    "    Calculates intersection over union.\n",
    "    \n",
    "    Parameters:\n",
    "        boxes_preds (tensor): predictions of Bounding Boxes (BATCH_SIZE, 4)\n",
    "        boxes_labels (tensor): correct labels of Bounding Boxes (BATCH_SIZE, 4)\n",
    "        box_format (str): midpoint/corners, if boxes are (x, y, w, h) or (x1, y1, x2, y2)\n",
    "    \n",
    "    Returns:\n",
    "        tensor: intersection over union for all examples\n",
    "    \"\"\"\n",
    "    # boxes_preds shape is (N, 4) where N is the number of bboxes\n",
    "    # boxes_labels shape is (N, 4)\n",
    "    # ... means all the dimensions before the last\n",
    "    # we do this [..., 0:1] thing to slice the tensor\n",
    "    # and keep the N dimensions, so we get (N, 1)\n",
    "    if box_format == \"midpoint\":\n",
    "        # (x, y, w, h)\n",
    "        box1_x1 = boxes_preds[..., 0:1] - boxes_preds[..., 2:3] / 2\n",
    "        box1_y1 = boxes_preds[..., 1:2] - boxes_preds[..., 3:4] / 2\n",
    "        box1_x2 = boxes_preds[..., 0:1] + boxes_preds[..., 2:3] / 2\n",
    "        box1_y2 = boxes_preds[..., 1:2] + boxes_preds[..., 3:4] / 2\n",
    "        box2_x1 = boxes_labels[..., 0:1] - boxes_labels[..., 2:3] / 2\n",
    "        box2_y1 = boxes_labels[..., 1:2] - boxes_labels[..., 3:4] / 2\n",
    "        box2_x2 = boxes_labels[..., 0:1] + boxes_labels[..., 2:3] / 2\n",
    "        box2_y2 = boxes_labels[..., 1:2] + boxes_labels[..., 3:4] / 2\n",
    "        \n",
    "    if box_format == \"corners\":\n",
    "        #(x1, x2, y1, y2)\n",
    "        box1_x1 = boxes_preds[..., 0:1]\n",
    "        box1_y1 = boxes_preds[..., 1:2]\n",
    "        box1_x2 = boxes_preds[..., 2:3]\n",
    "        box1_y2 = boxes_preds[..., 3:4]\n",
    "        box2_x1 = boxes_labels[..., 0:1]\n",
    "        box2_y1 = boxes_labels[..., 1:2]\n",
    "        box2_x2 = boxes_labels[..., 2:3]\n",
    "        box2_y2 = boxes_labels[..., 3:4]    \n",
    "    \n",
    "    # if it's midpoint, we need to do calculations first.\n",
    "    # midpoint gives x and y for the center of the box, then\n",
    "    # also passes the arguments h and w for its height and\n",
    "    # width. Since we are at the center of the object, half\n",
    "    # of width and height is used to find the top, left, right\n",
    "    # and bottoms.\n",
    "    # Reminder that up left corner of an image is x, y = 0.\n",
    "    # top = y - h/2\n",
    "    # bottom = y + h/2\n",
    "    # left = x - w/2\n",
    "    # right = x + w/2\n",
    "    \n",
    "    x1 = torch.max(box1_x1, box2_x1)\n",
    "    y1 = torch.max(box1_y1, box2_y1)\n",
    "    x2 = torch.min(box1_x2, box2_x2)\n",
    "    y2 = torch.min(box1_y2, box2_y2)\n",
    "    \n",
    "    # if they don't intersect, at least one will be 0.\n",
    "    # .clamp(0) is for such edge case, because if they\n",
    "    # don't intersect, the intersection SHOULD be 0.\n",
    "    intersection = (x2 - x1).clamp(0) * (y2 - y1).clamp(0)\n",
    "    \n",
    "    box1_area = abs((box1_x2 - box1_x1) * (box1_y1 - box1_y2))\n",
    "    box2_area = abs((box2_x2 - box2_x1) * (box2_y1 - box2_y2))\n",
    "    \n",
    "    # the union is just the sum of the area of each box minus\n",
    "    # their intersection.\n",
    "    union = (box1_area + box2_area) - intersection\n",
    "    \n",
    "    # that 1e-6 is added for numerical stability\n",
    "    return intersection / (union + 1e-6)\n"
   ]
  },
  {
   "cell_type": "markdown",
   "id": "e3cb97a3-97bb-4523-a08b-538107b84f72",
   "metadata": {},
   "source": [
    "<center><img src='fig/loss.png'><center>"
   ]
  },
  {
   "cell_type": "code",
   "execution_count": 4,
   "id": "d2baee61-819f-4818-9beb-c9eec8c868a9",
   "metadata": {},
   "outputs": [],
   "source": [
    "'''\n",
    "loss\n",
    "'''\n",
    "class YoloLoss(nn.Module):\n",
    "    # our kwargs will be split_size, num_boxes, num_classes, no_obj and coord\n",
    "    def __init__(self, split_size, num_boxes, num_classes, no_obj = 0.5, coord = 5):\n",
    "        super(YoloLoss, self).__init__()\n",
    "        # mean square error is what we use for loss\n",
    "        self.mse = nn.MSELoss(reduction=\"sum\")\n",
    "        self.S = split_size\n",
    "        self.B = num_boxes\n",
    "        self.C = num_classes\n",
    "        # These are from Yolo paper, signifying how much we should\n",
    "        # pay loss for no object (noobj) and the box coordinates (coord)\n",
    "        self.lambda_no_obj = no_obj\n",
    "        self.lambda_coord = coord\n",
    "        \n",
    "    # Target:\n",
    "    # (S, S, [C] + prob_s + [x, y, w, h]) \n",
    "    # = (S, S, C + 5)\n",
    "    # The target only has one box, while YOLO predicts two boxes per cell\n",
    "    # Prediction:\n",
    "    # (S, S, [C] + prob_s1 + [x1, y1, w1, h1] + prob_s2 + [x2, y2, w2, h2])\n",
    "    # = (S, S, C + 10)\n",
    "    def forward(self, predictions, target):\n",
    "        #-1 keeps the number of examples, \n",
    "        predictions = predictions.reshape(-1, self.S, self.S, self.C + self.B * 5)\n",
    "        # (S, S, C + 10)\n",
    "        # the probability score for box1 is at position C, so C+1:C+5 contains the box's [x, y, w, h]\n",
    "        iou_b1 = intersection_over_union(predictions[..., (self.C+1):(self.C+5)], target[..., (self.C+1):(self.C+5)])\n",
    "        # the probability score for box2 is at position C+5, so C+6:C+10 for that box's [x, y, w, h]\n",
    "        iou_b2 = intersection_over_union(predictions[..., (self.C+6):(self.C+10)], target[..., (self.C+1):(self.C+5)])\n",
    "        # torch.unsqueeze adds an additional dimension to the tensor. unsqueze(0) adds that \n",
    "        # before all others, so for example an array of size (5) would become the matrix (1, 5)\n",
    "        # torch.cat concatenates the given sequence of tensors in the given dimension.\n",
    "        # So by first unsqueezing them into (1, <tensor>) before concatenating them in the 0th\n",
    "        # dimension we are ordering the ious sequentially. iou[0] will contain iou_b1 and iou[1]\n",
    "        # will contain iou_b2. You can't concatenate tensors if you don't add that extra dimension\n",
    "        # first.\n",
    "        ious = torch.cat([iou_b1.unsqueeze(0), iou_b2.unsqueeze(0)], dim=0)\n",
    "        # torch.max returns the result tuple of two output tensors (max, max_indices).\n",
    "        # what interest us is the best_box, not the max values from iou_maxes. This box\n",
    "        # is the iou responsible for that cell.\n",
    "        iou_maxes, best_box = torch.max(ious, dim=0)\n",
    "        # we want the probability of an object being there, which is stored at index C,\n",
    "        # after the individual class probabilities that are from 0 to C-1. This value is\n",
    "        # 0 or 1 depending if there is an object in that cell.\n",
    "        # This gives the identity function Iobj_i used in the first and fifth lines of the image.\n",
    "        # Unsqueeze is used because when acessing the Cth index, the last dimension disappears. We\n",
    "        # want to add that back.\n",
    "        exists_box = target[..., self.C].unsqueeze(3) # Iobj_i\n",
    "        #print(exists_box)\n",
    "        \n",
    "        # =================== #\n",
    "        # FOR BOX COORDINATES #\n",
    "        # =================== #\n",
    "        # lines 1 and 2 of the equations\n",
    "        \n",
    "        # best box will be 0 if box1 was correct and 1, if box2 was. We use\n",
    "        # this property to zero the tensor that has the dimensions of the wrong\n",
    "        # box, by multiplyer bext_box with [x2, y2, w2, h2] and (1 - best_box) \n",
    "        # with [x1, y1, w1, h1]. \n",
    "        # exists_box multiplies this all so predictions are only considered if THERE\n",
    "        # is a box in the first place from the \"objectness\" property.\n",
    "        box_predictions = exists_box * ((        best_box * predictions[..., (self.C+6):(self.C+10)]\n",
    "                                        + (1 - best_box) * predictions[..., (self.C+1):(self.C+5)]\n",
    "                                       ))\n",
    "        # same exists_box thing with target, but target only has one box.\n",
    "        box_targets = exists_box * target[..., (self.C+1):(self.C+5)]\n",
    "        \n",
    "        # after the previous two lines, box_predictions and box_targets now contain tensors\n",
    "        # of shape (N, S, S, 4), N being the number of input examples. By indexing [..., 2:4]\n",
    "        # we are looking at [w, h] from [x, y, w, h] for the SxS cells of each example.\n",
    "        # torch.sign is used to get the sign of the gradient, then the sqrt is taken from the\n",
    "        # absolute value because the values could be negative. If the result of the sqrt is\n",
    "        # zero, the derivative can go to infinity, so 1e-6 is used for numerical stability.\n",
    "        box_predictions[..., 2:4] = (torch.sign(box_predictions[..., 2:4]) *\n",
    "                                    torch.sqrt(torch.abs(box_predictions[..., 2:4] + 1e-6))\n",
    "                                    )\n",
    "            \n",
    "        # for the target, the sqrt can't be negative nor zero so just take it directly.\n",
    "        box_targets[..., 2:4] = torch.sqrt(box_targets[..., 2:4])\n",
    "        \n",
    "        # this is flattened for the input expected by mean square error function:\n",
    "        # (N, S, S, 4) -> (N*S*S, 4).\n",
    "        # end_dim = -2 flattens everything that is not the 4.\n",
    "        # the mse here is applied on the entirety of [x, y, sqrt(w), sqrt(h)],\n",
    "        # so by passing the tensor here, for each cell of each example the mse is\n",
    "        # done for their respective x, y, sqrt(w) and sqrt(h) accordingly.\n",
    "        box_loss = self.mse(torch.flatten(box_predictions, end_dim=-2),\n",
    "                                          torch.flatten(box_targets, end_dim=-2),\n",
    "                           )\n",
    "\n",
    "        # =============== #\n",
    "        # FOR OBJECT LOSS #\n",
    "        # =============== #\n",
    "        # line 3 of the equations\n",
    "        \n",
    "        # the slicing of 1 term is made to keep the dimensions of the tensor.\n",
    "        # C contains de object probability (0 or 1) for box1, while C+5 contains\n",
    "        # the object probability for box2. \n",
    "        # This line will leave only the box that is responsible for the predictions.\n",
    "        pred_box = (        best_box * predictions[..., (self.C+5):(self.C+6)] \n",
    "                    + (1 - best_box) * predictions[..., (self.C):(self.C+1)]\n",
    "                   )\n",
    "        # flatten is again used to get the expected input by mse, which is:\n",
    "        # (N*S*S, 1). The exists_box is the identity Iobj from before.\n",
    "        # Object loss is just the mean square error of the responsible box's\n",
    "        # \"objectness\" IF the box exists.\n",
    "        object_loss = self.mse(torch.flatten(exists_box * pred_box),\n",
    "                               torch.flatten(exists_box * target[..., self.C:(self.C+1)]),\n",
    "                              )\n",
    "        # ================== #\n",
    "        # FOR NO OBJECT LOSS #\n",
    "        # ================== #\n",
    "        # line 4 of the equations\n",
    "        \n",
    "        # I have no idea why this flatten is made with start_dim = 1 but the previous one wasn't.\n",
    "        # something to do with (N, S, S, 1) -> (N, S*S).\n",
    "        # this line does the mse for box1.\n",
    "        no_object_loss = self.mse(\n",
    "            torch.flatten((1 - exists_box) * predictions[..., self.C:(self.C+1)], start_dim=1),\n",
    "            torch.flatten((1 - exists_box) * target[..., self.C:(self.C+1)], start_dim=1),\n",
    "        )\n",
    "\n",
    "        no_object_loss += self.mse(\n",
    "            torch.flatten((1 - exists_box) * predictions[..., (self.C+5):(self.C+6)], start_dim=1),\n",
    "            torch.flatten((1 - exists_box) * target[..., self.C:(self.C+1)], start_dim=1)\n",
    "        )\n",
    "        # ============== #\n",
    "        # FOR CLASS LOSS #\n",
    "        # ============== #\n",
    "        # line 5 of the equations\n",
    "        \n",
    "        # class loss uses the class probability for each class, so the tensor\n",
    "        # goes from 0 to C-1. That's why we use :C. \n",
    "        # end_dim = -2 is used for:\n",
    "        # (N, S, S, C) -> (N*S*S, C)\n",
    "        class_loss = self.mse(\n",
    "            torch.flatten(exists_box * predictions[..., :self.C], end_dim=-2,),\n",
    "            torch.flatten(exists_box * target[..., :self.C], end_dim=-2,),\n",
    "        )\n",
    "\n",
    "        #| ========||#\n",
    "        # FINAL LOSS #\n",
    "        #||========|_#\n",
    "        \n",
    "        loss = (self.lambda_coord * box_loss # first two rows of loss in paper \n",
    "                + object_loss # third row. Notice that there is no lambda      \n",
    "                + self.lambda_no_obj * no_object_loss # fourth row             \n",
    "                + class_loss # fifth row. No lambda either                     \n",
    "                )\n",
    "        \n",
    "        return loss"
   ]
  },
  {
   "cell_type": "markdown",
   "id": "64f15933-7d62-43fa-8252-b15d37e39185",
   "metadata": {},
   "source": [
    "The dataset is organized in two folders: an images folder and a labels folder. \n",
    "\n",
    "The images are standard .jpg files with three channels BGR. Take care to not mix different representations, like thermal images with standard images, train the network with one or the other.\n",
    "\n",
    "The labels consist of .txt files that contains the data for each box present in the image: class label of the object the boss represents (int), box's horizontal relative to the whole image (float), box's vertical relative to the whole image (float), box's width relative to the whole image (float) and box's height relative to the whole image (float).\n",
    "\n",
    "For example:\n",
    "\n",
    "| | | | | |\n",
    "|-|-|-|-|-|\n",
    "| 11   | 0.341926346090654 | 0.611  | 0.4164305949008499  | 0.262 |\n",
    "| 14   | 0.509915014164306 | 0.51   | 0.9745042492917847  | 0.972 |\n",
    "\n",
    "Two .csv files are used to load the files' locations into the program: train.csv and test.csv. Those files consist of two columns, the first with the name of the image and the second with the name of the label file associated with that image. Do note that only the file names should be there, not their full path.\n",
    "\n",
    "For example:\n",
    "\n",
    "| | | \n",
    "|-|-|\n",
    "| FLIR0045.jpg | FLIR0045.txt  |\n",
    "| FLIR0046.jpg | FLIR0046.txt  |"
   ]
  },
  {
   "cell_type": "code",
   "execution_count": 5,
   "id": "2cd9980c-df62-4168-909a-14bab89a61e3",
   "metadata": {},
   "outputs": [],
   "source": [
    "'''\n",
    "dataset\n",
    "This class loads ONE example that will be used by an efficient data pipeline\n",
    "to batch everything later.\n",
    "'''\n",
    "class VOCDataset(torch.utils.data.Dataset):\n",
    "    def __init__ (self, csv_file, img_dir, label_dir, split_size, num_boxes, num_classes, transform=None):\n",
    "        self.annotations = pd.read_csv(csv_file)\n",
    "        self.img_dir = img_dir\n",
    "        self.label_dir = label_dir\n",
    "        self.transform = transform\n",
    "        self.S = split_size\n",
    "        self.B = num_boxes\n",
    "        self.C = num_classes\n",
    "        \n",
    "    def __len__(self):\n",
    "        return len(self.annotations)\n",
    "    \n",
    "    def __getitem__(self, index):\n",
    "        # the second colum is where the text files are\n",
    "        label_path = os.path.join(self.label_dir, self.annotations.iloc[index, 1])\n",
    "        boxes = []\n",
    "        with open(label_path) as f:\n",
    "            for label in f.readlines():\n",
    "                # the class is an integer, but x, y, w and h aren't.\n",
    "                # so we compare float(x) with int(float(x)) to catch\n",
    "                # if the variable being read is a class label or\n",
    "                # an actual float.\n",
    "                # what is being read is a string in the first place,\n",
    "                # that's why it has to be typecast fo float or int.\n",
    "                class_label, x, y, width, height = [\n",
    "                    float(x) if\n",
    "                        float(x) != int(float(x)) else \n",
    "                    int(float(x)) for\n",
    "                        x in label.replace(\"\\n\", \"\").split()\n",
    "                ]\n",
    "                \n",
    "                boxes.append([class_label, x, y, width, height])\n",
    "                \n",
    "        # the first column is where the image files are\n",
    "        img_path = os.path.join(self.img_dir, self.annotations.iloc[index, 0])\n",
    "        image = Image.open(img_path) # we are using PIL to open\n",
    "        # the images are converted to a tensor for the sake of doing\n",
    "        #  transformations with Pytorch if needed.\n",
    "        boxes = torch.tensor(boxes)\n",
    "        \n",
    "        # transform is used if we are doing data augmentation\n",
    "        if self.transform:\n",
    "            image, boxes = self.transform(image, boxes)\n",
    "        # the annotated images will only have ONE bounding box per cell, so\n",
    "        # only C + 5 [0:C-1 (class probabilities), objectness, x, y, w, h].\n",
    "        # The *self.B is only there to match the size of the tensor in other\n",
    "        # parts of the code, they don't contain any data for now.\n",
    "        label_matrix = torch.zeros((self.S, self.S, self.C + 5 * self.B))\n",
    "\n",
    "        # we need to convert everything to fit this label matrix. The\n",
    "        # bounding boxes in the read images are relative to the entire\n",
    "        # image, but YOLO needs the boxes relative to cells, so a\n",
    "        # a conversion is necessary.\n",
    "        for box in boxes:\n",
    "            # after the transformation, the boxes are converted\n",
    "            # to list again.\n",
    "            class_label, x, y, width, height = box.tolist()       \n",
    "            # this is to make absolute sure the class_label IS an int\n",
    "            class_label = int(class_label)\n",
    "            # we need to see which cell row and cell column each box belongs to.\n",
    "            # to convert this, we multiply the values by the number of cells S to\n",
    "            # escale it appropriately, then by taking the intenger of that the \n",
    "            # number is rounded down to the row i for y and column j for x that\n",
    "            # the box belongs to.\n",
    "            i = int(self.S * y) # row it belongs to\n",
    "            j = int(self.S * x) # column it belongs to            \n",
    "            # the x and y relative to the cell are obtained by subtracting the\n",
    "            # column for x and row for y from the x and y values that got escaled \n",
    "            # by S. In doing so, we only get the decimal part between 0 and 1 \n",
    "            # that indicates where in the cell the centerpoints are.\n",
    "            x_cell = self.S * x - j\n",
    "            y_cell = self.S * y - i\n",
    "            # the original width and height values were relative to the entire\n",
    "            # image, so to get them relative to the cell we just multiply them\n",
    "            # by the number of cells S we split it by.\n",
    "            width_cell  = width*self.S\n",
    "            height_cell = height*self.S\n",
    "            # the objectness is used to determine if there is an object\n",
    "            # in [i, j]. If there is currently no object there (0), we\n",
    "            # are going to use it.\n",
    "            if label_matrix[i, j, self.C] == 0:\n",
    "                label_matrix[i, j, self.C] = 1\n",
    "                # the boox coordinates are now converted to tensor\n",
    "                box_coordinates = torch.tensor([x_cell, y_cell, width_cell, height_cell])\n",
    "                # then added to their position (C+1:C+5) in the label_matrix, this is after\n",
    "                # the class probabibilites and the objectness.\n",
    "                label_matrix[i, j, (self.C+1):(self.C+5)] = box_coordinates\n",
    "                # this sets the index of the class label to 1, to signify\n",
    "                # what class the box represents.\n",
    "                label_matrix[i, j, class_label] = 1\n",
    "                \n",
    "        return image, label_matrix"
   ]
  },
  {
   "cell_type": "markdown",
   "id": "f1198d71-2438-4050-9963-6ed4a3995e52",
   "metadata": {},
   "source": [
    " <center><img src='fig/nonmax-1.png' width=\"600\"><center>\n",
    "\n",
    "Every bounding box has a probability score between 0 and 1 for each class independently that corresponds to how likely it is that there is an object of that class in that bounding box. Non-max suppression means that we choose the box with the highest probability score.\n",
    "\n",
    "The intersection of union is used between this box that has the highest probability score and other overlapping boxes. If the IOU returns a value that is higher than a certain threshold, those other overlapping boxes are removed."
   ]
  },
  {
   "cell_type": "code",
   "execution_count": 6,
   "id": "3778440a-d796-47aa-ac13-44fade9b69a8",
   "metadata": {},
   "outputs": [],
   "source": [
    "'''\n",
    "non max supression\n",
    "'''\n",
    "\n",
    "def non_max_suppression(bboxes, iou_threshold, threshold, box_format=\"corners\"):\n",
    "    \"\"\"\n",
    "    Does Non Max Suppression given bboxes, cleaning up overlapping bounding boxes.\n",
    "    Parameters:\n",
    "        bboxes (list): list of lists containing all bboxes with each bboxes\n",
    "        specified as [class_pred, prob_score, x1, y1, x2, y2]\n",
    "        iou_threshold (float): threshold where predicted bboxes is correct\n",
    "        threshold (float): threshold to remove predicted bboxes (independent of IoU) \n",
    "        box_format (str): \"midpoint\" or \"corners\" used to specify bboxes\n",
    "    Returns:\n",
    "        list: bboxes after performing NMS given a specific IoU threshold\n",
    "    \"\"\"\n",
    "    \n",
    "    # bboxes = [[class_label, class_probability, x, y, w, h]]\n",
    "    # the bboxes parameter has to be a list for this to work.\n",
    "    assert type(bboxes) == list\n",
    "    \n",
    "    # this only keeps the boxes that have probability above a given threshold.\n",
    "    # a low probability of containing that class' object is immediately pruned.\n",
    "    bboxes = [box for box in bboxes if box[1] > threshold]\n",
    "    # this sorts the bounding boxes with the highest probability at the beginning.\n",
    "    # we want to choose the box with the highest probability first.\n",
    "    bboxes = sorted(bboxes, key=lambda x: x[1], reverse=True)\n",
    "    # empty list that will store the bounding boxes after the nms.\n",
    "    bboxes_after_nms = []\n",
    "\n",
    "    while bboxes:\n",
    "        # this pops the box with the highest score\n",
    "        chosen_box = bboxes.pop(0)\n",
    "        \n",
    "        # this updates the list of the bounding boxes\n",
    "        bboxes = [\n",
    "            box\n",
    "            for box in bboxes\n",
    "            # if the class of the box is not the same as the class of the\n",
    "            # chosen box, we don't want to compare them. So just for that\n",
    "            # condition, we want to keep that bounding box to be tested\n",
    "            # with its respective class later.\n",
    "            if box[0] != chosen_box[0]\n",
    "            # if they are the same class, we want to compare them.\n",
    "            or intersection_over_union(\n",
    "                # 2: because we are only passing the [x, y, w, h] params\n",
    "                torch.tensor(chosen_box[2:]),\n",
    "                torch.tensor(box[2:]),\n",
    "                box_format=box_format,\n",
    "                ) < iou_threshold\n",
    "        ]\n",
    "\n",
    "        bboxes_after_nms.append(chosen_box)\n",
    "\n",
    "    return bboxes_after_nms"
   ]
  },
  {
   "cell_type": "markdown",
   "id": "e5dd4dcb-59f9-4baf-bc8d-7a51200f1bd1",
   "metadata": {},
   "source": [
    "<center> <img src='fig/mAP.png' width=\"600\"> <center>\n",
    "    \n",
    "The mean average precision is the most common metric used in deep learning to evaluate object detection models.\n",
    "    \n",
    "<center> <img src='fig/pre_rec.png' width=\"600\"> <center>"
   ]
  },
  {
   "cell_type": "code",
   "execution_count": 7,
   "id": "3bd43388-6741-4ad8-8ee3-2509067f02c1",
   "metadata": {},
   "outputs": [],
   "source": [
    "'''\n",
    "mean average precision\n",
    "'''\n",
    "\n",
    "def mean_average_precision(pred_boxes, true_boxes, num_classes, iou_threshold=0.5, box_format=\"midpoint\"):\n",
    "    \"\"\"\n",
    "    Calculates mean average precision \n",
    "    Parameters:\n",
    "        pred_boxes (list): list of lists containing all bboxes with each bboxes\n",
    "        specified as [train_idx, class_prediction, prob_score, x1, y1, x2, y2]\n",
    "        true_boxes (list): Similar as pred_boxes except all the correct ones \n",
    "        iou_threshold (float): threshold where predicted bboxes is correct\n",
    "        box_format (str): \"midpoint\" or \"corners\" used to specify bboxes\n",
    "        num_classes (int): number of classes\n",
    "    Returns:\n",
    "        float: mAP value across all classes given a specific IoU threshold \n",
    "    \"\"\"\n",
    "\n",
    "    # list storing all AP for respective classes\n",
    "    average_precisions = []\n",
    "\n",
    "    # used for numerical stability later on\n",
    "    epsilon = 1e-6\n",
    "\n",
    "    for c in range(num_classes):\n",
    "        detections = []\n",
    "        ground_truths = []\n",
    "\n",
    "        # Go through all predictions and targets,\n",
    "        # and only add the ones that belong to the\n",
    "        # current class c\n",
    "        for detection in pred_boxes:\n",
    "            if detection[1] == c:\n",
    "                detections.append(detection)\n",
    "\n",
    "        for true_box in true_boxes:\n",
    "            if true_box[1] == c:\n",
    "                ground_truths.append(true_box)\n",
    "\n",
    "        # find the amount of bboxes for each training example\n",
    "        # Counter here finds how many ground truth bboxes we get\n",
    "        # for each training example, so let's say img 0 has 3,\n",
    "        # img 1 has 5 then we will obtain a dictionary with:\n",
    "        # amount_bboxes = {0:3, 1:5}\n",
    "        amount_bboxes = Counter([gt[0] for gt in ground_truths])\n",
    "\n",
    "        # We then go through each key, val in this dictionary\n",
    "        # and convert to the following (w.r.t same example):\n",
    "        # ammount_bboxes = {0:torch.tensor[0,0,0], 1:torch.tensor[0,0,0,0,0]}\n",
    "        for key, val in amount_bboxes.items():\n",
    "            amount_bboxes[key] = torch.zeros(val)\n",
    "\n",
    "        # sort by box probabilities which is index 2\n",
    "        detections.sort(key=lambda x: x[2], reverse=True)\n",
    "        TP = torch.zeros((len(detections)))\n",
    "        FP = torch.zeros((len(detections)))\n",
    "        total_true_bboxes = len(ground_truths)\n",
    "        \n",
    "        # If none exists for this class then we can safely skip\n",
    "        if total_true_bboxes == 0:\n",
    "            continue\n",
    "\n",
    "        for detection_idx, detection in enumerate(detections):\n",
    "            # Only take out the ground_truths that have the same\n",
    "            # training idx as detection\n",
    "            ground_truth_img = [\n",
    "                bbox for bbox in ground_truths if bbox[0] == detection[0]\n",
    "            ]\n",
    "\n",
    "            num_gts = len(ground_truth_img)\n",
    "            best_iou = 0\n",
    "\n",
    "            for idx, gt in enumerate(ground_truth_img):\n",
    "                iou = intersection_over_union(\n",
    "                    torch.tensor(detection[3:]),\n",
    "                    torch.tensor(gt[3:]),\n",
    "                    box_format=box_format,\n",
    "                )\n",
    "\n",
    "                if iou > best_iou:\n",
    "                    best_iou = iou\n",
    "                    best_gt_idx = idx\n",
    "\n",
    "            if best_iou > iou_threshold:\n",
    "                # only detect ground truth detection once\n",
    "                if amount_bboxes[detection[0]][best_gt_idx] == 0:\n",
    "                    # true positive and add this bounding box to seen\n",
    "                    TP[detection_idx] = 1\n",
    "                    amount_bboxes[detection[0]][best_gt_idx] = 1\n",
    "                else:\n",
    "                    FP[detection_idx] = 1\n",
    "\n",
    "            # if IOU is lower then the detection is a false positive\n",
    "            else:\n",
    "                FP[detection_idx] = 1\n",
    "\n",
    "        TP_cumsum = torch.cumsum(TP, dim=0)\n",
    "        FP_cumsum = torch.cumsum(FP, dim=0)\n",
    "        recalls = TP_cumsum / (total_true_bboxes + epsilon)\n",
    "        precisions = torch.divide(TP_cumsum, (TP_cumsum + FP_cumsum + epsilon))\n",
    "        precisions = torch.cat((torch.tensor([1]), precisions))\n",
    "        recalls = torch.cat((torch.tensor([0]), recalls))\n",
    "        # torch.trapz for numerical integration\n",
    "        average_precisions.append(torch.trapz(precisions, recalls))\n",
    "\n",
    "    return sum(average_precisions) / len(average_precisions)"
   ]
  },
  {
   "cell_type": "code",
   "execution_count": 8,
   "id": "5c6acc24-745a-423c-b245-e3a8ce1c6bd3",
   "metadata": {},
   "outputs": [],
   "source": [
    "'''\n",
    "box utils. Those functions are responsible for converting the bounding boxes.\n",
    "'''\n",
    "\n",
    "def cellboxes_to_boxes(out, S, B, C):\n",
    "    '''\n",
    "    converts the bounding boxes relative to the cell to be relative to the entire image.\n",
    "    Parameters:\n",
    "        out (list): list with the boxes relative to their cell.\n",
    "        S (int): the dimension of the grid used for the cells.\n",
    "    Returns: \n",
    "        list: list with the x, y, w and h relative to the entire image.\n",
    "    '''\n",
    "    converted_pred = convert_cellboxes(out, S=S, B=B, C=C).reshape(out.shape[0], S * S, -1)\n",
    "    converted_pred[..., 0] = converted_pred[..., 0].long()\n",
    "    all_bboxes = []\n",
    "\n",
    "    for ex_idx in range(out.shape[0]):\n",
    "        bboxes = []\n",
    "\n",
    "        for bbox_idx in range(S * S):\n",
    "            bboxes.append([x.item() for x in converted_pred[ex_idx, bbox_idx, :]])\n",
    "        all_bboxes.append(bboxes)\n",
    "\n",
    "    return all_bboxes\n",
    "\n",
    "def convert_cellboxes(predictions, S, B, C):\n",
    "    \"\"\"\n",
    "    Converts bounding boxes output from Yolo with\n",
    "    an image split size of S into entire image ratios\n",
    "    rather than relative to cell ratios. Tried to do this\n",
    "    vectorized, but this resulted in quite difficult to read\n",
    "    code... Use as a black box? Or implement a more intuitive,\n",
    "    using 2 for loops iterating range(S) and convert them one\n",
    "    by one, resulting in a slower but more readable implementation.\n",
    "    \"\"\"\n",
    "\n",
    "    predictions = predictions.to(\"cpu\")\n",
    "    batch_size = predictions.shape[0]\n",
    "    predictions = predictions.reshape(batch_size, S, S, C + B * 5)\n",
    "    bboxes1 = predictions[..., (C+1):(C+5)]\n",
    "    bboxes2 = predictions[..., (C+6):(C+10)]\n",
    "    scores = torch.cat(\n",
    "        (predictions[..., C].unsqueeze(0), predictions[..., (C+5)].unsqueeze(0)), dim=0\n",
    "    )\n",
    "    best_box = scores.argmax(0).unsqueeze(-1)\n",
    "    best_boxes = bboxes1 * (1 - best_box) + best_box * bboxes2\n",
    "    cell_indices = torch.arange(S).repeat(batch_size, S, 1).unsqueeze(-1)\n",
    "    x = 1 / S * (best_boxes[..., :1] + cell_indices)\n",
    "    y = 1 / S * (best_boxes[..., 1:2] + cell_indices.permute(0, 2, 1, 3))\n",
    "    w_y = 1 / S * best_boxes[..., 2:4]\n",
    "    converted_bboxes = torch.cat((x, y, w_y), dim=-1)\n",
    "    predicted_class = predictions[..., :C].argmax(-1).unsqueeze(-1)\n",
    "    best_confidence = torch.max(predictions[..., C], predictions[..., (C+5)]).unsqueeze(-1)\n",
    "                                \n",
    "    converted_preds = torch.cat(\n",
    "                                (predicted_class,\n",
    "                                 best_confidence,\n",
    "                                 converted_bboxes\n",
    "                                ),\n",
    "                                dim=-1\n",
    "                               )\n",
    "\n",
    "    return converted_preds\n",
    "\n",
    "def get_bboxes(loader,\n",
    "               model,\n",
    "               iou_threshold,\n",
    "               threshold,\n",
    "               split_size,\n",
    "               num_boxes,\n",
    "               num_classes,\n",
    "               pred_format=\"cells\",\n",
    "               box_format=\"midpoint\",\n",
    "               device=\"cuda\",\n",
    "              ):\n",
    "    all_pred_boxes = []\n",
    "    all_true_boxes = []\n",
    "\n",
    "    # make sure model is in eval before get bboxes\n",
    "    model.eval()\n",
    "    train_idx = 0\n",
    "\n",
    "    for batch_idx, (x, labels) in enumerate(loader):\n",
    "        x = x.to(device)\n",
    "        labels = labels.to(device)\n",
    "\n",
    "        with torch.no_grad():\n",
    "            predictions = model(x)\n",
    "\n",
    "        batch_size = x.shape[0]\n",
    "        true_bboxes = cellboxes_to_boxes(out = labels, S = split_size, B = num_boxes, C = num_classes)\n",
    "        bboxes = cellboxes_to_boxes(out = predictions, S = split_size, B = num_boxes, C = num_classes)\n",
    "\n",
    "        for idx in range(batch_size):\n",
    "            nms_boxes = non_max_suppression(\n",
    "                bboxes = bboxes[idx],\n",
    "                iou_threshold=iou_threshold,\n",
    "                threshold=threshold,\n",
    "                box_format=box_format,\n",
    "            )\n",
    "\n",
    "\n",
    "            #if batch_idx == 0 and idx == 0:\n",
    "            #    plot_image(x[idx].permute(1,2,0).to(\"cpu\"), nms_boxes)\n",
    "            #    print(nms_boxes)\n",
    "\n",
    "            for nms_box in nms_boxes:\n",
    "                all_pred_boxes.append([train_idx] + nms_box)\n",
    "\n",
    "            for box in true_bboxes[idx]:\n",
    "                # many will get converted to 0 pred\n",
    "                if box[1] > threshold:\n",
    "                    all_true_boxes.append([train_idx] + box)\n",
    "\n",
    "            train_idx += 1\n",
    "\n",
    "    model.train()\n",
    "    return all_pred_boxes, all_true_boxes\n",
    "\n",
    "class early_stopping():\n",
    "    \"\"\"\n",
    "    Early stopping to stop the training when the loss does not improve after\n",
    "    a certain amount of epochs.\n",
    "    \"\"\"\n",
    "    def __init__(self, patience, min_delta):\n",
    "        \"\"\"\n",
    "        :param patience: how many epochs to wait before stopping when loss is\n",
    "               not improving\n",
    "        :param min_delta: minimum difference between new loss and old loss for\n",
    "               new loss to be considered as an improvement\n",
    "        \"\"\"\n",
    "        self.patience = patience\n",
    "        self.min_delta = min_delta\n",
    "        self.counter = 0\n",
    "        self.best_loss = None\n",
    "        self.early_stop = False\n",
    "\n",
    "    def __call__(self, val_loss):\n",
    "        if self.best_loss == None:\n",
    "            self.best_loss = val_loss\n",
    "        elif self.best_loss - val_loss > self.min_delta:\n",
    "            self.best_loss = val_loss\n",
    "        elif self.best_loss - val_loss < self.min_delta:\n",
    "            self.counter += 1\n",
    "            print(f\"INFO: Early stopping counter {self.counter} of {self.patience}\")\n",
    "            if self.counter >= self.patience:\n",
    "                print('INFO: Early stopping')\n",
    "                self.early_stop = True\n"
   ]
  },
  {
   "cell_type": "code",
   "execution_count": 9,
   "id": "cecbe6e6-b3ce-4ec2-9139-2a617fddae72",
   "metadata": {},
   "outputs": [],
   "source": [
    "'''\n",
    "plot functions\n",
    "'''\n",
    "# this is the function that I need to change to be able to plot\n",
    "# the class names\n",
    "def plot_image(image, boxes):\n",
    "    \"\"\"Plots predicted bounding boxes on the image\"\"\"\n",
    "    im = np.array(image)\n",
    "    height, width, _ = im.shape\n",
    "\n",
    "    # Create figure and axes\n",
    "    fig, ax = plt.subplots(1)\n",
    "    # Display the image\n",
    "    ax.imshow(im)\n",
    "\n",
    "    # box[0] is x midpoint, box[2] is width\n",
    "    # box[1] is y midpoint, box[3] is height\n",
    "\n",
    "    # Create a Rectangle potch\n",
    "    for box in boxes:\n",
    "        # the class name is obtained using the class index\n",
    "        class_name = CLASSES[int(box[0])]\n",
    "        class_prob = \"{:.3f}\".format(box[1])\n",
    "        box = box[2:]\n",
    "        assert len(box) == 4, \"Got more values than in x, y, w, h, in a box!\"\n",
    "        upper_left_x = box[0] - box[2] / 2\n",
    "        upper_left_y = box[1] - box[3] / 2\n",
    "        rect = patches.Rectangle(\n",
    "            (upper_left_x * width, upper_left_y * height),\n",
    "            box[2] * width,\n",
    "            box[3] * height,\n",
    "            linewidth=1,\n",
    "            edgecolor=\"r\",\n",
    "            facecolor=\"none\",\n",
    "        )\n",
    "        # Add the patch to the Axes\n",
    "        ax.add_patch(rect)\n",
    "        ax.text(upper_left_x*width, upper_left_y*height, class_name, color=\"r\")\n",
    "        ax.text(upper_left_x*width, upper_left_y*height - 20, class_prob, color=\"r\")\n",
    "\n",
    "    plt.show()\n",
    "    \n",
    "def loss_graph():\n",
    "    fig, ax = plt.subplots(facecolor='white')\n",
    "    epochs = [i for i in range(0, len(val_loss))]\n",
    "    plt.plot(epochs, val_loss, 'b--', label = 'Validation loss')\n",
    "    plt.plot(epochs, train_loss, 'r--', label = 'Training loss')\n",
    "    plt.axvline(x=loss_checkpoint, color='black', linestyle='--', label = f'Val loss checkpoint (patience = {VAL_LOSS_PATIENCE})')\n",
    "    plt.axvline(x=mAP_checkpoint, color='gray', linestyle='--', label = 'Train mAP checkpoint (mAP >= 0.9)')\n",
    "    ax.set(xlabel='Epochs', ylabel='Loss', title=\"Loss x Epochs\")\n",
    "    ax.grid()\n",
    "    plt.legend()\n",
    "    fig.savefig(\"Loss x Epochs - Training vs Validation\" + GRAPH_NAME + \".png\")\n",
    "    plt.show()\n",
    "    \n",
    "def mAP_graph():\n",
    "    fig, ax = plt.subplots(facecolor='white')\n",
    "    epochs = [i for i in range(0, len(val_mAP))]\n",
    "    plt.plot(epochs, val_mAP, 'b--', label = 'Validation mAP')\n",
    "    plt.plot(epochs, train_mAP, 'r--', label = 'Training mAP')\n",
    "    plt.axvline(x=loss_checkpoint, color='black', linestyle='--', label = f'Val mAP checkpoint (patience = {VAL_LOSS_PATIENCE})')\n",
    "    plt.axvline(x=mAP_checkpoint, color='gray', linestyle='--', label = 'Train mAP checkpoint (mAP >= 0.9)')\n",
    "    ax.set(xlabel='Epochs', ylabel='mAP', title=\"mAP x Epochs\")\n",
    "    ax.grid()\n",
    "    plt.legend()\n",
    "    fig.savefig(\"mAP x Epochs - Training vs Validation\" + GRAPH_NAME + \".png\")\n",
    "    plt.show()"
   ]
  },
  {
   "cell_type": "code",
   "execution_count": 10,
   "id": "c4296a10-2967-41a8-a4be-4175fafac650",
   "metadata": {},
   "outputs": [],
   "source": [
    "'''\n",
    "checkpoint functions\n",
    "'''\n",
    "def save_checkpoint(state, filename=\"final.pth.tar\"):\n",
    "    print(\"=> Saving checkpoint\")\n",
    "    torch.save(state, filename)\n",
    "\n",
    "\n",
    "def load_checkpoint(checkpoint, model, optimizer):\n",
    "    print(\"=> Loading checkpoint\")\n",
    "    model.load_state_dict(checkpoint[\"state_dict\"])\n",
    "    optimizer.load_state_dict(checkpoint[\"optimizer\"])"
   ]
  },
  {
   "cell_type": "code",
   "execution_count": 11,
   "id": "7a667dbc-f6f4-4ec0-9aaa-2235263f5585",
   "metadata": {
    "scrolled": true,
    "tags": []
   },
   "outputs": [],
   "source": [
    "'''\n",
    "train\n",
    "'''\n",
    "# to always load the same dataset\n",
    "seed = 123\n",
    "torch.manual_seed(seed)\n",
    "\n",
    "# Hyperparameters etc.\n",
    "#LEARNING_RATE = 2e-5\n",
    "#LEARNING_RATE = 0.0013\n",
    "LEARNING_RATE = 2e-5\n",
    "DEVICE = \"cuda\" if torch.cuda.is_available() else \"cpu\"\n",
    "BATCH_SIZE = 32\n",
    "# dropout and weight decay are both 0 here for now, but\n",
    "# we need to change them to something else if we intend \n",
    "# to actually train the model, use data augmentation and\n",
    "# and whatnot.\n",
    "# We put weight_decay to 0 to OVERFIT the image on purpose,\n",
    "# just to check if the model IS working as intended.\n",
    "#WEIGHT_DECAY = 0\n",
    "WEIGHT_DECAY = 0.0005\n",
    "# WIDTH and HEIGHT must be multiples of 7?\n",
    "WIDTH = 448 # 640\n",
    "HEIGHT = 448 # 480 \n",
    "EPOCHS = 200\n",
    "NUM_WORKERS = 0 # I'd use 2 if the computer allowed.\n",
    "PIN_MEMORY = True\n",
    "LOAD_MODEL = False\n",
    "LOAD_MODEL_FILE = \"aug_448x448_save.pth.tar\"\n",
    "SAVE_MODEL_FILE = \"aug_448x448\"\n",
    "#LOAD_MODEL_FILE = \"640x480_save.pth.tar\"\n",
    "#SAVE_MODEL_FILE = \"640x480\"\n",
    "GRAPH_NAME = \"for 448x448 aug input\"\n",
    "IMG_DIR = \"./Data/aug_images/\"\n",
    "LABEL_DIR = \"./Data/aug_labels/\"\n",
    "NUM_BOXES = 2\n",
    "SPLIT_SIZE = 7\n",
    "NUM_CLASSES = 4\n",
    "VAL_LOSS_PATIENCE = 50 # 30 was too low, maybe 50 next time?\n",
    "VAL_LOSS_DELTA = 10 # 2 was too low\n",
    "# reading CSV file for class names\n",
    "CLASSES = pd.read_csv(\"names.csv\", names = [\"class\"])\n",
    "CLASSES = CLASSES[\"class\"].tolist()\n",
    "\n",
    "class Compose(object):\n",
    "    def __init__(self, transforms):\n",
    "        self.transforms = transforms\n",
    "\n",
    "    def __call__(self, img, bboxes):\n",
    "        # the transform only operates on the images, we don't\n",
    "        # want to transform the bounding boxes. They are already\n",
    "        # relative to the image in ratios, regardless of its size.\n",
    "        # IF the transforms used were also for data augmentation,\n",
    "        # then we should do t(img, bboxes). This will be implemented\n",
    "        # in the future perhaps.\n",
    "        for t in self.transforms:\n",
    "            img, bboxes = t(img), bboxes\n",
    "\n",
    "        return img, bboxes\n",
    "\n",
    "# the input images will be resized to 448x448\n",
    "transform = Compose([transforms.Resize((WIDTH, HEIGHT)), transforms.ToTensor(),])\n",
    "\n",
    "def train_fn(train_loader, model, optimizer, loss_fn):\n",
    "    # leave true is for the progress bar\n",
    "    loop = tqdm(train_loader, leave=True)\n",
    "    mean_loss = []\n",
    "\n",
    "    for batch_idx, (x, y) in enumerate(loop):\n",
    "        x, y = x.to(DEVICE), y.to(DEVICE)\n",
    "        out = model(x)\n",
    "        loss = loss_fn(out, y)\n",
    "        mean_loss.append(loss.item())\n",
    "        optimizer.zero_grad()\n",
    "        loss.backward()\n",
    "        optimizer.step()\n",
    "\n",
    "        # update the progress bar\n",
    "        loop.set_postfix(loss=loss.item())\n",
    "        \n",
    "    mean_loss = sum(mean_loss)/len(mean_loss)\n",
    "    print(f\"Training mean loss was {mean_loss}\")\n",
    "    return mean_loss\n",
    "\n",
    "def validation_fn(valid_loader, model, loss_fn):\n",
    "    # Settings\n",
    "    model.eval()\n",
    "    loop = tqdm(valid_loader, leave=True)\n",
    "    mean_loss = []\n",
    "    # Test validation data\n",
    "    with torch.no_grad():\n",
    "        for batch_idx, (x, y) in enumerate(loop):\n",
    "            x, y = x.to(DEVICE), y.to(DEVICE)\n",
    "            out = model(x)\n",
    "            loss = loss_fn(out, y)\n",
    "            mean_loss.append(loss.item())\n",
    "            \n",
    "            # update the progress bar\n",
    "            loop.set_postfix(loss=loss.item())\n",
    "            \n",
    "    mean_loss = sum(mean_loss)/len(mean_loss)\n",
    "    print(f\"Validation mean loss was {mean_loss}\")\n",
    "    model.train()\n",
    "    return mean_loss\n",
    "\n",
    "train_loss = []\n",
    "val_loss = []\n",
    "train_mAP = []\n",
    "val_mAP = []\n",
    "loss_checkpoint = 0\n",
    "mAP_checkpoint = 0"
   ]
  },
  {
   "cell_type": "code",
   "execution_count": 12,
   "id": "62ce5c76-e266-45be-b3d9-ec990bff2213",
   "metadata": {},
   "outputs": [],
   "source": [
    "def main():\n",
    "    # Flags to control saving the model for early stopping\n",
    "    loss_stopped = False\n",
    "    train_precision_stopped = False\n",
    "    global loss_checkpoint\n",
    "    global mAP_checkpoint\n",
    "   \n",
    "    model = Yolov1(split_size=SPLIT_SIZE, num_boxes=NUM_BOXES, num_classes=NUM_CLASSES).to(DEVICE)\n",
    "    optimizer = optim.Adam(\n",
    "        model.parameters(), lr=LEARNING_RATE, weight_decay=WEIGHT_DECAY\n",
    "    )\n",
    "    #optimizer = optim.SGD(\n",
    "    #    model.parameters(), lr=LEARNING_RATE, weight_decay=WEIGHT_DECAY\n",
    "    #)\n",
    "    loss_fn = YoloLoss(split_size = SPLIT_SIZE, num_boxes = NUM_BOXES, num_classes = NUM_CLASSES)\n",
    "    \n",
    "    loaded_epoch = 0\n",
    "    if LOAD_MODEL:\n",
    "        checkpoint = torch.load(LOAD_MODEL_FILE)\n",
    "        load_checkpoint(checkpoint, model, optimizer)\n",
    "        loaded_epoch = checkpoint['epoch']\n",
    "        loss_fn = checkpoint['loss']\n",
    "\n",
    "\n",
    "    train_dataset = VOCDataset(\n",
    "        \"./Data/aug_train.csv\",\n",
    "        transform=transform,\n",
    "        img_dir=IMG_DIR,\n",
    "        label_dir=LABEL_DIR,\n",
    "        split_size = SPLIT_SIZE, \n",
    "        num_boxes = NUM_BOXES, \n",
    "        num_classes = NUM_CLASSES\n",
    "    )\n",
    "\n",
    "    validation_dataset = VOCDataset(\n",
    "        \"./Data/aug_validation.csv\", \n",
    "        transform=transform, \n",
    "        img_dir=IMG_DIR, \n",
    "        label_dir=LABEL_DIR, \n",
    "        split_size = SPLIT_SIZE,\n",
    "        num_boxes = NUM_BOXES,\n",
    "        num_classes = NUM_CLASSES\n",
    "    )\n",
    "\n",
    "    train_loader = DataLoader(\n",
    "        dataset=train_dataset,\n",
    "        batch_size=BATCH_SIZE,\n",
    "        num_workers=NUM_WORKERS,\n",
    "        pin_memory=PIN_MEMORY,\n",
    "        shuffle=True,\n",
    "        # if there is a batch and there are only two examples,\n",
    "        # we don't want to do an update step on that, so\n",
    "        # drop_last SHOULD be True. Check why I can't make it so.\n",
    "        drop_last=True, # if True gets a division by 0\n",
    "    )\n",
    "\n",
    "    validation_loader = DataLoader(\n",
    "        dataset=validation_dataset,\n",
    "        batch_size=BATCH_SIZE,\n",
    "        num_workers=NUM_WORKERS,\n",
    "        pin_memory=PIN_MEMORY,\n",
    "        shuffle=True,\n",
    "        drop_last=True,\n",
    "    )\n",
    "    \n",
    "    #summary(model, (3, WIDTH, HEIGHT))\n",
    "    #return\n",
    "    loss_stopping = early_stopping(patience = VAL_LOSS_PATIENCE, min_delta = VAL_LOSS_DELTA)\n",
    "    for epoch in range(loaded_epoch, EPOCHS):\n",
    "        '''\n",
    "        for x, y in train_loader:\n",
    "            x = x.to(DEVICE)            \n",
    "            for idx in range(8):\n",
    "              bboxes = cellboxes_to_boxes(out = model(x), S = SPLIT_SIZE, B = NUM_BOXES, C = NUM_CLASSES)\n",
    "              bboxes = non_max_suppression(bboxes[idx], iou_threshold=0.5, threshold=0.4, box_format=\"midpoint\")\n",
    "              plot_image(x[idx].permute(1,2,0).to(\"cpu\"), bboxes)\n",
    "\n",
    "            #import sys\n",
    "            #sys.exit()\n",
    "        '''\n",
    "        print(\"_\"*50)\n",
    "        print(\"Epoch: {}\".format(epoch))\n",
    "        \n",
    "        print(\"\\nTrain set: \")\n",
    "        pred_boxes, target_boxes = get_bboxes(loader        = train_loader, \n",
    "                                              model         = model, \n",
    "                                              iou_threshold = 0.5, \n",
    "                                              threshold     = 0.4, \n",
    "                                              split_size    = SPLIT_SIZE, \n",
    "                                              num_boxes     = NUM_BOXES, \n",
    "                                              num_classes   = NUM_CLASSES,\n",
    "                                              box_format    = \"midpoint\",\n",
    "                                              device        = DEVICE\n",
    "                                             )\n",
    "\n",
    "        mean_avg_prec = mean_average_precision(pred_boxes    = pred_boxes,\n",
    "                                               true_boxes    = target_boxes,\n",
    "                                               iou_threshold = 0.5,\n",
    "                                               box_format    = \"midpoint\",\n",
    "                                               num_classes   = NUM_CLASSES\n",
    "                                              )\n",
    "        print(f\"Train mAP: {mean_avg_prec}\")\n",
    "        train_mAP.append(mean_avg_prec)\n",
    "        if(epoch%10 == 0):\n",
    "            checkpoint = {\n",
    "            'epoch': epoch,\n",
    "            \"state_dict\": model.state_dict(),\n",
    "            \"optimizer\": optimizer.state_dict(),\n",
    "            'loss': loss_fn,\n",
    "            }\n",
    "            save_checkpoint(checkpoint, filename=SAVE_MODEL_FILE + \".pth.tar\")\n",
    "            \n",
    "        if ((mean_avg_prec >= 0.90) and (train_precision_stopped == False)):\n",
    "            mAP_checkpoint = epoch\n",
    "            checkpoint = {\n",
    "            'epoch': epoch,\n",
    "            \"state_dict\": model.state_dict(),\n",
    "            \"optimizer\": optimizer.state_dict(),\n",
    "            'loss': loss_fn,\n",
    "            }\n",
    "            print(f\"Saving checkpoint due to mAP reaching threshold 0.90 at epoch {mAP_checkpoint}.\")\n",
    "            print(epoch)\n",
    "            save_checkpoint(checkpoint, filename=SAVE_MODEL_FILE + \"train_mAP_stopped.pth.tar\")\n",
    "            train_precision_stopped = True\n",
    "            \n",
    "            \n",
    "        train_loss.append(train_fn(train_loader, model, optimizer, loss_fn))\n",
    "        \n",
    "        print(\"\\nValidation set: \")\n",
    "        pred_boxes, target_boxes = get_bboxes(loader        = validation_loader, \n",
    "                                              model         = model, \n",
    "                                              iou_threshold = 0.5, \n",
    "                                              threshold     = 0.4, \n",
    "                                              split_size    = SPLIT_SIZE, \n",
    "                                              num_boxes     = NUM_BOXES, \n",
    "                                              num_classes   = NUM_CLASSES,\n",
    "                                              box_format    = \"midpoint\",\n",
    "                                              device        = DEVICE\n",
    "                                             )\n",
    "\n",
    "        mean_avg_prec = mean_average_precision(pred_boxes    = pred_boxes,\n",
    "                                               true_boxes    = target_boxes,\n",
    "                                               iou_threshold = 0.5,\n",
    "                                               box_format    = \"midpoint\",\n",
    "                                               num_classes   = NUM_CLASSES\n",
    "                                              )\n",
    "        \n",
    "        print(f\"Validation mAP: {mean_avg_prec}\")\n",
    "        val_mAP.append(mean_avg_prec)\n",
    "        val_loss.append(validation_fn(validation_loader, model, loss_fn))\n",
    "        \n",
    "        if loss_stopped == False:\n",
    "            loss_stopping(val_loss[-1])\n",
    "            if (loss_stopping.early_stop == True):\n",
    "                loss_checkpoint = epoch\n",
    "                checkpoint = {\n",
    "                'epoch': epoch,\n",
    "                \"state_dict\": model.state_dict(),\n",
    "                \"optimizer\": optimizer.state_dict(),\n",
    "                'loss': loss_fn,\n",
    "                }\n",
    "                print(f\"Saving checkpoint due to validation loss at epoch {loss_checkpoint}.\")\n",
    "                print(epoch)\n",
    "                save_checkpoint(checkpoint, filename=SAVE_MODEL_FILE + \"loss_stopped.pth.tar\")\n",
    "                loss_stopped = True\n",
    "            \n",
    "            #break\n",
    "    dataframe = pd.DataFrame(train_loss)\n",
    "    dataframe.to_csv('train_loss_' + SAVE_MODEL_FILE + '.csv', index=False)\n",
    "    dataframe = pd.DataFrame(val_loss) \n",
    "    dataframe.to_csv('val_loss_' + SAVE_MODEL_FILE + '.csv', index=False)\n",
    "    dataframe = pd.DataFrame(train_mAP)\n",
    "    dataframe.to_csv('train_mAP_' + SAVE_MODEL_FILE + '.csv', index=False)\n",
    "    dataframe = pd.DataFrame(val_mAP) \n",
    "    dataframe.to_csv('val_mAP_' + SAVE_MODEL_FILE + '.csv', index=False)\n",
    "    loss_graph()\n",
    "    mAP_graph()\n",
    "    return"
   ]
  },
  {
   "cell_type": "code",
   "execution_count": 13,
   "id": "692a0e55-e798-426e-b571-2ec823f5136f",
   "metadata": {
    "scrolled": true,
    "tags": []
   },
   "outputs": [
    {
     "name": "stdout",
     "output_type": "stream",
     "text": [
      "__________________________________________________\n",
      "Epoch: 0\n",
      "\n",
      "Train set: \n",
      "Train mAP: 0.0\n",
      "=> Saving checkpoint\n"
     ]
    },
    {
     "data": {
      "application/vnd.jupyter.widget-view+json": {
       "model_id": "fbe66f1a57854e7db4673be9363a4f69",
       "version_major": 2,
       "version_minor": 0
      },
      "text/plain": [
       "  0%|          | 0/116 [00:00<?, ?it/s]"
      ]
     },
     "metadata": {},
     "output_type": "display_data"
    },
    {
     "name": "stdout",
     "output_type": "stream",
     "text": [
      "Training mean loss was 783.6489136794518\n",
      "\n",
      "Validation set: \n",
      "Validation mAP: 8.224292287195567e-06\n"
     ]
    },
    {
     "data": {
      "application/vnd.jupyter.widget-view+json": {
       "model_id": "9423117dc76145f695e3014a59a85c0d",
       "version_major": 2,
       "version_minor": 0
      },
      "text/plain": [
       "  0%|          | 0/6 [00:00<?, ?it/s]"
      ]
     },
     "metadata": {},
     "output_type": "display_data"
    },
    {
     "name": "stdout",
     "output_type": "stream",
     "text": [
      "Validation mean loss was 741.8449300130209\n",
      "__________________________________________________\n",
      "Epoch: 1\n",
      "\n",
      "Train set: \n",
      "Train mAP: 0.0003300750395283103\n"
     ]
    },
    {
     "data": {
      "application/vnd.jupyter.widget-view+json": {
       "model_id": "584449681d154d6c87f10e9f87aa3fcd",
       "version_major": 2,
       "version_minor": 0
      },
      "text/plain": [
       "  0%|          | 0/116 [00:00<?, ?it/s]"
      ]
     },
     "metadata": {},
     "output_type": "display_data"
    },
    {
     "name": "stdout",
     "output_type": "stream",
     "text": [
      "Training mean loss was 563.7280749616951\n",
      "\n",
      "Validation set: \n",
      "Validation mAP: 0.00011164673924213275\n"
     ]
    },
    {
     "data": {
      "application/vnd.jupyter.widget-view+json": {
       "model_id": "d7cff72572b847e882262584bdc823a0",
       "version_major": 2,
       "version_minor": 0
      },
      "text/plain": [
       "  0%|          | 0/6 [00:00<?, ?it/s]"
      ]
     },
     "metadata": {},
     "output_type": "display_data"
    },
    {
     "name": "stdout",
     "output_type": "stream",
     "text": [
      "Validation mean loss was 672.4438680013021\n",
      "__________________________________________________\n",
      "Epoch: 2\n",
      "\n",
      "Train set: \n",
      "Train mAP: 0.0016885849181562662\n"
     ]
    },
    {
     "data": {
      "application/vnd.jupyter.widget-view+json": {
       "model_id": "8cc59969079c495696c30b71fcc95683",
       "version_major": 2,
       "version_minor": 0
      },
      "text/plain": [
       "  0%|          | 0/116 [00:00<?, ?it/s]"
      ]
     },
     "metadata": {},
     "output_type": "display_data"
    },
    {
     "name": "stdout",
     "output_type": "stream",
     "text": [
      "Training mean loss was 459.5823227454876\n",
      "\n",
      "Validation set: \n",
      "Validation mAP: 0.00015884439926594496\n"
     ]
    },
    {
     "data": {
      "application/vnd.jupyter.widget-view+json": {
       "model_id": "2e2b1501a8d74d6194fa39be63808c2c",
       "version_major": 2,
       "version_minor": 0
      },
      "text/plain": [
       "  0%|          | 0/6 [00:00<?, ?it/s]"
      ]
     },
     "metadata": {},
     "output_type": "display_data"
    },
    {
     "name": "stdout",
     "output_type": "stream",
     "text": [
      "Validation mean loss was 613.432118733724\n",
      "__________________________________________________\n",
      "Epoch: 3\n",
      "\n",
      "Train set: \n",
      "Train mAP: 0.011439096182584763\n"
     ]
    },
    {
     "data": {
      "application/vnd.jupyter.widget-view+json": {
       "model_id": "181d2d1a065848559781d8a801b0c28d",
       "version_major": 2,
       "version_minor": 0
      },
      "text/plain": [
       "  0%|          | 0/116 [00:00<?, ?it/s]"
      ]
     },
     "metadata": {},
     "output_type": "display_data"
    },
    {
     "name": "stdout",
     "output_type": "stream",
     "text": [
      "Training mean loss was 369.7974432583513\n",
      "\n",
      "Validation set: \n",
      "Validation mAP: 0.00286393822170794\n"
     ]
    },
    {
     "data": {
      "application/vnd.jupyter.widget-view+json": {
       "model_id": "9e848f29a7f147b483e6059be95752fb",
       "version_major": 2,
       "version_minor": 0
      },
      "text/plain": [
       "  0%|          | 0/6 [00:00<?, ?it/s]"
      ]
     },
     "metadata": {},
     "output_type": "display_data"
    },
    {
     "name": "stdout",
     "output_type": "stream",
     "text": [
      "Validation mean loss was 577.0884704589844\n",
      "__________________________________________________\n",
      "Epoch: 4\n",
      "\n",
      "Train set: \n",
      "Train mAP: 0.05058729648590088\n"
     ]
    },
    {
     "data": {
      "application/vnd.jupyter.widget-view+json": {
       "model_id": "7fabdca812c64b3b92c6a9ae65b439d3",
       "version_major": 2,
       "version_minor": 0
      },
      "text/plain": [
       "  0%|          | 0/116 [00:00<?, ?it/s]"
      ]
     },
     "metadata": {},
     "output_type": "display_data"
    },
    {
     "name": "stdout",
     "output_type": "stream",
     "text": [
      "Training mean loss was 309.99614794500945\n",
      "\n",
      "Validation set: \n",
      "Validation mAP: 0.004465452395379543\n"
     ]
    },
    {
     "data": {
      "application/vnd.jupyter.widget-view+json": {
       "model_id": "4b9e38dbeb79443db18e7b0928962e54",
       "version_major": 2,
       "version_minor": 0
      },
      "text/plain": [
       "  0%|          | 0/6 [00:00<?, ?it/s]"
      ]
     },
     "metadata": {},
     "output_type": "display_data"
    },
    {
     "name": "stdout",
     "output_type": "stream",
     "text": [
      "Validation mean loss was 572.9118041992188\n",
      "__________________________________________________\n",
      "Epoch: 5\n",
      "\n",
      "Train set: \n",
      "Train mAP: 0.12582281231880188\n"
     ]
    },
    {
     "data": {
      "application/vnd.jupyter.widget-view+json": {
       "model_id": "eec457d695c648009d8116a610f0a67b",
       "version_major": 2,
       "version_minor": 0
      },
      "text/plain": [
       "  0%|          | 0/116 [00:00<?, ?it/s]"
      ]
     },
     "metadata": {},
     "output_type": "display_data"
    },
    {
     "name": "stdout",
     "output_type": "stream",
     "text": [
      "Training mean loss was 271.48307589826913\n",
      "\n",
      "Validation set: \n",
      "Validation mAP: 0.012194192036986351\n"
     ]
    },
    {
     "data": {
      "application/vnd.jupyter.widget-view+json": {
       "model_id": "8e55e3d9a43240328e6eb2b39653e0ae",
       "version_major": 2,
       "version_minor": 0
      },
      "text/plain": [
       "  0%|          | 0/6 [00:00<?, ?it/s]"
      ]
     },
     "metadata": {},
     "output_type": "display_data"
    },
    {
     "name": "stdout",
     "output_type": "stream",
     "text": [
      "Validation mean loss was 565.1398874918619\n",
      "__________________________________________________\n",
      "Epoch: 6\n",
      "\n",
      "Train set: \n",
      "Train mAP: 0.21233481168746948\n"
     ]
    },
    {
     "data": {
      "application/vnd.jupyter.widget-view+json": {
       "model_id": "1ce567f931564b90a26ad073b195a160",
       "version_major": 2,
       "version_minor": 0
      },
      "text/plain": [
       "  0%|          | 0/116 [00:00<?, ?it/s]"
      ]
     },
     "metadata": {},
     "output_type": "display_data"
    },
    {
     "name": "stdout",
     "output_type": "stream",
     "text": [
      "Training mean loss was 246.4462047445363\n",
      "\n",
      "Validation set: \n",
      "Validation mAP: 0.005964124109596014\n"
     ]
    },
    {
     "data": {
      "application/vnd.jupyter.widget-view+json": {
       "model_id": "2898262bf6ff4dfba53cf26520693328",
       "version_major": 2,
       "version_minor": 0
      },
      "text/plain": [
       "  0%|          | 0/6 [00:00<?, ?it/s]"
      ]
     },
     "metadata": {},
     "output_type": "display_data"
    },
    {
     "name": "stdout",
     "output_type": "stream",
     "text": [
      "Validation mean loss was 556.5440572102865\n",
      "__________________________________________________\n",
      "Epoch: 7\n",
      "\n",
      "Train set: \n",
      "Train mAP: 0.14520303905010223\n"
     ]
    },
    {
     "data": {
      "application/vnd.jupyter.widget-view+json": {
       "model_id": "8c8f354060fa4d7f9f9dc22eb298685b",
       "version_major": 2,
       "version_minor": 0
      },
      "text/plain": [
       "  0%|          | 0/116 [00:00<?, ?it/s]"
      ]
     },
     "metadata": {},
     "output_type": "display_data"
    },
    {
     "name": "stdout",
     "output_type": "stream",
     "text": [
      "Training mean loss was 234.96597579429888\n",
      "\n",
      "Validation set: \n",
      "Validation mAP: 0.0071253906935453415\n"
     ]
    },
    {
     "data": {
      "application/vnd.jupyter.widget-view+json": {
       "model_id": "642b89997d6c4c1ab359b71ebeae407a",
       "version_major": 2,
       "version_minor": 0
      },
      "text/plain": [
       "  0%|          | 0/6 [00:00<?, ?it/s]"
      ]
     },
     "metadata": {},
     "output_type": "display_data"
    },
    {
     "name": "stdout",
     "output_type": "stream",
     "text": [
      "Validation mean loss was 528.2165120442709\n",
      "__________________________________________________\n",
      "Epoch: 8\n",
      "\n",
      "Train set: \n",
      "Train mAP: 0.22046208381652832\n"
     ]
    },
    {
     "data": {
      "application/vnd.jupyter.widget-view+json": {
       "model_id": "d43204bef5b54e5e8f7a1b31e5a03628",
       "version_major": 2,
       "version_minor": 0
      },
      "text/plain": [
       "  0%|          | 0/116 [00:00<?, ?it/s]"
      ]
     },
     "metadata": {},
     "output_type": "display_data"
    },
    {
     "name": "stdout",
     "output_type": "stream",
     "text": [
      "Training mean loss was 212.72458951226596\n",
      "\n",
      "Validation set: \n",
      "Validation mAP: 0.01542679499834776\n"
     ]
    },
    {
     "data": {
      "application/vnd.jupyter.widget-view+json": {
       "model_id": "65d42b4c7a5f482089db1537a1ce9052",
       "version_major": 2,
       "version_minor": 0
      },
      "text/plain": [
       "  0%|          | 0/6 [00:00<?, ?it/s]"
      ]
     },
     "metadata": {},
     "output_type": "display_data"
    },
    {
     "name": "stdout",
     "output_type": "stream",
     "text": [
      "Validation mean loss was 499.27308654785156\n",
      "__________________________________________________\n",
      "Epoch: 9\n",
      "\n",
      "Train set: \n",
      "Train mAP: 0.3479716181755066\n"
     ]
    },
    {
     "data": {
      "application/vnd.jupyter.widget-view+json": {
       "model_id": "307c43f08ce94bf2bbb4a64a20368c87",
       "version_major": 2,
       "version_minor": 0
      },
      "text/plain": [
       "  0%|          | 0/116 [00:00<?, ?it/s]"
      ]
     },
     "metadata": {},
     "output_type": "display_data"
    },
    {
     "name": "stdout",
     "output_type": "stream",
     "text": [
      "Training mean loss was 190.3385011081038\n",
      "\n",
      "Validation set: \n",
      "Validation mAP: 0.016619719564914703\n"
     ]
    },
    {
     "data": {
      "application/vnd.jupyter.widget-view+json": {
       "model_id": "0a8ad1eff7d34f0bb082be9319aa2535",
       "version_major": 2,
       "version_minor": 0
      },
      "text/plain": [
       "  0%|          | 0/6 [00:00<?, ?it/s]"
      ]
     },
     "metadata": {},
     "output_type": "display_data"
    },
    {
     "name": "stdout",
     "output_type": "stream",
     "text": [
      "Validation mean loss was 488.3463846842448\n",
      "__________________________________________________\n",
      "Epoch: 10\n",
      "\n",
      "Train set: \n",
      "Train mAP: 0.35147616267204285\n",
      "=> Saving checkpoint\n"
     ]
    },
    {
     "data": {
      "application/vnd.jupyter.widget-view+json": {
       "model_id": "06f2ecf947e5418cbd0485798f2a6703",
       "version_major": 2,
       "version_minor": 0
      },
      "text/plain": [
       "  0%|          | 0/116 [00:00<?, ?it/s]"
      ]
     },
     "metadata": {},
     "output_type": "display_data"
    },
    {
     "name": "stdout",
     "output_type": "stream",
     "text": [
      "Training mean loss was 181.64394345776788\n",
      "\n",
      "Validation set: \n",
      "Validation mAP: 0.016049833968281746\n"
     ]
    },
    {
     "data": {
      "application/vnd.jupyter.widget-view+json": {
       "model_id": "ba310a87c90043b59580be707536cd41",
       "version_major": 2,
       "version_minor": 0
      },
      "text/plain": [
       "  0%|          | 0/6 [00:00<?, ?it/s]"
      ]
     },
     "metadata": {},
     "output_type": "display_data"
    },
    {
     "name": "stdout",
     "output_type": "stream",
     "text": [
      "Validation mean loss was 491.41632080078125\n",
      "INFO: Early stopping counter 1 of 30\n",
      "__________________________________________________\n",
      "Epoch: 11\n",
      "\n",
      "Train set: \n",
      "Train mAP: 0.33636510372161865\n"
     ]
    },
    {
     "data": {
      "application/vnd.jupyter.widget-view+json": {
       "model_id": "8e3a24835a134f0b8989289118d21c0f",
       "version_major": 2,
       "version_minor": 0
      },
      "text/plain": [
       "  0%|          | 0/116 [00:00<?, ?it/s]"
      ]
     },
     "metadata": {},
     "output_type": "display_data"
    },
    {
     "name": "stdout",
     "output_type": "stream",
     "text": [
      "Training mean loss was 190.87921300427666\n",
      "\n",
      "Validation set: \n",
      "Validation mAP: 0.025076849386096\n"
     ]
    },
    {
     "data": {
      "application/vnd.jupyter.widget-view+json": {
       "model_id": "3d4e52b364224b90b4b37f010d6e2fbc",
       "version_major": 2,
       "version_minor": 0
      },
      "text/plain": [
       "  0%|          | 0/6 [00:00<?, ?it/s]"
      ]
     },
     "metadata": {},
     "output_type": "display_data"
    },
    {
     "name": "stdout",
     "output_type": "stream",
     "text": [
      "Validation mean loss was 468.73418680826825\n",
      "__________________________________________________\n",
      "Epoch: 12\n",
      "\n",
      "Train set: \n",
      "Train mAP: 0.3859727382659912\n"
     ]
    },
    {
     "data": {
      "application/vnd.jupyter.widget-view+json": {
       "model_id": "18956e9453c8466a9a617d2a78298a67",
       "version_major": 2,
       "version_minor": 0
      },
      "text/plain": [
       "  0%|          | 0/116 [00:00<?, ?it/s]"
      ]
     },
     "metadata": {},
     "output_type": "display_data"
    },
    {
     "name": "stdout",
     "output_type": "stream",
     "text": [
      "Training mean loss was 159.53172354862608\n",
      "\n",
      "Validation set: \n",
      "Validation mAP: 0.03964124992489815\n"
     ]
    },
    {
     "data": {
      "application/vnd.jupyter.widget-view+json": {
       "model_id": "0d1a96062b914b13b4489240d25cebe1",
       "version_major": 2,
       "version_minor": 0
      },
      "text/plain": [
       "  0%|          | 0/6 [00:00<?, ?it/s]"
      ]
     },
     "metadata": {},
     "output_type": "display_data"
    },
    {
     "name": "stdout",
     "output_type": "stream",
     "text": [
      "Validation mean loss was 461.42888895670575\n",
      "__________________________________________________\n",
      "Epoch: 13\n",
      "\n",
      "Train set: \n",
      "Train mAP: 0.44865116477012634\n"
     ]
    },
    {
     "data": {
      "application/vnd.jupyter.widget-view+json": {
       "model_id": "9b1fa1ee13c4436f897c99996928d370",
       "version_major": 2,
       "version_minor": 0
      },
      "text/plain": [
       "  0%|          | 0/116 [00:00<?, ?it/s]"
      ]
     },
     "metadata": {},
     "output_type": "display_data"
    },
    {
     "name": "stdout",
     "output_type": "stream",
     "text": [
      "Training mean loss was 160.20487489371465\n",
      "\n",
      "Validation set: \n",
      "Validation mAP: 0.057655736804008484\n"
     ]
    },
    {
     "data": {
      "application/vnd.jupyter.widget-view+json": {
       "model_id": "5c898b607e6442b99016e95778a55f14",
       "version_major": 2,
       "version_minor": 0
      },
      "text/plain": [
       "  0%|          | 0/6 [00:00<?, ?it/s]"
      ]
     },
     "metadata": {},
     "output_type": "display_data"
    },
    {
     "name": "stdout",
     "output_type": "stream",
     "text": [
      "Validation mean loss was 444.30315653483075\n",
      "__________________________________________________\n",
      "Epoch: 14\n",
      "\n",
      "Train set: \n",
      "Train mAP: 0.4591928720474243\n"
     ]
    },
    {
     "data": {
      "application/vnd.jupyter.widget-view+json": {
       "model_id": "7a1a78844b774d18ad2b8031adfbc7e1",
       "version_major": 2,
       "version_minor": 0
      },
      "text/plain": [
       "  0%|          | 0/116 [00:00<?, ?it/s]"
      ]
     },
     "metadata": {},
     "output_type": "display_data"
    },
    {
     "name": "stdout",
     "output_type": "stream",
     "text": [
      "Training mean loss was 148.53575805137896\n",
      "\n",
      "Validation set: \n",
      "Validation mAP: 0.05775828659534454\n"
     ]
    },
    {
     "data": {
      "application/vnd.jupyter.widget-view+json": {
       "model_id": "cf1e5f58ed1c45a6a2d5ad6ce4f9569e",
       "version_major": 2,
       "version_minor": 0
      },
      "text/plain": [
       "  0%|          | 0/6 [00:00<?, ?it/s]"
      ]
     },
     "metadata": {},
     "output_type": "display_data"
    },
    {
     "name": "stdout",
     "output_type": "stream",
     "text": [
      "Validation mean loss was 439.5552062988281\n",
      "__________________________________________________\n",
      "Epoch: 15\n",
      "\n",
      "Train set: \n",
      "Train mAP: 0.4794977009296417\n"
     ]
    },
    {
     "data": {
      "application/vnd.jupyter.widget-view+json": {
       "model_id": "67af483f3748499ba4bb4af0edfca74f",
       "version_major": 2,
       "version_minor": 0
      },
      "text/plain": [
       "  0%|          | 0/116 [00:00<?, ?it/s]"
      ]
     },
     "metadata": {},
     "output_type": "display_data"
    },
    {
     "name": "stdout",
     "output_type": "stream",
     "text": [
      "Training mean loss was 136.68150073084337\n",
      "\n",
      "Validation set: \n",
      "Validation mAP: 0.04112612083554268\n"
     ]
    },
    {
     "data": {
      "application/vnd.jupyter.widget-view+json": {
       "model_id": "384b6de4e48741c2ba2fe68a2c6ecdaa",
       "version_major": 2,
       "version_minor": 0
      },
      "text/plain": [
       "  0%|          | 0/6 [00:00<?, ?it/s]"
      ]
     },
     "metadata": {},
     "output_type": "display_data"
    },
    {
     "name": "stdout",
     "output_type": "stream",
     "text": [
      "Validation mean loss was 430.9522450764974\n",
      "__________________________________________________\n",
      "Epoch: 16\n",
      "\n",
      "Train set: \n",
      "Train mAP: 0.46281275153160095\n"
     ]
    },
    {
     "data": {
      "application/vnd.jupyter.widget-view+json": {
       "model_id": "dbd157ff38d649f18944c08f109e4f33",
       "version_major": 2,
       "version_minor": 0
      },
      "text/plain": [
       "  0%|          | 0/116 [00:00<?, ?it/s]"
      ]
     },
     "metadata": {},
     "output_type": "display_data"
    },
    {
     "name": "stdout",
     "output_type": "stream",
     "text": [
      "Training mean loss was 131.43577424411117\n",
      "\n",
      "Validation set: \n",
      "Validation mAP: 0.05132617801427841\n"
     ]
    },
    {
     "data": {
      "application/vnd.jupyter.widget-view+json": {
       "model_id": "1e8765788bb7448c835b60c000ff56b0",
       "version_major": 2,
       "version_minor": 0
      },
      "text/plain": [
       "  0%|          | 0/6 [00:00<?, ?it/s]"
      ]
     },
     "metadata": {},
     "output_type": "display_data"
    },
    {
     "name": "stdout",
     "output_type": "stream",
     "text": [
      "Validation mean loss was 463.73569742838544\n",
      "INFO: Early stopping counter 2 of 30\n",
      "__________________________________________________\n",
      "Epoch: 17\n",
      "\n",
      "Train set: \n",
      "Train mAP: 0.49720561504364014\n"
     ]
    },
    {
     "data": {
      "application/vnd.jupyter.widget-view+json": {
       "model_id": "37c920367ba84057b600f3fd97b5b2ca",
       "version_major": 2,
       "version_minor": 0
      },
      "text/plain": [
       "  0%|          | 0/116 [00:00<?, ?it/s]"
      ]
     },
     "metadata": {},
     "output_type": "display_data"
    },
    {
     "name": "stdout",
     "output_type": "stream",
     "text": [
      "Training mean loss was 128.26476287841797\n",
      "\n",
      "Validation set: \n",
      "Validation mAP: 0.07226523011922836\n"
     ]
    },
    {
     "data": {
      "application/vnd.jupyter.widget-view+json": {
       "model_id": "e7942ca26bf74cadab614885adf0fdef",
       "version_major": 2,
       "version_minor": 0
      },
      "text/plain": [
       "  0%|          | 0/6 [00:00<?, ?it/s]"
      ]
     },
     "metadata": {},
     "output_type": "display_data"
    },
    {
     "name": "stdout",
     "output_type": "stream",
     "text": [
      "Validation mean loss was 450.4450937906901\n",
      "INFO: Early stopping counter 3 of 30\n",
      "__________________________________________________\n",
      "Epoch: 18\n",
      "\n",
      "Train set: \n",
      "Train mAP: 0.4792242646217346\n"
     ]
    },
    {
     "data": {
      "application/vnd.jupyter.widget-view+json": {
       "model_id": "b75727c313ad4509b642af3d0e8343fd",
       "version_major": 2,
       "version_minor": 0
      },
      "text/plain": [
       "  0%|          | 0/116 [00:00<?, ?it/s]"
      ]
     },
     "metadata": {},
     "output_type": "display_data"
    },
    {
     "name": "stdout",
     "output_type": "stream",
     "text": [
      "Training mean loss was 122.13184942048171\n",
      "\n",
      "Validation set: \n",
      "Validation mAP: 0.07599634677171707\n"
     ]
    },
    {
     "data": {
      "application/vnd.jupyter.widget-view+json": {
       "model_id": "5032c6a5c10747b394c5c7a8e2eee6eb",
       "version_major": 2,
       "version_minor": 0
      },
      "text/plain": [
       "  0%|          | 0/6 [00:00<?, ?it/s]"
      ]
     },
     "metadata": {},
     "output_type": "display_data"
    },
    {
     "name": "stdout",
     "output_type": "stream",
     "text": [
      "Validation mean loss was 413.6051839192708\n",
      "__________________________________________________\n",
      "Epoch: 19\n",
      "\n",
      "Train set: \n",
      "Train mAP: 0.5315796732902527\n"
     ]
    },
    {
     "data": {
      "application/vnd.jupyter.widget-view+json": {
       "model_id": "27a327bf85de4552abf2501e29e25e7a",
       "version_major": 2,
       "version_minor": 0
      },
      "text/plain": [
       "  0%|          | 0/116 [00:00<?, ?it/s]"
      ]
     },
     "metadata": {},
     "output_type": "display_data"
    },
    {
     "name": "stdout",
     "output_type": "stream",
     "text": [
      "Training mean loss was 116.51018649134143\n",
      "\n",
      "Validation set: \n",
      "Validation mAP: 0.08160794526338577\n"
     ]
    },
    {
     "data": {
      "application/vnd.jupyter.widget-view+json": {
       "model_id": "ea155527a6d24537bca0b2235b9a6208",
       "version_major": 2,
       "version_minor": 0
      },
      "text/plain": [
       "  0%|          | 0/6 [00:00<?, ?it/s]"
      ]
     },
     "metadata": {},
     "output_type": "display_data"
    },
    {
     "name": "stdout",
     "output_type": "stream",
     "text": [
      "Validation mean loss was 407.828608194987\n",
      "__________________________________________________\n",
      "Epoch: 20\n",
      "\n",
      "Train set: \n",
      "Train mAP: 0.5312450528144836\n",
      "=> Saving checkpoint\n"
     ]
    },
    {
     "data": {
      "application/vnd.jupyter.widget-view+json": {
       "model_id": "3aa67342375f468cb4ca61d81ec44393",
       "version_major": 2,
       "version_minor": 0
      },
      "text/plain": [
       "  0%|          | 0/116 [00:00<?, ?it/s]"
      ]
     },
     "metadata": {},
     "output_type": "display_data"
    },
    {
     "name": "stdout",
     "output_type": "stream",
     "text": [
      "Training mean loss was 108.98478817117625\n",
      "\n",
      "Validation set: \n",
      "Validation mAP: 0.08319147676229477\n"
     ]
    },
    {
     "data": {
      "application/vnd.jupyter.widget-view+json": {
       "model_id": "2162d5fd9f25491bbae2cfcbf8331b97",
       "version_major": 2,
       "version_minor": 0
      },
      "text/plain": [
       "  0%|          | 0/6 [00:00<?, ?it/s]"
      ]
     },
     "metadata": {},
     "output_type": "display_data"
    },
    {
     "name": "stdout",
     "output_type": "stream",
     "text": [
      "Validation mean loss was 400.1595967610677\n",
      "__________________________________________________\n",
      "Epoch: 21\n",
      "\n",
      "Train set: \n",
      "Train mAP: 0.5586495399475098\n"
     ]
    },
    {
     "data": {
      "application/vnd.jupyter.widget-view+json": {
       "model_id": "4228f72b2d2d4e459bb70153482df8e2",
       "version_major": 2,
       "version_minor": 0
      },
      "text/plain": [
       "  0%|          | 0/116 [00:00<?, ?it/s]"
      ]
     },
     "metadata": {},
     "output_type": "display_data"
    },
    {
     "name": "stdout",
     "output_type": "stream",
     "text": [
      "Training mean loss was 107.16315946907832\n",
      "\n",
      "Validation set: \n",
      "Validation mAP: 0.07586615532636642\n"
     ]
    },
    {
     "data": {
      "application/vnd.jupyter.widget-view+json": {
       "model_id": "1c835836d2894d1988559d5fcad9bfdb",
       "version_major": 2,
       "version_minor": 0
      },
      "text/plain": [
       "  0%|          | 0/6 [00:00<?, ?it/s]"
      ]
     },
     "metadata": {},
     "output_type": "display_data"
    },
    {
     "name": "stdout",
     "output_type": "stream",
     "text": [
      "Validation mean loss was 399.59926350911456\n",
      "INFO: Early stopping counter 4 of 30\n",
      "__________________________________________________\n",
      "Epoch: 22\n",
      "\n",
      "Train set: \n",
      "Train mAP: 0.4795759320259094\n"
     ]
    },
    {
     "data": {
      "application/vnd.jupyter.widget-view+json": {
       "model_id": "600451b98cf84d3fbcb9314babff6b10",
       "version_major": 2,
       "version_minor": 0
      },
      "text/plain": [
       "  0%|          | 0/116 [00:00<?, ?it/s]"
      ]
     },
     "metadata": {},
     "output_type": "display_data"
    },
    {
     "name": "stdout",
     "output_type": "stream",
     "text": [
      "Training mean loss was 122.95185687624175\n",
      "\n",
      "Validation set: \n",
      "Validation mAP: 0.0944695770740509\n"
     ]
    },
    {
     "data": {
      "application/vnd.jupyter.widget-view+json": {
       "model_id": "bdb8fb0bfab145379f9d7fea2b68c2ad",
       "version_major": 2,
       "version_minor": 0
      },
      "text/plain": [
       "  0%|          | 0/6 [00:00<?, ?it/s]"
      ]
     },
     "metadata": {},
     "output_type": "display_data"
    },
    {
     "name": "stdout",
     "output_type": "stream",
     "text": [
      "Validation mean loss was 394.19756571451825\n",
      "__________________________________________________\n",
      "Epoch: 23\n",
      "\n",
      "Train set: \n",
      "Train mAP: 0.5203912854194641\n"
     ]
    },
    {
     "data": {
      "application/vnd.jupyter.widget-view+json": {
       "model_id": "ef841d4c8abc4a79a15216e2a67ba875",
       "version_major": 2,
       "version_minor": 0
      },
      "text/plain": [
       "  0%|          | 0/116 [00:00<?, ?it/s]"
      ]
     },
     "metadata": {},
     "output_type": "display_data"
    },
    {
     "name": "stdout",
     "output_type": "stream",
     "text": [
      "Training mean loss was 108.75018172428526\n",
      "\n",
      "Validation set: \n",
      "Validation mAP: 0.09619233012199402\n"
     ]
    },
    {
     "data": {
      "application/vnd.jupyter.widget-view+json": {
       "model_id": "9fa2f735349045259e04e1aeb7d7266c",
       "version_major": 2,
       "version_minor": 0
      },
      "text/plain": [
       "  0%|          | 0/6 [00:00<?, ?it/s]"
      ]
     },
     "metadata": {},
     "output_type": "display_data"
    },
    {
     "name": "stdout",
     "output_type": "stream",
     "text": [
      "Validation mean loss was 372.06444295247394\n",
      "__________________________________________________\n",
      "Epoch: 24\n",
      "\n",
      "Train set: \n",
      "Train mAP: 0.5533640384674072\n"
     ]
    },
    {
     "data": {
      "application/vnd.jupyter.widget-view+json": {
       "model_id": "37e93205ce2d400f9c80f9120248f86a",
       "version_major": 2,
       "version_minor": 0
      },
      "text/plain": [
       "  0%|          | 0/116 [00:00<?, ?it/s]"
      ]
     },
     "metadata": {},
     "output_type": "display_data"
    },
    {
     "name": "stdout",
     "output_type": "stream",
     "text": [
      "Training mean loss was 99.90707844701306\n",
      "\n",
      "Validation set: \n",
      "Validation mAP: 0.12263590097427368\n"
     ]
    },
    {
     "data": {
      "application/vnd.jupyter.widget-view+json": {
       "model_id": "8f8684d6838944efbab045aad93fc181",
       "version_major": 2,
       "version_minor": 0
      },
      "text/plain": [
       "  0%|          | 0/6 [00:00<?, ?it/s]"
      ]
     },
     "metadata": {},
     "output_type": "display_data"
    },
    {
     "name": "stdout",
     "output_type": "stream",
     "text": [
      "Validation mean loss was 392.53557840983075\n",
      "INFO: Early stopping counter 5 of 30\n",
      "__________________________________________________\n",
      "Epoch: 25\n",
      "\n",
      "Train set: \n",
      "Train mAP: 0.5594816207885742\n"
     ]
    },
    {
     "data": {
      "application/vnd.jupyter.widget-view+json": {
       "model_id": "159b4ce819f042d28b6eecffe9cd6219",
       "version_major": 2,
       "version_minor": 0
      },
      "text/plain": [
       "  0%|          | 0/116 [00:00<?, ?it/s]"
      ]
     },
     "metadata": {},
     "output_type": "display_data"
    },
    {
     "name": "stdout",
     "output_type": "stream",
     "text": [
      "Training mean loss was 95.09699729393269\n",
      "\n",
      "Validation set: \n",
      "Validation mAP: 0.102582648396492\n"
     ]
    },
    {
     "data": {
      "application/vnd.jupyter.widget-view+json": {
       "model_id": "6a66819d161d476b969849896f33156b",
       "version_major": 2,
       "version_minor": 0
      },
      "text/plain": [
       "  0%|          | 0/6 [00:00<?, ?it/s]"
      ]
     },
     "metadata": {},
     "output_type": "display_data"
    },
    {
     "name": "stdout",
     "output_type": "stream",
     "text": [
      "Validation mean loss was 376.9845275878906\n",
      "INFO: Early stopping counter 6 of 30\n",
      "__________________________________________________\n",
      "Epoch: 26\n",
      "\n",
      "Train set: \n",
      "Train mAP: 0.5824018716812134\n"
     ]
    },
    {
     "data": {
      "application/vnd.jupyter.widget-view+json": {
       "model_id": "86bb3bfb936b4de894d113ab6d64fce4",
       "version_major": 2,
       "version_minor": 0
      },
      "text/plain": [
       "  0%|          | 0/116 [00:00<?, ?it/s]"
      ]
     },
     "metadata": {},
     "output_type": "display_data"
    },
    {
     "name": "stdout",
     "output_type": "stream",
     "text": [
      "Training mean loss was 100.68269466531687\n",
      "\n",
      "Validation set: \n",
      "Validation mAP: 0.1269589215517044\n"
     ]
    },
    {
     "data": {
      "application/vnd.jupyter.widget-view+json": {
       "model_id": "ede6280a01bc43cdb132de6f86f6924f",
       "version_major": 2,
       "version_minor": 0
      },
      "text/plain": [
       "  0%|          | 0/6 [00:00<?, ?it/s]"
      ]
     },
     "metadata": {},
     "output_type": "display_data"
    },
    {
     "name": "stdout",
     "output_type": "stream",
     "text": [
      "Validation mean loss was 380.284184773763\n",
      "INFO: Early stopping counter 7 of 30\n",
      "__________________________________________________\n",
      "Epoch: 27\n",
      "\n",
      "Train set: \n",
      "Train mAP: 0.5623198747634888\n"
     ]
    },
    {
     "data": {
      "application/vnd.jupyter.widget-view+json": {
       "model_id": "e1347817b3bc406c92fc1d1787543b71",
       "version_major": 2,
       "version_minor": 0
      },
      "text/plain": [
       "  0%|          | 0/116 [00:00<?, ?it/s]"
      ]
     },
     "metadata": {},
     "output_type": "display_data"
    },
    {
     "name": "stdout",
     "output_type": "stream",
     "text": [
      "Training mean loss was 87.30676604961526\n",
      "\n",
      "Validation set: \n",
      "Validation mAP: 0.145811527967453\n"
     ]
    },
    {
     "data": {
      "application/vnd.jupyter.widget-view+json": {
       "model_id": "f90db97031e6432892a69e86a4de3f4f",
       "version_major": 2,
       "version_minor": 0
      },
      "text/plain": [
       "  0%|          | 0/6 [00:00<?, ?it/s]"
      ]
     },
     "metadata": {},
     "output_type": "display_data"
    },
    {
     "name": "stdout",
     "output_type": "stream",
     "text": [
      "Validation mean loss was 378.8994903564453\n",
      "INFO: Early stopping counter 8 of 30\n",
      "__________________________________________________\n",
      "Epoch: 28\n",
      "\n",
      "Train set: \n",
      "Train mAP: 0.5958597660064697\n"
     ]
    },
    {
     "data": {
      "application/vnd.jupyter.widget-view+json": {
       "model_id": "f6e125c0dcb644e091bf8f0c0bcef972",
       "version_major": 2,
       "version_minor": 0
      },
      "text/plain": [
       "  0%|          | 0/116 [00:00<?, ?it/s]"
      ]
     },
     "metadata": {},
     "output_type": "display_data"
    },
    {
     "name": "stdout",
     "output_type": "stream",
     "text": [
      "Training mean loss was 85.22199117726294\n",
      "\n",
      "Validation set: \n",
      "Validation mAP: 0.15110044181346893\n"
     ]
    },
    {
     "data": {
      "application/vnd.jupyter.widget-view+json": {
       "model_id": "038f30b982fe4bd08f6cd7617f99179f",
       "version_major": 2,
       "version_minor": 0
      },
      "text/plain": [
       "  0%|          | 0/6 [00:00<?, ?it/s]"
      ]
     },
     "metadata": {},
     "output_type": "display_data"
    },
    {
     "name": "stdout",
     "output_type": "stream",
     "text": [
      "Validation mean loss was 371.04632568359375\n",
      "INFO: Early stopping counter 9 of 30\n",
      "__________________________________________________\n",
      "Epoch: 29\n",
      "\n",
      "Train set: \n",
      "Train mAP: 0.6032840013504028\n"
     ]
    },
    {
     "data": {
      "application/vnd.jupyter.widget-view+json": {
       "model_id": "065caedb1cc14c6db069bbf22e334365",
       "version_major": 2,
       "version_minor": 0
      },
      "text/plain": [
       "  0%|          | 0/116 [00:00<?, ?it/s]"
      ]
     },
     "metadata": {},
     "output_type": "display_data"
    },
    {
     "name": "stdout",
     "output_type": "stream",
     "text": [
      "Training mean loss was 97.66722185858364\n",
      "\n",
      "Validation set: \n",
      "Validation mAP: 0.15129035711288452\n"
     ]
    },
    {
     "data": {
      "application/vnd.jupyter.widget-view+json": {
       "model_id": "a67bb9bc751f40d087ebad600b2282d5",
       "version_major": 2,
       "version_minor": 0
      },
      "text/plain": [
       "  0%|          | 0/6 [00:00<?, ?it/s]"
      ]
     },
     "metadata": {},
     "output_type": "display_data"
    },
    {
     "name": "stdout",
     "output_type": "stream",
     "text": [
      "Validation mean loss was 361.9648946126302\n",
      "__________________________________________________\n",
      "Epoch: 30\n",
      "\n",
      "Train set: \n",
      "Train mAP: 0.5913352966308594\n",
      "=> Saving checkpoint\n"
     ]
    },
    {
     "data": {
      "application/vnd.jupyter.widget-view+json": {
       "model_id": "010b69914dc745ff81e07236c3457229",
       "version_major": 2,
       "version_minor": 0
      },
      "text/plain": [
       "  0%|          | 0/116 [00:00<?, ?it/s]"
      ]
     },
     "metadata": {},
     "output_type": "display_data"
    },
    {
     "name": "stdout",
     "output_type": "stream",
     "text": [
      "Training mean loss was 79.00112714438603\n",
      "\n",
      "Validation set: \n",
      "Validation mAP: 0.1512373685836792\n"
     ]
    },
    {
     "data": {
      "application/vnd.jupyter.widget-view+json": {
       "model_id": "6fb07c4c14554b72bf0526667f748e03",
       "version_major": 2,
       "version_minor": 0
      },
      "text/plain": [
       "  0%|          | 0/6 [00:00<?, ?it/s]"
      ]
     },
     "metadata": {},
     "output_type": "display_data"
    },
    {
     "name": "stdout",
     "output_type": "stream",
     "text": [
      "Validation mean loss was 356.3817647298177\n",
      "__________________________________________________\n",
      "Epoch: 31\n",
      "\n",
      "Train set: \n",
      "Train mAP: 0.6179018616676331\n"
     ]
    },
    {
     "data": {
      "application/vnd.jupyter.widget-view+json": {
       "model_id": "15be64a8a0a64753b14b327c9fcbc320",
       "version_major": 2,
       "version_minor": 0
      },
      "text/plain": [
       "  0%|          | 0/116 [00:00<?, ?it/s]"
      ]
     },
     "metadata": {},
     "output_type": "display_data"
    },
    {
     "name": "stdout",
     "output_type": "stream",
     "text": [
      "Training mean loss was 73.31892473944302\n",
      "\n",
      "Validation set: \n",
      "Validation mAP: 0.13484200835227966\n"
     ]
    },
    {
     "data": {
      "application/vnd.jupyter.widget-view+json": {
       "model_id": "9dd5b84c77404349a9b4360d831157b4",
       "version_major": 2,
       "version_minor": 0
      },
      "text/plain": [
       "  0%|          | 0/6 [00:00<?, ?it/s]"
      ]
     },
     "metadata": {},
     "output_type": "display_data"
    },
    {
     "name": "stdout",
     "output_type": "stream",
     "text": [
      "Validation mean loss was 360.24562581380206\n",
      "INFO: Early stopping counter 10 of 30\n",
      "__________________________________________________\n",
      "Epoch: 32\n",
      "\n",
      "Train set: \n",
      "Train mAP: 0.6237635016441345\n"
     ]
    },
    {
     "data": {
      "application/vnd.jupyter.widget-view+json": {
       "model_id": "cc34fb0dd73144f183a7c0f1a9d81336",
       "version_major": 2,
       "version_minor": 0
      },
      "text/plain": [
       "  0%|          | 0/116 [00:00<?, ?it/s]"
      ]
     },
     "metadata": {},
     "output_type": "display_data"
    },
    {
     "name": "stdout",
     "output_type": "stream",
     "text": [
      "Training mean loss was 93.2120426441061\n",
      "\n",
      "Validation set: \n",
      "Validation mAP: 0.10542645305395126\n"
     ]
    },
    {
     "data": {
      "application/vnd.jupyter.widget-view+json": {
       "model_id": "b83adc83452d446b87ce05854b3da6f5",
       "version_major": 2,
       "version_minor": 0
      },
      "text/plain": [
       "  0%|          | 0/6 [00:00<?, ?it/s]"
      ]
     },
     "metadata": {},
     "output_type": "display_data"
    },
    {
     "name": "stdout",
     "output_type": "stream",
     "text": [
      "Validation mean loss was 368.20574442545575\n",
      "INFO: Early stopping counter 11 of 30\n",
      "__________________________________________________\n",
      "Epoch: 33\n",
      "\n",
      "Train set: \n",
      "Train mAP: 0.5686180591583252\n"
     ]
    },
    {
     "data": {
      "application/vnd.jupyter.widget-view+json": {
       "model_id": "ad4ab9ed9f2a40e4bc877d75c997b679",
       "version_major": 2,
       "version_minor": 0
      },
      "text/plain": [
       "  0%|          | 0/116 [00:00<?, ?it/s]"
      ]
     },
     "metadata": {},
     "output_type": "display_data"
    },
    {
     "name": "stdout",
     "output_type": "stream",
     "text": [
      "Training mean loss was 78.95316245638091\n",
      "\n",
      "Validation set: \n",
      "Validation mAP: 0.10999097675085068\n"
     ]
    },
    {
     "data": {
      "application/vnd.jupyter.widget-view+json": {
       "model_id": "876ebef9a1164cccb609b6a59bc0db73",
       "version_major": 2,
       "version_minor": 0
      },
      "text/plain": [
       "  0%|          | 0/6 [00:00<?, ?it/s]"
      ]
     },
     "metadata": {},
     "output_type": "display_data"
    },
    {
     "name": "stdout",
     "output_type": "stream",
     "text": [
      "Validation mean loss was 395.792231241862\n",
      "INFO: Early stopping counter 12 of 30\n",
      "__________________________________________________\n",
      "Epoch: 34\n",
      "\n",
      "Train set: \n",
      "Train mAP: 0.5377531051635742\n"
     ]
    },
    {
     "data": {
      "application/vnd.jupyter.widget-view+json": {
       "model_id": "73892c0e77d94e58958ffadee48da34e",
       "version_major": 2,
       "version_minor": 0
      },
      "text/plain": [
       "  0%|          | 0/116 [00:00<?, ?it/s]"
      ]
     },
     "metadata": {},
     "output_type": "display_data"
    },
    {
     "name": "stdout",
     "output_type": "stream",
     "text": [
      "Training mean loss was 94.17974379966999\n",
      "\n",
      "Validation set: \n",
      "Validation mAP: 0.13554230332374573\n"
     ]
    },
    {
     "data": {
      "application/vnd.jupyter.widget-view+json": {
       "model_id": "6a5394fc650943b49b89329fcd1d6ae7",
       "version_major": 2,
       "version_minor": 0
      },
      "text/plain": [
       "  0%|          | 0/6 [00:00<?, ?it/s]"
      ]
     },
     "metadata": {},
     "output_type": "display_data"
    },
    {
     "name": "stdout",
     "output_type": "stream",
     "text": [
      "Validation mean loss was 345.87314860026044\n",
      "__________________________________________________\n",
      "Epoch: 35\n",
      "\n",
      "Train set: \n",
      "Train mAP: 0.6199025511741638\n"
     ]
    },
    {
     "data": {
      "application/vnd.jupyter.widget-view+json": {
       "model_id": "c7cea1f58f4a434da01ab81386398890",
       "version_major": 2,
       "version_minor": 0
      },
      "text/plain": [
       "  0%|          | 0/116 [00:00<?, ?it/s]"
      ]
     },
     "metadata": {},
     "output_type": "display_data"
    },
    {
     "name": "stdout",
     "output_type": "stream",
     "text": [
      "Training mean loss was 85.09809349323142\n",
      "\n",
      "Validation set: \n",
      "Validation mAP: 0.14609038829803467\n"
     ]
    },
    {
     "data": {
      "application/vnd.jupyter.widget-view+json": {
       "model_id": "59902922cee0489d973f85221165393f",
       "version_major": 2,
       "version_minor": 0
      },
      "text/plain": [
       "  0%|          | 0/6 [00:00<?, ?it/s]"
      ]
     },
     "metadata": {},
     "output_type": "display_data"
    },
    {
     "name": "stdout",
     "output_type": "stream",
     "text": [
      "Validation mean loss was 341.6415049235026\n",
      "__________________________________________________\n",
      "Epoch: 36\n",
      "\n",
      "Train set: \n",
      "Train mAP: 0.613130509853363\n"
     ]
    },
    {
     "data": {
      "application/vnd.jupyter.widget-view+json": {
       "model_id": "cb1e538a1a4e4783962c9d41b5ee69e9",
       "version_major": 2,
       "version_minor": 0
      },
      "text/plain": [
       "  0%|          | 0/116 [00:00<?, ?it/s]"
      ]
     },
     "metadata": {},
     "output_type": "display_data"
    },
    {
     "name": "stdout",
     "output_type": "stream",
     "text": [
      "Training mean loss was 74.99214701816953\n",
      "\n",
      "Validation set: \n",
      "Validation mAP: 0.14462266862392426\n"
     ]
    },
    {
     "data": {
      "application/vnd.jupyter.widget-view+json": {
       "model_id": "f2d6a383b3c947cc8fd2ea4b47c16ac2",
       "version_major": 2,
       "version_minor": 0
      },
      "text/plain": [
       "  0%|          | 0/6 [00:00<?, ?it/s]"
      ]
     },
     "metadata": {},
     "output_type": "display_data"
    },
    {
     "name": "stdout",
     "output_type": "stream",
     "text": [
      "Validation mean loss was 343.7823842366536\n",
      "INFO: Early stopping counter 13 of 30\n",
      "__________________________________________________\n",
      "Epoch: 37\n",
      "\n",
      "Train set: \n",
      "Train mAP: 0.6257634162902832\n"
     ]
    },
    {
     "data": {
      "application/vnd.jupyter.widget-view+json": {
       "model_id": "bafa02176fa348b1b5afd17510205a43",
       "version_major": 2,
       "version_minor": 0
      },
      "text/plain": [
       "  0%|          | 0/116 [00:00<?, ?it/s]"
      ]
     },
     "metadata": {},
     "output_type": "display_data"
    },
    {
     "name": "stdout",
     "output_type": "stream",
     "text": [
      "Training mean loss was 68.98989381461308\n",
      "\n",
      "Validation set: \n",
      "Validation mAP: 0.18507283926010132\n"
     ]
    },
    {
     "data": {
      "application/vnd.jupyter.widget-view+json": {
       "model_id": "55ad879ebd534b2da8ca1e41daf5936f",
       "version_major": 2,
       "version_minor": 0
      },
      "text/plain": [
       "  0%|          | 0/6 [00:00<?, ?it/s]"
      ]
     },
     "metadata": {},
     "output_type": "display_data"
    },
    {
     "name": "stdout",
     "output_type": "stream",
     "text": [
      "Validation mean loss was 318.1665496826172\n",
      "__________________________________________________\n",
      "Epoch: 38\n",
      "\n",
      "Train set: \n",
      "Train mAP: 0.6769120693206787\n"
     ]
    },
    {
     "data": {
      "application/vnd.jupyter.widget-view+json": {
       "model_id": "a9c0c138691d45689ac4ee80e68ccdab",
       "version_major": 2,
       "version_minor": 0
      },
      "text/plain": [
       "  0%|          | 0/116 [00:00<?, ?it/s]"
      ]
     },
     "metadata": {},
     "output_type": "display_data"
    },
    {
     "name": "stdout",
     "output_type": "stream",
     "text": [
      "Training mean loss was 60.239992371920884\n",
      "\n",
      "Validation set: \n",
      "Validation mAP: 0.1952991932630539\n"
     ]
    },
    {
     "data": {
      "application/vnd.jupyter.widget-view+json": {
       "model_id": "d5d0b16a285d47ae8dea4d478734f00a",
       "version_major": 2,
       "version_minor": 0
      },
      "text/plain": [
       "  0%|          | 0/6 [00:00<?, ?it/s]"
      ]
     },
     "metadata": {},
     "output_type": "display_data"
    },
    {
     "name": "stdout",
     "output_type": "stream",
     "text": [
      "Validation mean loss was 319.5775146484375\n",
      "INFO: Early stopping counter 14 of 30\n",
      "__________________________________________________\n",
      "Epoch: 39\n",
      "\n",
      "Train set: \n",
      "Train mAP: 0.7012078166007996\n"
     ]
    },
    {
     "data": {
      "application/vnd.jupyter.widget-view+json": {
       "model_id": "e73d56ab27d84750b0cf31847a65d433",
       "version_major": 2,
       "version_minor": 0
      },
      "text/plain": [
       "  0%|          | 0/116 [00:00<?, ?it/s]"
      ]
     },
     "metadata": {},
     "output_type": "display_data"
    },
    {
     "name": "stdout",
     "output_type": "stream",
     "text": [
      "Training mean loss was 54.14713609629664\n",
      "\n",
      "Validation set: \n",
      "Validation mAP: 0.18251675367355347\n"
     ]
    },
    {
     "data": {
      "application/vnd.jupyter.widget-view+json": {
       "model_id": "8c6cc309604d48838cf2df47485b42fb",
       "version_major": 2,
       "version_minor": 0
      },
      "text/plain": [
       "  0%|          | 0/6 [00:00<?, ?it/s]"
      ]
     },
     "metadata": {},
     "output_type": "display_data"
    },
    {
     "name": "stdout",
     "output_type": "stream",
     "text": [
      "Validation mean loss was 320.386962890625\n",
      "INFO: Early stopping counter 15 of 30\n",
      "__________________________________________________\n",
      "Epoch: 40\n",
      "\n",
      "Train set: \n",
      "Train mAP: 0.7015023827552795\n",
      "=> Saving checkpoint\n"
     ]
    },
    {
     "data": {
      "application/vnd.jupyter.widget-view+json": {
       "model_id": "a3013159e59e4a55a6c00f6f5a2b8be1",
       "version_major": 2,
       "version_minor": 0
      },
      "text/plain": [
       "  0%|          | 0/116 [00:00<?, ?it/s]"
      ]
     },
     "metadata": {},
     "output_type": "display_data"
    },
    {
     "name": "stdout",
     "output_type": "stream",
     "text": [
      "Training mean loss was 53.0778143323701\n",
      "\n",
      "Validation set: \n",
      "Validation mAP: 0.18580827116966248\n"
     ]
    },
    {
     "data": {
      "application/vnd.jupyter.widget-view+json": {
       "model_id": "8bc8c18dd00643458d1c8b32e3cc7175",
       "version_major": 2,
       "version_minor": 0
      },
      "text/plain": [
       "  0%|          | 0/6 [00:00<?, ?it/s]"
      ]
     },
     "metadata": {},
     "output_type": "display_data"
    },
    {
     "name": "stdout",
     "output_type": "stream",
     "text": [
      "Validation mean loss was 323.572016398112\n",
      "INFO: Early stopping counter 16 of 30\n",
      "__________________________________________________\n",
      "Epoch: 41\n",
      "\n",
      "Train set: \n",
      "Train mAP: 0.6986159086227417\n"
     ]
    },
    {
     "data": {
      "application/vnd.jupyter.widget-view+json": {
       "model_id": "ff39595acf6c4dcfb1cc9d4cd928623a",
       "version_major": 2,
       "version_minor": 0
      },
      "text/plain": [
       "  0%|          | 0/116 [00:00<?, ?it/s]"
      ]
     },
     "metadata": {},
     "output_type": "display_data"
    },
    {
     "name": "stdout",
     "output_type": "stream",
     "text": [
      "Training mean loss was 50.657999729288036\n",
      "\n",
      "Validation set: \n",
      "Validation mAP: 0.18168911337852478\n"
     ]
    },
    {
     "data": {
      "application/vnd.jupyter.widget-view+json": {
       "model_id": "cca0a8bb157a439eb55ae9228dc00f4e",
       "version_major": 2,
       "version_minor": 0
      },
      "text/plain": [
       "  0%|          | 0/6 [00:00<?, ?it/s]"
      ]
     },
     "metadata": {},
     "output_type": "display_data"
    },
    {
     "name": "stdout",
     "output_type": "stream",
     "text": [
      "Validation mean loss was 320.16761271158856\n",
      "INFO: Early stopping counter 17 of 30\n",
      "__________________________________________________\n",
      "Epoch: 42\n",
      "\n",
      "Train set: \n",
      "Train mAP: 0.7014196515083313\n"
     ]
    },
    {
     "data": {
      "application/vnd.jupyter.widget-view+json": {
       "model_id": "c50417d442d94c81a56824df1d10b0a5",
       "version_major": 2,
       "version_minor": 0
      },
      "text/plain": [
       "  0%|          | 0/116 [00:00<?, ?it/s]"
      ]
     },
     "metadata": {},
     "output_type": "display_data"
    },
    {
     "name": "stdout",
     "output_type": "stream",
     "text": [
      "Training mean loss was 51.56773754646038\n",
      "\n",
      "Validation set: \n",
      "Validation mAP: 0.18326781690120697\n"
     ]
    },
    {
     "data": {
      "application/vnd.jupyter.widget-view+json": {
       "model_id": "f783a952f67c4d69b48846adf9898fc6",
       "version_major": 2,
       "version_minor": 0
      },
      "text/plain": [
       "  0%|          | 0/6 [00:00<?, ?it/s]"
      ]
     },
     "metadata": {},
     "output_type": "display_data"
    },
    {
     "name": "stdout",
     "output_type": "stream",
     "text": [
      "Validation mean loss was 323.0079574584961\n",
      "INFO: Early stopping counter 18 of 30\n",
      "__________________________________________________\n",
      "Epoch: 43\n",
      "\n",
      "Train set: \n",
      "Train mAP: 0.6861517429351807\n"
     ]
    },
    {
     "data": {
      "application/vnd.jupyter.widget-view+json": {
       "model_id": "574f3c30bd1d48369ecb599a20a9865f",
       "version_major": 2,
       "version_minor": 0
      },
      "text/plain": [
       "  0%|          | 0/116 [00:00<?, ?it/s]"
      ]
     },
     "metadata": {},
     "output_type": "display_data"
    },
    {
     "name": "stdout",
     "output_type": "stream",
     "text": [
      "Training mean loss was 54.68241948094861\n",
      "\n",
      "Validation set: \n",
      "Validation mAP: 0.18189233541488647\n"
     ]
    },
    {
     "data": {
      "application/vnd.jupyter.widget-view+json": {
       "model_id": "495a4404c65c44d6b2d562c3957a7741",
       "version_major": 2,
       "version_minor": 0
      },
      "text/plain": [
       "  0%|          | 0/6 [00:00<?, ?it/s]"
      ]
     },
     "metadata": {},
     "output_type": "display_data"
    },
    {
     "name": "stdout",
     "output_type": "stream",
     "text": [
      "Validation mean loss was 323.7058919270833\n",
      "INFO: Early stopping counter 19 of 30\n",
      "__________________________________________________\n",
      "Epoch: 44\n",
      "\n",
      "Train set: \n",
      "Train mAP: 0.6944923400878906\n"
     ]
    },
    {
     "data": {
      "application/vnd.jupyter.widget-view+json": {
       "model_id": "8bc8bc44dff645e89fe329feeeeb082f",
       "version_major": 2,
       "version_minor": 0
      },
      "text/plain": [
       "  0%|          | 0/116 [00:00<?, ?it/s]"
      ]
     },
     "metadata": {},
     "output_type": "display_data"
    },
    {
     "name": "stdout",
     "output_type": "stream",
     "text": [
      "Training mean loss was 59.75747828648008\n",
      "\n",
      "Validation set: \n",
      "Validation mAP: 0.1921813189983368\n"
     ]
    },
    {
     "data": {
      "application/vnd.jupyter.widget-view+json": {
       "model_id": "21ec44668e394a61a7458e33a424a193",
       "version_major": 2,
       "version_minor": 0
      },
      "text/plain": [
       "  0%|          | 0/6 [00:00<?, ?it/s]"
      ]
     },
     "metadata": {},
     "output_type": "display_data"
    },
    {
     "name": "stdout",
     "output_type": "stream",
     "text": [
      "Validation mean loss was 316.16317494710285\n",
      "__________________________________________________\n",
      "Epoch: 45\n",
      "\n",
      "Train set: \n",
      "Train mAP: 0.6541334390640259\n"
     ]
    },
    {
     "data": {
      "application/vnd.jupyter.widget-view+json": {
       "model_id": "bb05a74ce67d4bc999df8eec6dca42e7",
       "version_major": 2,
       "version_minor": 0
      },
      "text/plain": [
       "  0%|          | 0/116 [00:00<?, ?it/s]"
      ]
     },
     "metadata": {},
     "output_type": "display_data"
    },
    {
     "name": "stdout",
     "output_type": "stream",
     "text": [
      "Training mean loss was 60.73762512207031\n",
      "\n",
      "Validation set: \n",
      "Validation mAP: 0.18506677448749542\n"
     ]
    },
    {
     "data": {
      "application/vnd.jupyter.widget-view+json": {
       "model_id": "24539f1b703f4589bc2cfb2724700295",
       "version_major": 2,
       "version_minor": 0
      },
      "text/plain": [
       "  0%|          | 0/6 [00:00<?, ?it/s]"
      ]
     },
     "metadata": {},
     "output_type": "display_data"
    },
    {
     "name": "stdout",
     "output_type": "stream",
     "text": [
      "Validation mean loss was 318.533940633138\n",
      "INFO: Early stopping counter 20 of 30\n",
      "__________________________________________________\n",
      "Epoch: 46\n",
      "\n",
      "Train set: \n",
      "Train mAP: 0.6847614049911499\n"
     ]
    },
    {
     "data": {
      "application/vnd.jupyter.widget-view+json": {
       "model_id": "e4f46c1806174d44a85c66fb939e2b92",
       "version_major": 2,
       "version_minor": 0
      },
      "text/plain": [
       "  0%|          | 0/116 [00:00<?, ?it/s]"
      ]
     },
     "metadata": {},
     "output_type": "display_data"
    },
    {
     "name": "stdout",
     "output_type": "stream",
     "text": [
      "Training mean loss was 53.107652697069895\n",
      "\n",
      "Validation set: \n",
      "Validation mAP: 0.22620804607868195\n"
     ]
    },
    {
     "data": {
      "application/vnd.jupyter.widget-view+json": {
       "model_id": "6d8dd8672292441faa9862db3c8dad9c",
       "version_major": 2,
       "version_minor": 0
      },
      "text/plain": [
       "  0%|          | 0/6 [00:00<?, ?it/s]"
      ]
     },
     "metadata": {},
     "output_type": "display_data"
    },
    {
     "name": "stdout",
     "output_type": "stream",
     "text": [
      "Validation mean loss was 310.4903818766276\n",
      "__________________________________________________\n",
      "Epoch: 47\n",
      "\n",
      "Train set: \n",
      "Train mAP: 0.7049720883369446\n"
     ]
    },
    {
     "data": {
      "application/vnd.jupyter.widget-view+json": {
       "model_id": "44e644ce59954ac1a28c9faafe2498a0",
       "version_major": 2,
       "version_minor": 0
      },
      "text/plain": [
       "  0%|          | 0/116 [00:00<?, ?it/s]"
      ]
     },
     "metadata": {},
     "output_type": "display_data"
    },
    {
     "name": "stdout",
     "output_type": "stream",
     "text": [
      "Training mean loss was 60.54228115081787\n",
      "\n",
      "Validation set: \n",
      "Validation mAP: 0.14156146347522736\n"
     ]
    },
    {
     "data": {
      "application/vnd.jupyter.widget-view+json": {
       "model_id": "dd93a4ff7528415288adc6788d7a9a93",
       "version_major": 2,
       "version_minor": 0
      },
      "text/plain": [
       "  0%|          | 0/6 [00:00<?, ?it/s]"
      ]
     },
     "metadata": {},
     "output_type": "display_data"
    },
    {
     "name": "stdout",
     "output_type": "stream",
     "text": [
      "Validation mean loss was 339.01356506347656\n",
      "INFO: Early stopping counter 21 of 30\n",
      "__________________________________________________\n",
      "Epoch: 48\n",
      "\n",
      "Train set: \n",
      "Train mAP: 0.606502115726471\n"
     ]
    },
    {
     "data": {
      "application/vnd.jupyter.widget-view+json": {
       "model_id": "57a8090f3e3f4a489fbb62d4d870789f",
       "version_major": 2,
       "version_minor": 0
      },
      "text/plain": [
       "  0%|          | 0/116 [00:00<?, ?it/s]"
      ]
     },
     "metadata": {},
     "output_type": "display_data"
    },
    {
     "name": "stdout",
     "output_type": "stream",
     "text": [
      "Training mean loss was 69.66857295200742\n",
      "\n",
      "Validation set: \n",
      "Validation mAP: 0.18844518065452576\n"
     ]
    },
    {
     "data": {
      "application/vnd.jupyter.widget-view+json": {
       "model_id": "f77dc00b3f2a40f78fc0634f8f2151fc",
       "version_major": 2,
       "version_minor": 0
      },
      "text/plain": [
       "  0%|          | 0/6 [00:00<?, ?it/s]"
      ]
     },
     "metadata": {},
     "output_type": "display_data"
    },
    {
     "name": "stdout",
     "output_type": "stream",
     "text": [
      "Validation mean loss was 334.4056854248047\n",
      "INFO: Early stopping counter 22 of 30\n",
      "__________________________________________________\n",
      "Epoch: 49\n",
      "\n",
      "Train set: \n",
      "Train mAP: 0.6148315668106079\n"
     ]
    },
    {
     "data": {
      "application/vnd.jupyter.widget-view+json": {
       "model_id": "33522b595bd3459a9e15be824d8f3d7e",
       "version_major": 2,
       "version_minor": 0
      },
      "text/plain": [
       "  0%|          | 0/116 [00:00<?, ?it/s]"
      ]
     },
     "metadata": {},
     "output_type": "display_data"
    },
    {
     "name": "stdout",
     "output_type": "stream",
     "text": [
      "Training mean loss was 59.376236257881956\n",
      "\n",
      "Validation set: \n",
      "Validation mAP: 0.19335760176181793\n"
     ]
    },
    {
     "data": {
      "application/vnd.jupyter.widget-view+json": {
       "model_id": "0bdce433f2ea4fab9f92b5c9ed4133c6",
       "version_major": 2,
       "version_minor": 0
      },
      "text/plain": [
       "  0%|          | 0/6 [00:00<?, ?it/s]"
      ]
     },
     "metadata": {},
     "output_type": "display_data"
    },
    {
     "name": "stdout",
     "output_type": "stream",
     "text": [
      "Validation mean loss was 320.6141611735026\n",
      "INFO: Early stopping counter 23 of 30\n",
      "__________________________________________________\n",
      "Epoch: 50\n",
      "\n",
      "Train set: \n",
      "Train mAP: 0.6634255051612854\n",
      "=> Saving checkpoint\n"
     ]
    },
    {
     "data": {
      "application/vnd.jupyter.widget-view+json": {
       "model_id": "02a1b503f04947c9a544bd4f82d8bc12",
       "version_major": 2,
       "version_minor": 0
      },
      "text/plain": [
       "  0%|          | 0/116 [00:00<?, ?it/s]"
      ]
     },
     "metadata": {},
     "output_type": "display_data"
    },
    {
     "name": "stdout",
     "output_type": "stream",
     "text": [
      "Training mean loss was 70.42544131443418\n",
      "\n",
      "Validation set: \n",
      "Validation mAP: 0.17484000325202942\n"
     ]
    },
    {
     "data": {
      "application/vnd.jupyter.widget-view+json": {
       "model_id": "a0ac4bdfec1e4c048f652e9453f5bd42",
       "version_major": 2,
       "version_minor": 0
      },
      "text/plain": [
       "  0%|          | 0/6 [00:00<?, ?it/s]"
      ]
     },
     "metadata": {},
     "output_type": "display_data"
    },
    {
     "name": "stdout",
     "output_type": "stream",
     "text": [
      "Validation mean loss was 321.99903869628906\n",
      "INFO: Early stopping counter 24 of 30\n",
      "__________________________________________________\n",
      "Epoch: 51\n",
      "\n",
      "Train set: \n",
      "Train mAP: 0.652546763420105\n"
     ]
    },
    {
     "data": {
      "application/vnd.jupyter.widget-view+json": {
       "model_id": "96fb7be08375401895c43cddc1b161da",
       "version_major": 2,
       "version_minor": 0
      },
      "text/plain": [
       "  0%|          | 0/116 [00:00<?, ?it/s]"
      ]
     },
     "metadata": {},
     "output_type": "display_data"
    },
    {
     "name": "stdout",
     "output_type": "stream",
     "text": [
      "Training mean loss was 60.392096782552784\n",
      "\n",
      "Validation set: \n",
      "Validation mAP: 0.20135167241096497\n"
     ]
    },
    {
     "data": {
      "application/vnd.jupyter.widget-view+json": {
       "model_id": "f124552c64b94cdf82b179a47a1d99e5",
       "version_major": 2,
       "version_minor": 0
      },
      "text/plain": [
       "  0%|          | 0/6 [00:00<?, ?it/s]"
      ]
     },
     "metadata": {},
     "output_type": "display_data"
    },
    {
     "name": "stdout",
     "output_type": "stream",
     "text": [
      "Validation mean loss was 293.4020690917969\n",
      "__________________________________________________\n",
      "Epoch: 52\n",
      "\n",
      "Train set: \n",
      "Train mAP: 0.7085896134376526\n"
     ]
    },
    {
     "data": {
      "application/vnd.jupyter.widget-view+json": {
       "model_id": "371b36dfe08147a184be90101f734e2a",
       "version_major": 2,
       "version_minor": 0
      },
      "text/plain": [
       "  0%|          | 0/116 [00:00<?, ?it/s]"
      ]
     },
     "metadata": {},
     "output_type": "display_data"
    },
    {
     "name": "stdout",
     "output_type": "stream",
     "text": [
      "Training mean loss was 51.49804914408717\n",
      "\n",
      "Validation set: \n",
      "Validation mAP: 0.22929926216602325\n"
     ]
    },
    {
     "data": {
      "application/vnd.jupyter.widget-view+json": {
       "model_id": "9480a167b4c74dea91f40a03e6ce56e0",
       "version_major": 2,
       "version_minor": 0
      },
      "text/plain": [
       "  0%|          | 0/6 [00:00<?, ?it/s]"
      ]
     },
     "metadata": {},
     "output_type": "display_data"
    },
    {
     "name": "stdout",
     "output_type": "stream",
     "text": [
      "Validation mean loss was 308.97716267903644\n",
      "INFO: Early stopping counter 25 of 30\n",
      "__________________________________________________\n",
      "Epoch: 53\n",
      "\n",
      "Train set: \n",
      "Train mAP: 0.74127197265625\n"
     ]
    },
    {
     "data": {
      "application/vnd.jupyter.widget-view+json": {
       "model_id": "8eb2a0240462466fa932d1182d4efbfd",
       "version_major": 2,
       "version_minor": 0
      },
      "text/plain": [
       "  0%|          | 0/116 [00:00<?, ?it/s]"
      ]
     },
     "metadata": {},
     "output_type": "display_data"
    },
    {
     "name": "stdout",
     "output_type": "stream",
     "text": [
      "Training mean loss was 44.60875172450625\n",
      "\n",
      "Validation set: \n",
      "Validation mAP: 0.22689585387706757\n"
     ]
    },
    {
     "data": {
      "application/vnd.jupyter.widget-view+json": {
       "model_id": "db76711c324440d8a84f2907d3a7adda",
       "version_major": 2,
       "version_minor": 0
      },
      "text/plain": [
       "  0%|          | 0/6 [00:00<?, ?it/s]"
      ]
     },
     "metadata": {},
     "output_type": "display_data"
    },
    {
     "name": "stdout",
     "output_type": "stream",
     "text": [
      "Validation mean loss was 296.98504638671875\n",
      "INFO: Early stopping counter 26 of 30\n",
      "__________________________________________________\n",
      "Epoch: 54\n",
      "\n",
      "Train set: \n",
      "Train mAP: 0.7593098282814026\n"
     ]
    },
    {
     "data": {
      "application/vnd.jupyter.widget-view+json": {
       "model_id": "d59d47161521419483fffc75f41437c8",
       "version_major": 2,
       "version_minor": 0
      },
      "text/plain": [
       "  0%|          | 0/116 [00:00<?, ?it/s]"
      ]
     },
     "metadata": {},
     "output_type": "display_data"
    },
    {
     "name": "stdout",
     "output_type": "stream",
     "text": [
      "Training mean loss was 41.339475072663404\n",
      "\n",
      "Validation set: \n",
      "Validation mAP: 0.24645352363586426\n"
     ]
    },
    {
     "data": {
      "application/vnd.jupyter.widget-view+json": {
       "model_id": "983e9afd714d4f22be4ae18a40841e2a",
       "version_major": 2,
       "version_minor": 0
      },
      "text/plain": [
       "  0%|          | 0/6 [00:00<?, ?it/s]"
      ]
     },
     "metadata": {},
     "output_type": "display_data"
    },
    {
     "name": "stdout",
     "output_type": "stream",
     "text": [
      "Validation mean loss was 277.5382893880208\n",
      "__________________________________________________\n",
      "Epoch: 55\n",
      "\n",
      "Train set: \n",
      "Train mAP: 0.7621748447418213\n"
     ]
    },
    {
     "data": {
      "application/vnd.jupyter.widget-view+json": {
       "model_id": "a1cd4551260f485aab08f1266e739bb8",
       "version_major": 2,
       "version_minor": 0
      },
      "text/plain": [
       "  0%|          | 0/116 [00:00<?, ?it/s]"
      ]
     },
     "metadata": {},
     "output_type": "display_data"
    },
    {
     "name": "stdout",
     "output_type": "stream",
     "text": [
      "Training mean loss was 37.848239536943105\n",
      "\n",
      "Validation set: \n",
      "Validation mAP: 0.23118282854557037\n"
     ]
    },
    {
     "data": {
      "application/vnd.jupyter.widget-view+json": {
       "model_id": "92e2778a0578464da0eb99296b1bf177",
       "version_major": 2,
       "version_minor": 0
      },
      "text/plain": [
       "  0%|          | 0/6 [00:00<?, ?it/s]"
      ]
     },
     "metadata": {},
     "output_type": "display_data"
    },
    {
     "name": "stdout",
     "output_type": "stream",
     "text": [
      "Validation mean loss was 282.9824473063151\n",
      "INFO: Early stopping counter 27 of 30\n",
      "__________________________________________________\n",
      "Epoch: 56\n",
      "\n",
      "Train set: \n",
      "Train mAP: 0.7602283954620361\n"
     ]
    },
    {
     "data": {
      "application/vnd.jupyter.widget-view+json": {
       "model_id": "22a8d24b74254e7c8a26a929a97c47c7",
       "version_major": 2,
       "version_minor": 0
      },
      "text/plain": [
       "  0%|          | 0/116 [00:00<?, ?it/s]"
      ]
     },
     "metadata": {},
     "output_type": "display_data"
    },
    {
     "name": "stdout",
     "output_type": "stream",
     "text": [
      "Training mean loss was 38.94392875145222\n",
      "\n",
      "Validation set: \n",
      "Validation mAP: 0.20418377220630646\n"
     ]
    },
    {
     "data": {
      "application/vnd.jupyter.widget-view+json": {
       "model_id": "c9af67040f934acd9c3c185bea14cdc4",
       "version_major": 2,
       "version_minor": 0
      },
      "text/plain": [
       "  0%|          | 0/6 [00:00<?, ?it/s]"
      ]
     },
     "metadata": {},
     "output_type": "display_data"
    },
    {
     "name": "stdout",
     "output_type": "stream",
     "text": [
      "Validation mean loss was 318.5432637532552\n",
      "INFO: Early stopping counter 28 of 30\n",
      "__________________________________________________\n",
      "Epoch: 57\n",
      "\n",
      "Train set: \n",
      "Train mAP: 0.6830428242683411\n"
     ]
    },
    {
     "data": {
      "application/vnd.jupyter.widget-view+json": {
       "model_id": "3858f7cd0cca4dd487d5e2f6f8f6dc41",
       "version_major": 2,
       "version_minor": 0
      },
      "text/plain": [
       "  0%|          | 0/116 [00:00<?, ?it/s]"
      ]
     },
     "metadata": {},
     "output_type": "display_data"
    },
    {
     "name": "stdout",
     "output_type": "stream",
     "text": [
      "Training mean loss was 45.89635673062555\n",
      "\n",
      "Validation set: \n",
      "Validation mAP: 0.22018525004386902\n"
     ]
    },
    {
     "data": {
      "application/vnd.jupyter.widget-view+json": {
       "model_id": "99d88e373ada4f78ad3967df59d66722",
       "version_major": 2,
       "version_minor": 0
      },
      "text/plain": [
       "  0%|          | 0/6 [00:00<?, ?it/s]"
      ]
     },
     "metadata": {},
     "output_type": "display_data"
    },
    {
     "name": "stdout",
     "output_type": "stream",
     "text": [
      "Validation mean loss was 299.84254455566406\n",
      "INFO: Early stopping counter 29 of 30\n",
      "__________________________________________________\n",
      "Epoch: 58\n",
      "\n",
      "Train set: \n",
      "Train mAP: 0.7263960242271423\n"
     ]
    },
    {
     "data": {
      "application/vnd.jupyter.widget-view+json": {
       "model_id": "e4f60ef271bf41409f71401ea5f5de7f",
       "version_major": 2,
       "version_minor": 0
      },
      "text/plain": [
       "  0%|          | 0/116 [00:00<?, ?it/s]"
      ]
     },
     "metadata": {},
     "output_type": "display_data"
    },
    {
     "name": "stdout",
     "output_type": "stream",
     "text": [
      "Training mean loss was 41.250968801564184\n",
      "\n",
      "Validation set: \n",
      "Validation mAP: 0.22843755781650543\n"
     ]
    },
    {
     "data": {
      "application/vnd.jupyter.widget-view+json": {
       "model_id": "23bef46d2d084c85a271b03eb348148a",
       "version_major": 2,
       "version_minor": 0
      },
      "text/plain": [
       "  0%|          | 0/6 [00:00<?, ?it/s]"
      ]
     },
     "metadata": {},
     "output_type": "display_data"
    },
    {
     "name": "stdout",
     "output_type": "stream",
     "text": [
      "Validation mean loss was 296.29437255859375\n",
      "INFO: Early stopping counter 30 of 30\n",
      "INFO: Early stopping\n",
      "Saving checkpoint due to validation loss at epoch 58.\n",
      "58\n",
      "=> Saving checkpoint\n",
      "__________________________________________________\n",
      "Epoch: 59\n",
      "\n",
      "Train set: \n",
      "Train mAP: 0.7552119493484497\n"
     ]
    },
    {
     "data": {
      "application/vnd.jupyter.widget-view+json": {
       "model_id": "747288535c2942e2b93c4a5a9f7899f8",
       "version_major": 2,
       "version_minor": 0
      },
      "text/plain": [
       "  0%|          | 0/116 [00:00<?, ?it/s]"
      ]
     },
     "metadata": {},
     "output_type": "display_data"
    },
    {
     "name": "stdout",
     "output_type": "stream",
     "text": [
      "Training mean loss was 42.86228148690586\n",
      "\n",
      "Validation set: \n",
      "Validation mAP: 0.23730479180812836\n"
     ]
    },
    {
     "data": {
      "application/vnd.jupyter.widget-view+json": {
       "model_id": "641005e7e33641d6b1f77d11ac95d24d",
       "version_major": 2,
       "version_minor": 0
      },
      "text/plain": [
       "  0%|          | 0/6 [00:00<?, ?it/s]"
      ]
     },
     "metadata": {},
     "output_type": "display_data"
    },
    {
     "name": "stdout",
     "output_type": "stream",
     "text": [
      "Validation mean loss was 302.7444763183594\n",
      "__________________________________________________\n",
      "Epoch: 60\n",
      "\n",
      "Train set: \n",
      "Train mAP: 0.7317509055137634\n",
      "=> Saving checkpoint\n"
     ]
    },
    {
     "data": {
      "application/vnd.jupyter.widget-view+json": {
       "model_id": "1db57221c4874f9eb56cb576e4dbfbb8",
       "version_major": 2,
       "version_minor": 0
      },
      "text/plain": [
       "  0%|          | 0/116 [00:00<?, ?it/s]"
      ]
     },
     "metadata": {},
     "output_type": "display_data"
    },
    {
     "name": "stdout",
     "output_type": "stream",
     "text": [
      "Training mean loss was 40.016157692876355\n",
      "\n",
      "Validation set: \n",
      "Validation mAP: 0.23309384286403656\n"
     ]
    },
    {
     "data": {
      "application/vnd.jupyter.widget-view+json": {
       "model_id": "5e74754ea26448788fdf9cededdb699c",
       "version_major": 2,
       "version_minor": 0
      },
      "text/plain": [
       "  0%|          | 0/6 [00:00<?, ?it/s]"
      ]
     },
     "metadata": {},
     "output_type": "display_data"
    },
    {
     "name": "stdout",
     "output_type": "stream",
     "text": [
      "Validation mean loss was 297.44313049316406\n",
      "__________________________________________________\n",
      "Epoch: 61\n",
      "\n",
      "Train set: \n",
      "Train mAP: 0.7428948879241943\n"
     ]
    },
    {
     "data": {
      "application/vnd.jupyter.widget-view+json": {
       "model_id": "f1576828eddc48ef9755a4d1987e862c",
       "version_major": 2,
       "version_minor": 0
      },
      "text/plain": [
       "  0%|          | 0/116 [00:00<?, ?it/s]"
      ]
     },
     "metadata": {},
     "output_type": "display_data"
    },
    {
     "name": "stdout",
     "output_type": "stream",
     "text": [
      "Training mean loss was 38.28542554789576\n",
      "\n",
      "Validation set: \n",
      "Validation mAP: 0.23397651314735413\n"
     ]
    },
    {
     "data": {
      "application/vnd.jupyter.widget-view+json": {
       "model_id": "2c914edf98964936becb65516c4226fe",
       "version_major": 2,
       "version_minor": 0
      },
      "text/plain": [
       "  0%|          | 0/6 [00:00<?, ?it/s]"
      ]
     },
     "metadata": {},
     "output_type": "display_data"
    },
    {
     "name": "stdout",
     "output_type": "stream",
     "text": [
      "Validation mean loss was 281.76965586344403\n",
      "__________________________________________________\n",
      "Epoch: 62\n",
      "\n",
      "Train set: \n",
      "Train mAP: 0.7492989897727966\n"
     ]
    },
    {
     "data": {
      "application/vnd.jupyter.widget-view+json": {
       "model_id": "4ab100cca53847518ca5155dff2c948d",
       "version_major": 2,
       "version_minor": 0
      },
      "text/plain": [
       "  0%|          | 0/116 [00:00<?, ?it/s]"
      ]
     },
     "metadata": {},
     "output_type": "display_data"
    },
    {
     "name": "stdout",
     "output_type": "stream",
     "text": [
      "Training mean loss was 37.00580379880708\n",
      "\n",
      "Validation set: \n",
      "Validation mAP: 0.2334204465150833\n"
     ]
    },
    {
     "data": {
      "application/vnd.jupyter.widget-view+json": {
       "model_id": "e424a2840e8341df905c4b5be31f8335",
       "version_major": 2,
       "version_minor": 0
      },
      "text/plain": [
       "  0%|          | 0/6 [00:00<?, ?it/s]"
      ]
     },
     "metadata": {},
     "output_type": "display_data"
    },
    {
     "name": "stdout",
     "output_type": "stream",
     "text": [
      "Validation mean loss was 287.43470001220703\n",
      "__________________________________________________\n",
      "Epoch: 63\n",
      "\n",
      "Train set: \n",
      "Train mAP: 0.7315656542778015\n"
     ]
    },
    {
     "data": {
      "application/vnd.jupyter.widget-view+json": {
       "model_id": "889ec7a5c33c44539f15f4f9a36c2e45",
       "version_major": 2,
       "version_minor": 0
      },
      "text/plain": [
       "  0%|          | 0/116 [00:00<?, ?it/s]"
      ]
     },
     "metadata": {},
     "output_type": "display_data"
    },
    {
     "name": "stdout",
     "output_type": "stream",
     "text": [
      "Training mean loss was 42.30879403804911\n",
      "\n",
      "Validation set: \n",
      "Validation mAP: 0.23146790266036987\n"
     ]
    },
    {
     "data": {
      "application/vnd.jupyter.widget-view+json": {
       "model_id": "7db4c03893ba46eca365e08e651d5f57",
       "version_major": 2,
       "version_minor": 0
      },
      "text/plain": [
       "  0%|          | 0/6 [00:00<?, ?it/s]"
      ]
     },
     "metadata": {},
     "output_type": "display_data"
    },
    {
     "name": "stdout",
     "output_type": "stream",
     "text": [
      "Validation mean loss was 303.0773239135742\n",
      "__________________________________________________\n",
      "Epoch: 64\n",
      "\n",
      "Train set: \n",
      "Train mAP: 0.6880555152893066\n"
     ]
    },
    {
     "data": {
      "application/vnd.jupyter.widget-view+json": {
       "model_id": "e0f455e2f0f741438b57810ec1f6229b",
       "version_major": 2,
       "version_minor": 0
      },
      "text/plain": [
       "  0%|          | 0/116 [00:00<?, ?it/s]"
      ]
     },
     "metadata": {},
     "output_type": "display_data"
    },
    {
     "name": "stdout",
     "output_type": "stream",
     "text": [
      "Training mean loss was 45.483970872287095\n",
      "\n",
      "Validation set: \n",
      "Validation mAP: 0.24548819661140442\n"
     ]
    },
    {
     "data": {
      "application/vnd.jupyter.widget-view+json": {
       "model_id": "4cced7ac49d1446982d04641bd62ff37",
       "version_major": 2,
       "version_minor": 0
      },
      "text/plain": [
       "  0%|          | 0/6 [00:00<?, ?it/s]"
      ]
     },
     "metadata": {},
     "output_type": "display_data"
    },
    {
     "name": "stdout",
     "output_type": "stream",
     "text": [
      "Validation mean loss was 288.6543223063151\n",
      "__________________________________________________\n",
      "Epoch: 65\n",
      "\n",
      "Train set: \n",
      "Train mAP: 0.7348805069923401\n"
     ]
    },
    {
     "data": {
      "application/vnd.jupyter.widget-view+json": {
       "model_id": "c5d27b00015a4623b9923d2ab01f653f",
       "version_major": 2,
       "version_minor": 0
      },
      "text/plain": [
       "  0%|          | 0/116 [00:00<?, ?it/s]"
      ]
     },
     "metadata": {},
     "output_type": "display_data"
    },
    {
     "name": "stdout",
     "output_type": "stream",
     "text": [
      "Training mean loss was 39.30522275793141\n",
      "\n",
      "Validation set: \n",
      "Validation mAP: 0.23733244836330414\n"
     ]
    },
    {
     "data": {
      "application/vnd.jupyter.widget-view+json": {
       "model_id": "4d9c27e8ae8a44899262a9887dd6de77",
       "version_major": 2,
       "version_minor": 0
      },
      "text/plain": [
       "  0%|          | 0/6 [00:00<?, ?it/s]"
      ]
     },
     "metadata": {},
     "output_type": "display_data"
    },
    {
     "name": "stdout",
     "output_type": "stream",
     "text": [
      "Validation mean loss was 283.2803471883138\n",
      "__________________________________________________\n",
      "Epoch: 66\n",
      "\n",
      "Train set: \n",
      "Train mAP: 0.7597194910049438\n"
     ]
    },
    {
     "data": {
      "application/vnd.jupyter.widget-view+json": {
       "model_id": "e21b775823c64b60ba668c45b909db08",
       "version_major": 2,
       "version_minor": 0
      },
      "text/plain": [
       "  0%|          | 0/116 [00:00<?, ?it/s]"
      ]
     },
     "metadata": {},
     "output_type": "display_data"
    },
    {
     "name": "stdout",
     "output_type": "stream",
     "text": [
      "Training mean loss was 36.22609551199551\n",
      "\n",
      "Validation set: \n",
      "Validation mAP: 0.2586749196052551\n"
     ]
    },
    {
     "data": {
      "application/vnd.jupyter.widget-view+json": {
       "model_id": "7c6363f5d24f4772bb78b3f1d7f19c3a",
       "version_major": 2,
       "version_minor": 0
      },
      "text/plain": [
       "  0%|          | 0/6 [00:00<?, ?it/s]"
      ]
     },
     "metadata": {},
     "output_type": "display_data"
    },
    {
     "name": "stdout",
     "output_type": "stream",
     "text": [
      "Validation mean loss was 296.7407531738281\n",
      "__________________________________________________\n",
      "Epoch: 67\n",
      "\n",
      "Train set: \n",
      "Train mAP: 0.7817656993865967\n"
     ]
    },
    {
     "data": {
      "application/vnd.jupyter.widget-view+json": {
       "model_id": "68f717ff3fe64fa1a72162c73ed3d246",
       "version_major": 2,
       "version_minor": 0
      },
      "text/plain": [
       "  0%|          | 0/116 [00:00<?, ?it/s]"
      ]
     },
     "metadata": {},
     "output_type": "display_data"
    },
    {
     "name": "stdout",
     "output_type": "stream",
     "text": [
      "Training mean loss was 34.976096136816615\n",
      "\n",
      "Validation set: \n",
      "Validation mAP: 0.2760014533996582\n"
     ]
    },
    {
     "data": {
      "application/vnd.jupyter.widget-view+json": {
       "model_id": "6d18edf55c31441ea40143e27b6f2cfa",
       "version_major": 2,
       "version_minor": 0
      },
      "text/plain": [
       "  0%|          | 0/6 [00:00<?, ?it/s]"
      ]
     },
     "metadata": {},
     "output_type": "display_data"
    },
    {
     "name": "stdout",
     "output_type": "stream",
     "text": [
      "Validation mean loss was 270.3403574625651\n",
      "__________________________________________________\n",
      "Epoch: 68\n",
      "\n",
      "Train set: \n",
      "Train mAP: 0.7757047414779663\n"
     ]
    },
    {
     "data": {
      "application/vnd.jupyter.widget-view+json": {
       "model_id": "b4c0707fe7d345208009d8fccafcb202",
       "version_major": 2,
       "version_minor": 0
      },
      "text/plain": [
       "  0%|          | 0/116 [00:00<?, ?it/s]"
      ]
     },
     "metadata": {},
     "output_type": "display_data"
    },
    {
     "name": "stdout",
     "output_type": "stream",
     "text": [
      "Training mean loss was 33.842761845424256\n",
      "\n",
      "Validation set: \n",
      "Validation mAP: 0.2642918527126312\n"
     ]
    },
    {
     "data": {
      "application/vnd.jupyter.widget-view+json": {
       "model_id": "fbdbccfd40a341a8af7babef4fd1ed21",
       "version_major": 2,
       "version_minor": 0
      },
      "text/plain": [
       "  0%|          | 0/6 [00:00<?, ?it/s]"
      ]
     },
     "metadata": {},
     "output_type": "display_data"
    },
    {
     "name": "stdout",
     "output_type": "stream",
     "text": [
      "Validation mean loss was 282.9196370442708\n",
      "__________________________________________________\n",
      "Epoch: 69\n",
      "\n",
      "Train set: \n",
      "Train mAP: 0.7717337608337402\n"
     ]
    },
    {
     "data": {
      "application/vnd.jupyter.widget-view+json": {
       "model_id": "aad8cd5daff24c1fb2b1bb4268924b81",
       "version_major": 2,
       "version_minor": 0
      },
      "text/plain": [
       "  0%|          | 0/116 [00:00<?, ?it/s]"
      ]
     },
     "metadata": {},
     "output_type": "display_data"
    },
    {
     "name": "stdout",
     "output_type": "stream",
     "text": [
      "Training mean loss was 32.92406187386349\n",
      "\n",
      "Validation set: \n",
      "Validation mAP: 0.27108314633369446\n"
     ]
    },
    {
     "data": {
      "application/vnd.jupyter.widget-view+json": {
       "model_id": "e167e60a48dd4c8f8397fc93d1bb446e",
       "version_major": 2,
       "version_minor": 0
      },
      "text/plain": [
       "  0%|          | 0/6 [00:00<?, ?it/s]"
      ]
     },
     "metadata": {},
     "output_type": "display_data"
    },
    {
     "name": "stdout",
     "output_type": "stream",
     "text": [
      "Validation mean loss was 278.5892842610677\n",
      "__________________________________________________\n",
      "Epoch: 70\n",
      "\n",
      "Train set: \n",
      "Train mAP: 0.7945060729980469\n",
      "=> Saving checkpoint\n"
     ]
    },
    {
     "data": {
      "application/vnd.jupyter.widget-view+json": {
       "model_id": "9c65e57069b94500b708dd36043f65de",
       "version_major": 2,
       "version_minor": 0
      },
      "text/plain": [
       "  0%|          | 0/116 [00:00<?, ?it/s]"
      ]
     },
     "metadata": {},
     "output_type": "display_data"
    },
    {
     "name": "stdout",
     "output_type": "stream",
     "text": [
      "Training mean loss was 32.49526910124154\n",
      "\n",
      "Validation set: \n",
      "Validation mAP: 0.2737285792827606\n"
     ]
    },
    {
     "data": {
      "application/vnd.jupyter.widget-view+json": {
       "model_id": "fd3484a5b1d448b6bbfaff866101ca7a",
       "version_major": 2,
       "version_minor": 0
      },
      "text/plain": [
       "  0%|          | 0/6 [00:00<?, ?it/s]"
      ]
     },
     "metadata": {},
     "output_type": "display_data"
    },
    {
     "name": "stdout",
     "output_type": "stream",
     "text": [
      "Validation mean loss was 296.2179667154948\n",
      "__________________________________________________\n",
      "Epoch: 71\n",
      "\n",
      "Train set: \n",
      "Train mAP: 0.7593811750411987\n"
     ]
    },
    {
     "data": {
      "application/vnd.jupyter.widget-view+json": {
       "model_id": "c716059e9daa4fc4aca4829e2b60b897",
       "version_major": 2,
       "version_minor": 0
      },
      "text/plain": [
       "  0%|          | 0/116 [00:00<?, ?it/s]"
      ]
     },
     "metadata": {},
     "output_type": "display_data"
    },
    {
     "name": "stdout",
     "output_type": "stream",
     "text": [
      "Training mean loss was 35.79126721415027\n",
      "\n",
      "Validation set: \n",
      "Validation mAP: 0.2620411217212677\n"
     ]
    },
    {
     "data": {
      "application/vnd.jupyter.widget-view+json": {
       "model_id": "6c9cc2ca651f41d681971cf325080727",
       "version_major": 2,
       "version_minor": 0
      },
      "text/plain": [
       "  0%|          | 0/6 [00:00<?, ?it/s]"
      ]
     },
     "metadata": {},
     "output_type": "display_data"
    },
    {
     "name": "stdout",
     "output_type": "stream",
     "text": [
      "Validation mean loss was 281.69618225097656\n",
      "__________________________________________________\n",
      "Epoch: 72\n",
      "\n",
      "Train set: \n",
      "Train mAP: 0.7677465677261353\n"
     ]
    },
    {
     "data": {
      "application/vnd.jupyter.widget-view+json": {
       "model_id": "dd118f6975e842a4ae58805830cce416",
       "version_major": 2,
       "version_minor": 0
      },
      "text/plain": [
       "  0%|          | 0/116 [00:00<?, ?it/s]"
      ]
     },
     "metadata": {},
     "output_type": "display_data"
    },
    {
     "name": "stdout",
     "output_type": "stream",
     "text": [
      "Training mean loss was 34.951393439851955\n",
      "\n",
      "Validation set: \n",
      "Validation mAP: 0.2686309814453125\n"
     ]
    },
    {
     "data": {
      "application/vnd.jupyter.widget-view+json": {
       "model_id": "662eb857eb2e4d6ea5268ae94e83d15b",
       "version_major": 2,
       "version_minor": 0
      },
      "text/plain": [
       "  0%|          | 0/6 [00:00<?, ?it/s]"
      ]
     },
     "metadata": {},
     "output_type": "display_data"
    },
    {
     "name": "stdout",
     "output_type": "stream",
     "text": [
      "Validation mean loss was 292.4580663045247\n",
      "__________________________________________________\n",
      "Epoch: 73\n",
      "\n",
      "Train set: \n",
      "Train mAP: 0.7457176446914673\n"
     ]
    },
    {
     "data": {
      "application/vnd.jupyter.widget-view+json": {
       "model_id": "709bc14102f047eabdf09b089ffe4673",
       "version_major": 2,
       "version_minor": 0
      },
      "text/plain": [
       "  0%|          | 0/116 [00:00<?, ?it/s]"
      ]
     },
     "metadata": {},
     "output_type": "display_data"
    },
    {
     "name": "stdout",
     "output_type": "stream",
     "text": [
      "Training mean loss was 37.41070892070902\n",
      "\n",
      "Validation set: \n",
      "Validation mAP: 0.28304529190063477\n"
     ]
    },
    {
     "data": {
      "application/vnd.jupyter.widget-view+json": {
       "model_id": "2f61aaa02e0245d390fde19e30cc0f57",
       "version_major": 2,
       "version_minor": 0
      },
      "text/plain": [
       "  0%|          | 0/6 [00:00<?, ?it/s]"
      ]
     },
     "metadata": {},
     "output_type": "display_data"
    },
    {
     "name": "stdout",
     "output_type": "stream",
     "text": [
      "Validation mean loss was 286.5608901977539\n",
      "__________________________________________________\n",
      "Epoch: 74\n",
      "\n",
      "Train set: \n",
      "Train mAP: 0.7351056933403015\n"
     ]
    },
    {
     "data": {
      "application/vnd.jupyter.widget-view+json": {
       "model_id": "bc33046f4044431fa230ce3cddd3f855",
       "version_major": 2,
       "version_minor": 0
      },
      "text/plain": [
       "  0%|          | 0/116 [00:00<?, ?it/s]"
      ]
     },
     "metadata": {},
     "output_type": "display_data"
    },
    {
     "name": "stdout",
     "output_type": "stream",
     "text": [
      "Training mean loss was 37.23356656370492\n",
      "\n",
      "Validation set: \n",
      "Validation mAP: 0.25614219903945923\n"
     ]
    },
    {
     "data": {
      "application/vnd.jupyter.widget-view+json": {
       "model_id": "6df8e0b663cf49f9a45e62303d4582a2",
       "version_major": 2,
       "version_minor": 0
      },
      "text/plain": [
       "  0%|          | 0/6 [00:00<?, ?it/s]"
      ]
     },
     "metadata": {},
     "output_type": "display_data"
    },
    {
     "name": "stdout",
     "output_type": "stream",
     "text": [
      "Validation mean loss was 279.80450948079425\n",
      "__________________________________________________\n",
      "Epoch: 75\n",
      "\n",
      "Train set: \n",
      "Train mAP: 0.7626098394393921\n"
     ]
    },
    {
     "data": {
      "application/vnd.jupyter.widget-view+json": {
       "model_id": "17b063b82a9b4dba8422f3e3577ca685",
       "version_major": 2,
       "version_minor": 0
      },
      "text/plain": [
       "  0%|          | 0/116 [00:00<?, ?it/s]"
      ]
     },
     "metadata": {},
     "output_type": "display_data"
    },
    {
     "name": "stdout",
     "output_type": "stream",
     "text": [
      "Training mean loss was 36.44869339055028\n",
      "\n",
      "Validation set: \n",
      "Validation mAP: 0.2845587432384491\n"
     ]
    },
    {
     "data": {
      "application/vnd.jupyter.widget-view+json": {
       "model_id": "c67b1842fbcb459ba8188e459047392c",
       "version_major": 2,
       "version_minor": 0
      },
      "text/plain": [
       "  0%|          | 0/6 [00:00<?, ?it/s]"
      ]
     },
     "metadata": {},
     "output_type": "display_data"
    },
    {
     "name": "stdout",
     "output_type": "stream",
     "text": [
      "Validation mean loss was 277.65748596191406\n",
      "__________________________________________________\n",
      "Epoch: 76\n",
      "\n",
      "Train set: \n",
      "Train mAP: 0.7531018257141113\n"
     ]
    },
    {
     "data": {
      "application/vnd.jupyter.widget-view+json": {
       "model_id": "fd4104029c834db49e2a252591ab6597",
       "version_major": 2,
       "version_minor": 0
      },
      "text/plain": [
       "  0%|          | 0/116 [00:00<?, ?it/s]"
      ]
     },
     "metadata": {},
     "output_type": "display_data"
    },
    {
     "name": "stdout",
     "output_type": "stream",
     "text": [
      "Training mean loss was 36.82762746153207\n",
      "\n",
      "Validation set: \n",
      "Validation mAP: 0.28941404819488525\n"
     ]
    },
    {
     "data": {
      "application/vnd.jupyter.widget-view+json": {
       "model_id": "a406a7da52bf4c6f8a18b7027e56141a",
       "version_major": 2,
       "version_minor": 0
      },
      "text/plain": [
       "  0%|          | 0/6 [00:00<?, ?it/s]"
      ]
     },
     "metadata": {},
     "output_type": "display_data"
    },
    {
     "name": "stdout",
     "output_type": "stream",
     "text": [
      "Validation mean loss was 275.83213806152344\n",
      "__________________________________________________\n",
      "Epoch: 77\n",
      "\n",
      "Train set: \n",
      "Train mAP: 0.7644292116165161\n"
     ]
    },
    {
     "data": {
      "application/vnd.jupyter.widget-view+json": {
       "model_id": "f4b474dc7f2f4a0180387e4ad0c0f7f6",
       "version_major": 2,
       "version_minor": 0
      },
      "text/plain": [
       "  0%|          | 0/116 [00:00<?, ?it/s]"
      ]
     },
     "metadata": {},
     "output_type": "display_data"
    },
    {
     "name": "stdout",
     "output_type": "stream",
     "text": [
      "Training mean loss was 33.157653085116685\n",
      "\n",
      "Validation set: \n",
      "Validation mAP: 0.2957971394062042\n"
     ]
    },
    {
     "data": {
      "application/vnd.jupyter.widget-view+json": {
       "model_id": "2f0914d9e57c4219b6c16954b5967f40",
       "version_major": 2,
       "version_minor": 0
      },
      "text/plain": [
       "  0%|          | 0/6 [00:00<?, ?it/s]"
      ]
     },
     "metadata": {},
     "output_type": "display_data"
    },
    {
     "name": "stdout",
     "output_type": "stream",
     "text": [
      "Validation mean loss was 269.17698160807294\n",
      "__________________________________________________\n",
      "Epoch: 78\n",
      "\n",
      "Train set: \n",
      "Train mAP: 0.8018115162849426\n"
     ]
    },
    {
     "data": {
      "application/vnd.jupyter.widget-view+json": {
       "model_id": "f9b8c16ca3274ba7a1f98d74fa65ccad",
       "version_major": 2,
       "version_minor": 0
      },
      "text/plain": [
       "  0%|          | 0/116 [00:00<?, ?it/s]"
      ]
     },
     "metadata": {},
     "output_type": "display_data"
    },
    {
     "name": "stdout",
     "output_type": "stream",
     "text": [
      "Training mean loss was 30.624118344537145\n",
      "\n",
      "Validation set: \n",
      "Validation mAP: 0.2813018560409546\n"
     ]
    },
    {
     "data": {
      "application/vnd.jupyter.widget-view+json": {
       "model_id": "c44067677c534d569a53dd838cc0c4bc",
       "version_major": 2,
       "version_minor": 0
      },
      "text/plain": [
       "  0%|          | 0/6 [00:00<?, ?it/s]"
      ]
     },
     "metadata": {},
     "output_type": "display_data"
    },
    {
     "name": "stdout",
     "output_type": "stream",
     "text": [
      "Validation mean loss was 264.97498830159503\n",
      "__________________________________________________\n",
      "Epoch: 79\n",
      "\n",
      "Train set: \n",
      "Train mAP: 0.761824369430542\n"
     ]
    },
    {
     "data": {
      "application/vnd.jupyter.widget-view+json": {
       "model_id": "b683320c37314b81bf15b48f5b88465a",
       "version_major": 2,
       "version_minor": 0
      },
      "text/plain": [
       "  0%|          | 0/116 [00:00<?, ?it/s]"
      ]
     },
     "metadata": {},
     "output_type": "display_data"
    },
    {
     "name": "stdout",
     "output_type": "stream",
     "text": [
      "Training mean loss was 29.873235373661437\n",
      "\n",
      "Validation set: \n",
      "Validation mAP: 0.3017500638961792\n"
     ]
    },
    {
     "data": {
      "application/vnd.jupyter.widget-view+json": {
       "model_id": "ec58789dcd574925835da7e6d3e2a99f",
       "version_major": 2,
       "version_minor": 0
      },
      "text/plain": [
       "  0%|          | 0/6 [00:00<?, ?it/s]"
      ]
     },
     "metadata": {},
     "output_type": "display_data"
    },
    {
     "name": "stdout",
     "output_type": "stream",
     "text": [
      "Validation mean loss was 272.5991032918294\n",
      "__________________________________________________\n",
      "Epoch: 80\n",
      "\n",
      "Train set: \n",
      "Train mAP: 0.7831109762191772\n",
      "=> Saving checkpoint\n"
     ]
    },
    {
     "data": {
      "application/vnd.jupyter.widget-view+json": {
       "model_id": "a3c283b0ed4e4c2db27c336ec0657ef4",
       "version_major": 2,
       "version_minor": 0
      },
      "text/plain": [
       "  0%|          | 0/116 [00:00<?, ?it/s]"
      ]
     },
     "metadata": {},
     "output_type": "display_data"
    },
    {
     "name": "stdout",
     "output_type": "stream",
     "text": [
      "Training mean loss was 28.340556391354266\n",
      "\n",
      "Validation set: \n",
      "Validation mAP: 0.29229632019996643\n"
     ]
    },
    {
     "data": {
      "application/vnd.jupyter.widget-view+json": {
       "model_id": "d5e1debca5c34a1aacc17491bf85284d",
       "version_major": 2,
       "version_minor": 0
      },
      "text/plain": [
       "  0%|          | 0/6 [00:00<?, ?it/s]"
      ]
     },
     "metadata": {},
     "output_type": "display_data"
    },
    {
     "name": "stdout",
     "output_type": "stream",
     "text": [
      "Validation mean loss was 268.5508626302083\n",
      "__________________________________________________\n",
      "Epoch: 81\n",
      "\n",
      "Train set: \n",
      "Train mAP: 0.7956480979919434\n"
     ]
    },
    {
     "data": {
      "application/vnd.jupyter.widget-view+json": {
       "model_id": "1a41f21cfd294eeb87208728aa04d894",
       "version_major": 2,
       "version_minor": 0
      },
      "text/plain": [
       "  0%|          | 0/116 [00:00<?, ?it/s]"
      ]
     },
     "metadata": {},
     "output_type": "display_data"
    },
    {
     "name": "stdout",
     "output_type": "stream",
     "text": [
      "Training mean loss was 27.66034200273711\n",
      "\n",
      "Validation set: \n",
      "Validation mAP: 0.2960238754749298\n"
     ]
    },
    {
     "data": {
      "application/vnd.jupyter.widget-view+json": {
       "model_id": "d654b2763ffc429588387a52ce47afe0",
       "version_major": 2,
       "version_minor": 0
      },
      "text/plain": [
       "  0%|          | 0/6 [00:00<?, ?it/s]"
      ]
     },
     "metadata": {},
     "output_type": "display_data"
    },
    {
     "name": "stdout",
     "output_type": "stream",
     "text": [
      "Validation mean loss was 274.64722696940106\n",
      "__________________________________________________\n",
      "Epoch: 82\n",
      "\n",
      "Train set: \n",
      "Train mAP: 0.7857526540756226\n"
     ]
    },
    {
     "data": {
      "application/vnd.jupyter.widget-view+json": {
       "model_id": "7078b9ad7175432d830c3a8844d63287",
       "version_major": 2,
       "version_minor": 0
      },
      "text/plain": [
       "  0%|          | 0/116 [00:00<?, ?it/s]"
      ]
     },
     "metadata": {},
     "output_type": "display_data"
    },
    {
     "name": "stdout",
     "output_type": "stream",
     "text": [
      "Training mean loss was 28.144216257950355\n",
      "\n",
      "Validation set: \n",
      "Validation mAP: 0.2925119996070862\n"
     ]
    },
    {
     "data": {
      "application/vnd.jupyter.widget-view+json": {
       "model_id": "927f42dc097948678ac382c7f1a088f0",
       "version_major": 2,
       "version_minor": 0
      },
      "text/plain": [
       "  0%|          | 0/6 [00:00<?, ?it/s]"
      ]
     },
     "metadata": {},
     "output_type": "display_data"
    },
    {
     "name": "stdout",
     "output_type": "stream",
     "text": [
      "Validation mean loss was 271.98875681559247\n",
      "__________________________________________________\n",
      "Epoch: 83\n",
      "\n",
      "Train set: \n",
      "Train mAP: 0.7711306214332581\n"
     ]
    },
    {
     "data": {
      "application/vnd.jupyter.widget-view+json": {
       "model_id": "849eb3c3c82a4580ac5b0da9cfc8488c",
       "version_major": 2,
       "version_minor": 0
      },
      "text/plain": [
       "  0%|          | 0/116 [00:00<?, ?it/s]"
      ]
     },
     "metadata": {},
     "output_type": "display_data"
    },
    {
     "name": "stdout",
     "output_type": "stream",
     "text": [
      "Training mean loss was 29.730677456691346\n",
      "\n",
      "Validation set: \n",
      "Validation mAP: 0.2852037250995636\n"
     ]
    },
    {
     "data": {
      "application/vnd.jupyter.widget-view+json": {
       "model_id": "18eeb12a6f0d47d09782dc59dabda01d",
       "version_major": 2,
       "version_minor": 0
      },
      "text/plain": [
       "  0%|          | 0/6 [00:00<?, ?it/s]"
      ]
     },
     "metadata": {},
     "output_type": "display_data"
    },
    {
     "name": "stdout",
     "output_type": "stream",
     "text": [
      "Validation mean loss was 259.82518768310547\n",
      "__________________________________________________\n",
      "Epoch: 84\n",
      "\n",
      "Train set: \n",
      "Train mAP: 0.7889492511749268\n"
     ]
    },
    {
     "data": {
      "application/vnd.jupyter.widget-view+json": {
       "model_id": "86a79231797c41d7a46f390177da6f4f",
       "version_major": 2,
       "version_minor": 0
      },
      "text/plain": [
       "  0%|          | 0/116 [00:00<?, ?it/s]"
      ]
     },
     "metadata": {},
     "output_type": "display_data"
    },
    {
     "name": "stdout",
     "output_type": "stream",
     "text": [
      "Training mean loss was 38.611276626586914\n",
      "\n",
      "Validation set: \n",
      "Validation mAP: 0.2735820710659027\n"
     ]
    },
    {
     "data": {
      "application/vnd.jupyter.widget-view+json": {
       "model_id": "1511c118d7c54565a5b6611da409611d",
       "version_major": 2,
       "version_minor": 0
      },
      "text/plain": [
       "  0%|          | 0/6 [00:00<?, ?it/s]"
      ]
     },
     "metadata": {},
     "output_type": "display_data"
    },
    {
     "name": "stdout",
     "output_type": "stream",
     "text": [
      "Validation mean loss was 271.4376475016276\n",
      "__________________________________________________\n",
      "Epoch: 85\n",
      "\n",
      "Train set: \n",
      "Train mAP: 0.7471878528594971\n"
     ]
    },
    {
     "data": {
      "application/vnd.jupyter.widget-view+json": {
       "model_id": "fc25b9a1a8964d809f2aee121dd5ca1c",
       "version_major": 2,
       "version_minor": 0
      },
      "text/plain": [
       "  0%|          | 0/116 [00:00<?, ?it/s]"
      ]
     },
     "metadata": {},
     "output_type": "display_data"
    },
    {
     "name": "stdout",
     "output_type": "stream",
     "text": [
      "Training mean loss was 35.28248107844386\n",
      "\n",
      "Validation set: \n",
      "Validation mAP: 0.2514590322971344\n"
     ]
    },
    {
     "data": {
      "application/vnd.jupyter.widget-view+json": {
       "model_id": "99c51555c434475e92bff311bb81de2e",
       "version_major": 2,
       "version_minor": 0
      },
      "text/plain": [
       "  0%|          | 0/6 [00:00<?, ?it/s]"
      ]
     },
     "metadata": {},
     "output_type": "display_data"
    },
    {
     "name": "stdout",
     "output_type": "stream",
     "text": [
      "Validation mean loss was 276.2921549479167\n",
      "__________________________________________________\n",
      "Epoch: 86\n",
      "\n",
      "Train set: \n",
      "Train mAP: 0.7636411190032959\n"
     ]
    },
    {
     "data": {
      "application/vnd.jupyter.widget-view+json": {
       "model_id": "190d3ac5030842b286b546c7058a1c4e",
       "version_major": 2,
       "version_minor": 0
      },
      "text/plain": [
       "  0%|          | 0/116 [00:00<?, ?it/s]"
      ]
     },
     "metadata": {},
     "output_type": "display_data"
    },
    {
     "name": "stdout",
     "output_type": "stream",
     "text": [
      "Training mean loss was 31.329851364267284\n",
      "\n",
      "Validation set: \n",
      "Validation mAP: 0.2802891135215759\n"
     ]
    },
    {
     "data": {
      "application/vnd.jupyter.widget-view+json": {
       "model_id": "d70af277eb53478ab3cae0ec9d4bee70",
       "version_major": 2,
       "version_minor": 0
      },
      "text/plain": [
       "  0%|          | 0/6 [00:00<?, ?it/s]"
      ]
     },
     "metadata": {},
     "output_type": "display_data"
    },
    {
     "name": "stdout",
     "output_type": "stream",
     "text": [
      "Validation mean loss was 265.32718149820965\n",
      "__________________________________________________\n",
      "Epoch: 87\n",
      "\n",
      "Train set: \n",
      "Train mAP: 0.8020482063293457\n"
     ]
    },
    {
     "data": {
      "application/vnd.jupyter.widget-view+json": {
       "model_id": "452b8f6714ed4276a0b044e18e79259e",
       "version_major": 2,
       "version_minor": 0
      },
      "text/plain": [
       "  0%|          | 0/116 [00:00<?, ?it/s]"
      ]
     },
     "metadata": {},
     "output_type": "display_data"
    },
    {
     "name": "stdout",
     "output_type": "stream",
     "text": [
      "Training mean loss was 30.11938164151948\n",
      "\n",
      "Validation set: \n",
      "Validation mAP: 0.27779167890548706\n"
     ]
    },
    {
     "data": {
      "application/vnd.jupyter.widget-view+json": {
       "model_id": "b98c911228374e15a18944c597c6eb2f",
       "version_major": 2,
       "version_minor": 0
      },
      "text/plain": [
       "  0%|          | 0/6 [00:00<?, ?it/s]"
      ]
     },
     "metadata": {},
     "output_type": "display_data"
    },
    {
     "name": "stdout",
     "output_type": "stream",
     "text": [
      "Validation mean loss was 275.52782440185547\n",
      "__________________________________________________\n",
      "Epoch: 88\n",
      "\n",
      "Train set: \n",
      "Train mAP: 0.7899261713027954\n"
     ]
    },
    {
     "data": {
      "application/vnd.jupyter.widget-view+json": {
       "model_id": "216d723593a74c508c7689acf25cab5e",
       "version_major": 2,
       "version_minor": 0
      },
      "text/plain": [
       "  0%|          | 0/116 [00:00<?, ?it/s]"
      ]
     },
     "metadata": {},
     "output_type": "display_data"
    },
    {
     "name": "stdout",
     "output_type": "stream",
     "text": [
      "Training mean loss was 27.905222711891962\n",
      "\n",
      "Validation set: \n",
      "Validation mAP: 0.31420382857322693\n"
     ]
    },
    {
     "data": {
      "application/vnd.jupyter.widget-view+json": {
       "model_id": "0bfc8f951eaf4ead84f52ba738aac4aa",
       "version_major": 2,
       "version_minor": 0
      },
      "text/plain": [
       "  0%|          | 0/6 [00:00<?, ?it/s]"
      ]
     },
     "metadata": {},
     "output_type": "display_data"
    },
    {
     "name": "stdout",
     "output_type": "stream",
     "text": [
      "Validation mean loss was 259.07703908284503\n",
      "__________________________________________________\n",
      "Epoch: 89\n",
      "\n",
      "Train set: \n",
      "Train mAP: 0.7903153896331787\n"
     ]
    },
    {
     "data": {
      "application/vnd.jupyter.widget-view+json": {
       "model_id": "3ad7f2a5b43243ce9a6b54a8c6d44aee",
       "version_major": 2,
       "version_minor": 0
      },
      "text/plain": [
       "  0%|          | 0/116 [00:00<?, ?it/s]"
      ]
     },
     "metadata": {},
     "output_type": "display_data"
    },
    {
     "name": "stdout",
     "output_type": "stream",
     "text": [
      "Training mean loss was 26.725738163652093\n",
      "\n",
      "Validation set: \n",
      "Validation mAP: 0.29654908180236816\n"
     ]
    },
    {
     "data": {
      "application/vnd.jupyter.widget-view+json": {
       "model_id": "d9ec2e3f18e14bb0958761765f55b5e4",
       "version_major": 2,
       "version_minor": 0
      },
      "text/plain": [
       "  0%|          | 0/6 [00:00<?, ?it/s]"
      ]
     },
     "metadata": {},
     "output_type": "display_data"
    },
    {
     "name": "stdout",
     "output_type": "stream",
     "text": [
      "Validation mean loss was 270.7104670206706\n",
      "__________________________________________________\n",
      "Epoch: 90\n",
      "\n",
      "Train set: \n",
      "Train mAP: 0.8050433397293091\n",
      "=> Saving checkpoint\n"
     ]
    },
    {
     "data": {
      "application/vnd.jupyter.widget-view+json": {
       "model_id": "9c623f11e0944f769c546c386e82fcd0",
       "version_major": 2,
       "version_minor": 0
      },
      "text/plain": [
       "  0%|          | 0/116 [00:00<?, ?it/s]"
      ]
     },
     "metadata": {},
     "output_type": "display_data"
    },
    {
     "name": "stdout",
     "output_type": "stream",
     "text": [
      "Training mean loss was 27.986055324817524\n",
      "\n",
      "Validation set: \n",
      "Validation mAP: 0.33510059118270874\n"
     ]
    },
    {
     "data": {
      "application/vnd.jupyter.widget-view+json": {
       "model_id": "6def7daf2a60453bb971c03c1959d9d8",
       "version_major": 2,
       "version_minor": 0
      },
      "text/plain": [
       "  0%|          | 0/6 [00:00<?, ?it/s]"
      ]
     },
     "metadata": {},
     "output_type": "display_data"
    },
    {
     "name": "stdout",
     "output_type": "stream",
     "text": [
      "Validation mean loss was 265.54032135009766\n",
      "__________________________________________________\n",
      "Epoch: 91\n",
      "\n",
      "Train set: \n",
      "Train mAP: 0.7748775482177734\n"
     ]
    },
    {
     "data": {
      "application/vnd.jupyter.widget-view+json": {
       "model_id": "b362e32703574908951a078852839ce0",
       "version_major": 2,
       "version_minor": 0
      },
      "text/plain": [
       "  0%|          | 0/116 [00:00<?, ?it/s]"
      ]
     },
     "metadata": {},
     "output_type": "display_data"
    },
    {
     "name": "stdout",
     "output_type": "stream",
     "text": [
      "Training mean loss was 28.35136365890503\n",
      "\n",
      "Validation set: \n",
      "Validation mAP: 0.3064572215080261\n"
     ]
    },
    {
     "data": {
      "application/vnd.jupyter.widget-view+json": {
       "model_id": "892b5e7263414bd1a1c74a43a5a8c23a",
       "version_major": 2,
       "version_minor": 0
      },
      "text/plain": [
       "  0%|          | 0/6 [00:00<?, ?it/s]"
      ]
     },
     "metadata": {},
     "output_type": "display_data"
    },
    {
     "name": "stdout",
     "output_type": "stream",
     "text": [
      "Validation mean loss was 257.23296610514325\n",
      "__________________________________________________\n",
      "Epoch: 92\n",
      "\n",
      "Train set: \n",
      "Train mAP: 0.8018016815185547\n"
     ]
    },
    {
     "data": {
      "application/vnd.jupyter.widget-view+json": {
       "model_id": "c821db80aa504c09869fa5f55def3396",
       "version_major": 2,
       "version_minor": 0
      },
      "text/plain": [
       "  0%|          | 0/116 [00:00<?, ?it/s]"
      ]
     },
     "metadata": {},
     "output_type": "display_data"
    },
    {
     "name": "stdout",
     "output_type": "stream",
     "text": [
      "Training mean loss was 26.946625775304334\n",
      "\n",
      "Validation set: \n",
      "Validation mAP: 0.30503737926483154\n"
     ]
    },
    {
     "data": {
      "application/vnd.jupyter.widget-view+json": {
       "model_id": "a4146adc3b0a454085c84ac7ad445adc",
       "version_major": 2,
       "version_minor": 0
      },
      "text/plain": [
       "  0%|          | 0/6 [00:00<?, ?it/s]"
      ]
     },
     "metadata": {},
     "output_type": "display_data"
    },
    {
     "name": "stdout",
     "output_type": "stream",
     "text": [
      "Validation mean loss was 250.76180775960287\n",
      "__________________________________________________\n",
      "Epoch: 93\n",
      "\n",
      "Train set: \n",
      "Train mAP: 0.8063172101974487\n"
     ]
    },
    {
     "data": {
      "application/vnd.jupyter.widget-view+json": {
       "model_id": "6689bcf3f0034b53b83cd9c28f4e0bef",
       "version_major": 2,
       "version_minor": 0
      },
      "text/plain": [
       "  0%|          | 0/116 [00:00<?, ?it/s]"
      ]
     },
     "metadata": {},
     "output_type": "display_data"
    },
    {
     "name": "stdout",
     "output_type": "stream",
     "text": [
      "Training mean loss was 24.819011260723247\n",
      "\n",
      "Validation set: \n",
      "Validation mAP: 0.3085624873638153\n"
     ]
    },
    {
     "data": {
      "application/vnd.jupyter.widget-view+json": {
       "model_id": "abc2a3e1b0f541bea69e5af9214f3e34",
       "version_major": 2,
       "version_minor": 0
      },
      "text/plain": [
       "  0%|          | 0/6 [00:00<?, ?it/s]"
      ]
     },
     "metadata": {},
     "output_type": "display_data"
    },
    {
     "name": "stdout",
     "output_type": "stream",
     "text": [
      "Validation mean loss was 273.25658416748047\n",
      "__________________________________________________\n",
      "Epoch: 94\n",
      "\n",
      "Train set: \n",
      "Train mAP: 0.8242133855819702\n"
     ]
    },
    {
     "data": {
      "application/vnd.jupyter.widget-view+json": {
       "model_id": "016cd0af343349b08ba619f1935f790d",
       "version_major": 2,
       "version_minor": 0
      },
      "text/plain": [
       "  0%|          | 0/116 [00:00<?, ?it/s]"
      ]
     },
     "metadata": {},
     "output_type": "display_data"
    },
    {
     "name": "stdout",
     "output_type": "stream",
     "text": [
      "Training mean loss was 24.629568905665955\n",
      "\n",
      "Validation set: \n",
      "Validation mAP: 0.3051234185695648\n"
     ]
    },
    {
     "data": {
      "application/vnd.jupyter.widget-view+json": {
       "model_id": "838ad41ef36a4f61aef2c43ae559035d",
       "version_major": 2,
       "version_minor": 0
      },
      "text/plain": [
       "  0%|          | 0/6 [00:00<?, ?it/s]"
      ]
     },
     "metadata": {},
     "output_type": "display_data"
    },
    {
     "name": "stdout",
     "output_type": "stream",
     "text": [
      "Validation mean loss was 264.56820424397785\n",
      "__________________________________________________\n",
      "Epoch: 95\n",
      "\n",
      "Train set: \n",
      "Train mAP: 0.8109035491943359\n"
     ]
    },
    {
     "data": {
      "application/vnd.jupyter.widget-view+json": {
       "model_id": "f461ec6420ee4b15b438ccc9c65d5139",
       "version_major": 2,
       "version_minor": 0
      },
      "text/plain": [
       "  0%|          | 0/116 [00:00<?, ?it/s]"
      ]
     },
     "metadata": {},
     "output_type": "display_data"
    },
    {
     "name": "stdout",
     "output_type": "stream",
     "text": [
      "Training mean loss was 25.669015917284735\n",
      "\n",
      "Validation set: \n",
      "Validation mAP: 0.30907976627349854\n"
     ]
    },
    {
     "data": {
      "application/vnd.jupyter.widget-view+json": {
       "model_id": "c99712762ce8432bb517845b4bf51e51",
       "version_major": 2,
       "version_minor": 0
      },
      "text/plain": [
       "  0%|          | 0/6 [00:00<?, ?it/s]"
      ]
     },
     "metadata": {},
     "output_type": "display_data"
    },
    {
     "name": "stdout",
     "output_type": "stream",
     "text": [
      "Validation mean loss was 266.24391682942706\n",
      "__________________________________________________\n",
      "Epoch: 96\n",
      "\n",
      "Train set: \n",
      "Train mAP: 0.8097481727600098\n"
     ]
    },
    {
     "data": {
      "application/vnd.jupyter.widget-view+json": {
       "model_id": "7e90a5d4433f4c2aaede634976ef9056",
       "version_major": 2,
       "version_minor": 0
      },
      "text/plain": [
       "  0%|          | 0/116 [00:00<?, ?it/s]"
      ]
     },
     "metadata": {},
     "output_type": "display_data"
    },
    {
     "name": "stdout",
     "output_type": "stream",
     "text": [
      "Training mean loss was 25.904538253258014\n",
      "\n",
      "Validation set: \n",
      "Validation mAP: 0.32328540086746216\n"
     ]
    },
    {
     "data": {
      "application/vnd.jupyter.widget-view+json": {
       "model_id": "87859683da74408793d6276250f1ab72",
       "version_major": 2,
       "version_minor": 0
      },
      "text/plain": [
       "  0%|          | 0/6 [00:00<?, ?it/s]"
      ]
     },
     "metadata": {},
     "output_type": "display_data"
    },
    {
     "name": "stdout",
     "output_type": "stream",
     "text": [
      "Validation mean loss was 250.1141153971354\n",
      "__________________________________________________\n",
      "Epoch: 97\n",
      "\n",
      "Train set: \n",
      "Train mAP: 0.8122901916503906\n"
     ]
    },
    {
     "data": {
      "application/vnd.jupyter.widget-view+json": {
       "model_id": "ea017f3460fc489088f33766497a4407",
       "version_major": 2,
       "version_minor": 0
      },
      "text/plain": [
       "  0%|          | 0/116 [00:00<?, ?it/s]"
      ]
     },
     "metadata": {},
     "output_type": "display_data"
    },
    {
     "name": "stdout",
     "output_type": "stream",
     "text": [
      "Training mean loss was 26.777448374649573\n",
      "\n",
      "Validation set: \n",
      "Validation mAP: 0.31282880902290344\n"
     ]
    },
    {
     "data": {
      "application/vnd.jupyter.widget-view+json": {
       "model_id": "bd4e6c90aab948c490e1477e02d3c50f",
       "version_major": 2,
       "version_minor": 0
      },
      "text/plain": [
       "  0%|          | 0/6 [00:00<?, ?it/s]"
      ]
     },
     "metadata": {},
     "output_type": "display_data"
    },
    {
     "name": "stdout",
     "output_type": "stream",
     "text": [
      "Validation mean loss was 256.3916320800781\n",
      "__________________________________________________\n",
      "Epoch: 98\n",
      "\n",
      "Train set: \n",
      "Train mAP: 0.7989133596420288\n"
     ]
    },
    {
     "data": {
      "application/vnd.jupyter.widget-view+json": {
       "model_id": "fae3a0363e294be09f0cc581ccf52b4d",
       "version_major": 2,
       "version_minor": 0
      },
      "text/plain": [
       "  0%|          | 0/116 [00:00<?, ?it/s]"
      ]
     },
     "metadata": {},
     "output_type": "display_data"
    },
    {
     "name": "stdout",
     "output_type": "stream",
     "text": [
      "Training mean loss was 25.780050738104457\n",
      "\n",
      "Validation set: \n",
      "Validation mAP: 0.34322935342788696\n"
     ]
    },
    {
     "data": {
      "application/vnd.jupyter.widget-view+json": {
       "model_id": "9f0e93a5a8094f9089084f8eaa53fc65",
       "version_major": 2,
       "version_minor": 0
      },
      "text/plain": [
       "  0%|          | 0/6 [00:00<?, ?it/s]"
      ]
     },
     "metadata": {},
     "output_type": "display_data"
    },
    {
     "name": "stdout",
     "output_type": "stream",
     "text": [
      "Validation mean loss was 245.72105407714844\n",
      "__________________________________________________\n",
      "Epoch: 99\n",
      "\n",
      "Train set: \n",
      "Train mAP: 0.825999915599823\n"
     ]
    },
    {
     "data": {
      "application/vnd.jupyter.widget-view+json": {
       "model_id": "411124bc1b804e71992197c45a7319c4",
       "version_major": 2,
       "version_minor": 0
      },
      "text/plain": [
       "  0%|          | 0/116 [00:00<?, ?it/s]"
      ]
     },
     "metadata": {},
     "output_type": "display_data"
    },
    {
     "name": "stdout",
     "output_type": "stream",
     "text": [
      "Training mean loss was 24.178416137037605\n",
      "\n",
      "Validation set: \n",
      "Validation mAP: 0.2786339521408081\n"
     ]
    },
    {
     "data": {
      "application/vnd.jupyter.widget-view+json": {
       "model_id": "7ec3acfed7024fcbac799f67e3aa2205",
       "version_major": 2,
       "version_minor": 0
      },
      "text/plain": [
       "  0%|          | 0/6 [00:00<?, ?it/s]"
      ]
     },
     "metadata": {},
     "output_type": "display_data"
    },
    {
     "name": "stdout",
     "output_type": "stream",
     "text": [
      "Validation mean loss was 257.5240656534831\n",
      "__________________________________________________\n",
      "Epoch: 100\n",
      "\n",
      "Train set: \n",
      "Train mAP: 0.8107109665870667\n",
      "=> Saving checkpoint\n"
     ]
    },
    {
     "data": {
      "application/vnd.jupyter.widget-view+json": {
       "model_id": "2cb60370ca8e4fa4a6c36974604ffe1c",
       "version_major": 2,
       "version_minor": 0
      },
      "text/plain": [
       "  0%|          | 0/116 [00:00<?, ?it/s]"
      ]
     },
     "metadata": {},
     "output_type": "display_data"
    },
    {
     "name": "stdout",
     "output_type": "stream",
     "text": [
      "Training mean loss was 24.721253658163135\n",
      "\n",
      "Validation set: \n",
      "Validation mAP: 0.3283759653568268\n"
     ]
    },
    {
     "data": {
      "application/vnd.jupyter.widget-view+json": {
       "model_id": "1e721e38043541a9bc7108df4ff723f6",
       "version_major": 2,
       "version_minor": 0
      },
      "text/plain": [
       "  0%|          | 0/6 [00:00<?, ?it/s]"
      ]
     },
     "metadata": {},
     "output_type": "display_data"
    },
    {
     "name": "stdout",
     "output_type": "stream",
     "text": [
      "Validation mean loss was 245.7533187866211\n",
      "__________________________________________________\n",
      "Epoch: 101\n",
      "\n",
      "Train set: \n",
      "Train mAP: 0.8072190284729004\n"
     ]
    },
    {
     "data": {
      "application/vnd.jupyter.widget-view+json": {
       "model_id": "23bf732b03554ba8af30389c9e1d1170",
       "version_major": 2,
       "version_minor": 0
      },
      "text/plain": [
       "  0%|          | 0/116 [00:00<?, ?it/s]"
      ]
     },
     "metadata": {},
     "output_type": "display_data"
    },
    {
     "name": "stdout",
     "output_type": "stream",
     "text": [
      "Training mean loss was 25.428991613716914\n",
      "\n",
      "Validation set: \n",
      "Validation mAP: 0.3222512900829315\n"
     ]
    },
    {
     "data": {
      "application/vnd.jupyter.widget-view+json": {
       "model_id": "ecda6c73b4414a419abb69ddebb6b7c3",
       "version_major": 2,
       "version_minor": 0
      },
      "text/plain": [
       "  0%|          | 0/6 [00:00<?, ?it/s]"
      ]
     },
     "metadata": {},
     "output_type": "display_data"
    },
    {
     "name": "stdout",
     "output_type": "stream",
     "text": [
      "Validation mean loss was 253.4330596923828\n",
      "__________________________________________________\n",
      "Epoch: 102\n",
      "\n",
      "Train set: \n",
      "Train mAP: 0.8191983103752136\n"
     ]
    },
    {
     "data": {
      "application/vnd.jupyter.widget-view+json": {
       "model_id": "c33b457d4fdf4d4baf5d68db00e6815f",
       "version_major": 2,
       "version_minor": 0
      },
      "text/plain": [
       "  0%|          | 0/116 [00:00<?, ?it/s]"
      ]
     },
     "metadata": {},
     "output_type": "display_data"
    },
    {
     "name": "stdout",
     "output_type": "stream",
     "text": [
      "Training mean loss was 25.765421571402715\n",
      "\n",
      "Validation set: \n",
      "Validation mAP: 0.3094958961009979\n"
     ]
    },
    {
     "data": {
      "application/vnd.jupyter.widget-view+json": {
       "model_id": "f5c7e24f38f14b26ae224efcd25d4b97",
       "version_major": 2,
       "version_minor": 0
      },
      "text/plain": [
       "  0%|          | 0/6 [00:00<?, ?it/s]"
      ]
     },
     "metadata": {},
     "output_type": "display_data"
    },
    {
     "name": "stdout",
     "output_type": "stream",
     "text": [
      "Validation mean loss was 270.3209737141927\n",
      "__________________________________________________\n",
      "Epoch: 103\n",
      "\n",
      "Train set: \n",
      "Train mAP: 0.814679741859436\n"
     ]
    },
    {
     "data": {
      "application/vnd.jupyter.widget-view+json": {
       "model_id": "c11619641a2e4ea08fd5b04f75a85c69",
       "version_major": 2,
       "version_minor": 0
      },
      "text/plain": [
       "  0%|          | 0/116 [00:00<?, ?it/s]"
      ]
     },
     "metadata": {},
     "output_type": "display_data"
    },
    {
     "name": "stdout",
     "output_type": "stream",
     "text": [
      "Training mean loss was 24.20375181066579\n",
      "\n",
      "Validation set: \n",
      "Validation mAP: 0.3469797670841217\n"
     ]
    },
    {
     "data": {
      "application/vnd.jupyter.widget-view+json": {
       "model_id": "59cefe7e33624476975a41b8c56993e5",
       "version_major": 2,
       "version_minor": 0
      },
      "text/plain": [
       "  0%|          | 0/6 [00:00<?, ?it/s]"
      ]
     },
     "metadata": {},
     "output_type": "display_data"
    },
    {
     "name": "stdout",
     "output_type": "stream",
     "text": [
      "Validation mean loss was 247.71789042154947\n",
      "__________________________________________________\n",
      "Epoch: 104\n",
      "\n",
      "Train set: \n",
      "Train mAP: 0.8369320631027222\n"
     ]
    },
    {
     "data": {
      "application/vnd.jupyter.widget-view+json": {
       "model_id": "4d105bc7d597496cbceaf61084a6601d",
       "version_major": 2,
       "version_minor": 0
      },
      "text/plain": [
       "  0%|          | 0/116 [00:00<?, ?it/s]"
      ]
     },
     "metadata": {},
     "output_type": "display_data"
    },
    {
     "name": "stdout",
     "output_type": "stream",
     "text": [
      "Training mean loss was 22.310105101815587\n",
      "\n",
      "Validation set: \n",
      "Validation mAP: 0.3223739266395569\n"
     ]
    },
    {
     "data": {
      "application/vnd.jupyter.widget-view+json": {
       "model_id": "825ae53d50b8478fafeb46778788db8d",
       "version_major": 2,
       "version_minor": 0
      },
      "text/plain": [
       "  0%|          | 0/6 [00:00<?, ?it/s]"
      ]
     },
     "metadata": {},
     "output_type": "display_data"
    },
    {
     "name": "stdout",
     "output_type": "stream",
     "text": [
      "Validation mean loss was 246.6292292277018\n",
      "__________________________________________________\n",
      "Epoch: 105\n",
      "\n",
      "Train set: \n",
      "Train mAP: 0.8160183429718018\n"
     ]
    },
    {
     "data": {
      "application/vnd.jupyter.widget-view+json": {
       "model_id": "47527f28b73240789d28289f7b49c8e6",
       "version_major": 2,
       "version_minor": 0
      },
      "text/plain": [
       "  0%|          | 0/116 [00:00<?, ?it/s]"
      ]
     },
     "metadata": {},
     "output_type": "display_data"
    },
    {
     "name": "stdout",
     "output_type": "stream",
     "text": [
      "Training mean loss was 21.97952492483731\n",
      "\n",
      "Validation set: \n",
      "Validation mAP: 0.2939690947532654\n"
     ]
    },
    {
     "data": {
      "application/vnd.jupyter.widget-view+json": {
       "model_id": "65b1b4d7b4394304a5d259571f14ea35",
       "version_major": 2,
       "version_minor": 0
      },
      "text/plain": [
       "  0%|          | 0/6 [00:00<?, ?it/s]"
      ]
     },
     "metadata": {},
     "output_type": "display_data"
    },
    {
     "name": "stdout",
     "output_type": "stream",
     "text": [
      "Validation mean loss was 254.2074966430664\n",
      "__________________________________________________\n",
      "Epoch: 106\n",
      "\n",
      "Train set: \n",
      "Train mAP: 0.7840031981468201\n"
     ]
    },
    {
     "data": {
      "application/vnd.jupyter.widget-view+json": {
       "model_id": "d233384f51db45d2b61dc9dcf0c45e30",
       "version_major": 2,
       "version_minor": 0
      },
      "text/plain": [
       "  0%|          | 0/116 [00:00<?, ?it/s]"
      ]
     },
     "metadata": {},
     "output_type": "display_data"
    },
    {
     "name": "stdout",
     "output_type": "stream",
     "text": [
      "Training mean loss was 22.190127964677483\n",
      "\n",
      "Validation set: \n",
      "Validation mAP: 0.3461816608905792\n"
     ]
    },
    {
     "data": {
      "application/vnd.jupyter.widget-view+json": {
       "model_id": "398efa7b208d44c88646a3f0b5845bfc",
       "version_major": 2,
       "version_minor": 0
      },
      "text/plain": [
       "  0%|          | 0/6 [00:00<?, ?it/s]"
      ]
     },
     "metadata": {},
     "output_type": "display_data"
    },
    {
     "name": "stdout",
     "output_type": "stream",
     "text": [
      "Validation mean loss was 248.0466791788737\n",
      "__________________________________________________\n",
      "Epoch: 107\n",
      "\n",
      "Train set: \n",
      "Train mAP: 0.8147012591362\n"
     ]
    },
    {
     "data": {
      "application/vnd.jupyter.widget-view+json": {
       "model_id": "1cbf3f4056c140488267eac31b1ec1e8",
       "version_major": 2,
       "version_minor": 0
      },
      "text/plain": [
       "  0%|          | 0/116 [00:00<?, ?it/s]"
      ]
     },
     "metadata": {},
     "output_type": "display_data"
    },
    {
     "name": "stdout",
     "output_type": "stream",
     "text": [
      "Training mean loss was 21.476422934696593\n",
      "\n",
      "Validation set: \n",
      "Validation mAP: 0.3149128556251526\n"
     ]
    },
    {
     "data": {
      "application/vnd.jupyter.widget-view+json": {
       "model_id": "d6cdc5115ca04663b9daed0e5862460d",
       "version_major": 2,
       "version_minor": 0
      },
      "text/plain": [
       "  0%|          | 0/6 [00:00<?, ?it/s]"
      ]
     },
     "metadata": {},
     "output_type": "display_data"
    },
    {
     "name": "stdout",
     "output_type": "stream",
     "text": [
      "Validation mean loss was 252.23261515299478\n",
      "__________________________________________________\n",
      "Epoch: 108\n",
      "\n",
      "Train set: \n",
      "Train mAP: 0.8470637202262878\n"
     ]
    },
    {
     "data": {
      "application/vnd.jupyter.widget-view+json": {
       "model_id": "753a22ab70424549bdf18bb8e6f2b5db",
       "version_major": 2,
       "version_minor": 0
      },
      "text/plain": [
       "  0%|          | 0/116 [00:00<?, ?it/s]"
      ]
     },
     "metadata": {},
     "output_type": "display_data"
    },
    {
     "name": "stdout",
     "output_type": "stream",
     "text": [
      "Training mean loss was 20.05180633479151\n",
      "\n",
      "Validation set: \n",
      "Validation mAP: 0.3295886516571045\n"
     ]
    },
    {
     "data": {
      "application/vnd.jupyter.widget-view+json": {
       "model_id": "f11f968ea61d4707ad818b1cf906c626",
       "version_major": 2,
       "version_minor": 0
      },
      "text/plain": [
       "  0%|          | 0/6 [00:00<?, ?it/s]"
      ]
     },
     "metadata": {},
     "output_type": "display_data"
    },
    {
     "name": "stdout",
     "output_type": "stream",
     "text": [
      "Validation mean loss was 247.38223775227866\n",
      "__________________________________________________\n",
      "Epoch: 109\n",
      "\n",
      "Train set: \n",
      "Train mAP: 0.8404569625854492\n"
     ]
    },
    {
     "data": {
      "application/vnd.jupyter.widget-view+json": {
       "model_id": "7786229a511843bebbf3d4f6455595ce",
       "version_major": 2,
       "version_minor": 0
      },
      "text/plain": [
       "  0%|          | 0/116 [00:00<?, ?it/s]"
      ]
     },
     "metadata": {},
     "output_type": "display_data"
    },
    {
     "name": "stdout",
     "output_type": "stream",
     "text": [
      "Training mean loss was 22.732561037458222\n",
      "\n",
      "Validation set: \n",
      "Validation mAP: 0.3106629550457001\n"
     ]
    },
    {
     "data": {
      "application/vnd.jupyter.widget-view+json": {
       "model_id": "1a2e99e69bd249b0b554aeaa51106575",
       "version_major": 2,
       "version_minor": 0
      },
      "text/plain": [
       "  0%|          | 0/6 [00:00<?, ?it/s]"
      ]
     },
     "metadata": {},
     "output_type": "display_data"
    },
    {
     "name": "stdout",
     "output_type": "stream",
     "text": [
      "Validation mean loss was 242.8064931233724\n",
      "__________________________________________________\n",
      "Epoch: 110\n",
      "\n",
      "Train set: \n",
      "Train mAP: 0.8203639388084412\n",
      "=> Saving checkpoint\n"
     ]
    },
    {
     "data": {
      "application/vnd.jupyter.widget-view+json": {
       "model_id": "cdd4401c55234683b3f740962b1bc404",
       "version_major": 2,
       "version_minor": 0
      },
      "text/plain": [
       "  0%|          | 0/116 [00:00<?, ?it/s]"
      ]
     },
     "metadata": {},
     "output_type": "display_data"
    },
    {
     "name": "stdout",
     "output_type": "stream",
     "text": [
      "Training mean loss was 22.537331860640954\n",
      "\n",
      "Validation set: \n",
      "Validation mAP: 0.34344321489334106\n"
     ]
    },
    {
     "data": {
      "application/vnd.jupyter.widget-view+json": {
       "model_id": "307d4ff08ffc4fd2a76eaae5468b9efe",
       "version_major": 2,
       "version_minor": 0
      },
      "text/plain": [
       "  0%|          | 0/6 [00:00<?, ?it/s]"
      ]
     },
     "metadata": {},
     "output_type": "display_data"
    },
    {
     "name": "stdout",
     "output_type": "stream",
     "text": [
      "Validation mean loss was 247.95563761393228\n",
      "__________________________________________________\n",
      "Epoch: 111\n",
      "\n",
      "Train set: \n",
      "Train mAP: 0.8328704237937927\n"
     ]
    },
    {
     "data": {
      "application/vnd.jupyter.widget-view+json": {
       "model_id": "a44651efc9af4fe6bdd0b6abe41a48c6",
       "version_major": 2,
       "version_minor": 0
      },
      "text/plain": [
       "  0%|          | 0/116 [00:00<?, ?it/s]"
      ]
     },
     "metadata": {},
     "output_type": "display_data"
    },
    {
     "name": "stdout",
     "output_type": "stream",
     "text": [
      "Training mean loss was 20.972653035459846\n",
      "\n",
      "Validation set: \n",
      "Validation mAP: 0.3334880471229553\n"
     ]
    },
    {
     "data": {
      "application/vnd.jupyter.widget-view+json": {
       "model_id": "85806bb13ccb4a0bb5b586e3a6404185",
       "version_major": 2,
       "version_minor": 0
      },
      "text/plain": [
       "  0%|          | 0/6 [00:00<?, ?it/s]"
      ]
     },
     "metadata": {},
     "output_type": "display_data"
    },
    {
     "name": "stdout",
     "output_type": "stream",
     "text": [
      "Validation mean loss was 242.08103942871094\n",
      "__________________________________________________\n",
      "Epoch: 112\n",
      "\n",
      "Train set: \n",
      "Train mAP: 0.8433359265327454\n"
     ]
    },
    {
     "data": {
      "application/vnd.jupyter.widget-view+json": {
       "model_id": "70ba9e3268c049c1bbeebd8d496be8f0",
       "version_major": 2,
       "version_minor": 0
      },
      "text/plain": [
       "  0%|          | 0/116 [00:00<?, ?it/s]"
      ]
     },
     "metadata": {},
     "output_type": "display_data"
    },
    {
     "name": "stdout",
     "output_type": "stream",
     "text": [
      "Training mean loss was 20.514952059449822\n",
      "\n",
      "Validation set: \n",
      "Validation mAP: 0.3765687346458435\n"
     ]
    },
    {
     "data": {
      "application/vnd.jupyter.widget-view+json": {
       "model_id": "9327701449264f1f9755358be3fc090f",
       "version_major": 2,
       "version_minor": 0
      },
      "text/plain": [
       "  0%|          | 0/6 [00:00<?, ?it/s]"
      ]
     },
     "metadata": {},
     "output_type": "display_data"
    },
    {
     "name": "stdout",
     "output_type": "stream",
     "text": [
      "Validation mean loss was 246.29855092366537\n",
      "__________________________________________________\n",
      "Epoch: 113\n",
      "\n",
      "Train set: \n",
      "Train mAP: 0.8432949185371399\n"
     ]
    },
    {
     "data": {
      "application/vnd.jupyter.widget-view+json": {
       "model_id": "1ad2aa08319e4e5f938f975dc2e5cf1b",
       "version_major": 2,
       "version_minor": 0
      },
      "text/plain": [
       "  0%|          | 0/116 [00:00<?, ?it/s]"
      ]
     },
     "metadata": {},
     "output_type": "display_data"
    },
    {
     "name": "stdout",
     "output_type": "stream",
     "text": [
      "Training mean loss was 20.720099186075146\n",
      "\n",
      "Validation set: \n",
      "Validation mAP: 0.3356764316558838\n"
     ]
    },
    {
     "data": {
      "application/vnd.jupyter.widget-view+json": {
       "model_id": "d7df78e282f1478ca76bed3f1b550342",
       "version_major": 2,
       "version_minor": 0
      },
      "text/plain": [
       "  0%|          | 0/6 [00:00<?, ?it/s]"
      ]
     },
     "metadata": {},
     "output_type": "display_data"
    },
    {
     "name": "stdout",
     "output_type": "stream",
     "text": [
      "Validation mean loss was 260.92608642578125\n",
      "__________________________________________________\n",
      "Epoch: 114\n",
      "\n",
      "Train set: \n",
      "Train mAP: 0.8330252766609192\n"
     ]
    },
    {
     "data": {
      "application/vnd.jupyter.widget-view+json": {
       "model_id": "4a6d014cbf2f4455838df4787ef66515",
       "version_major": 2,
       "version_minor": 0
      },
      "text/plain": [
       "  0%|          | 0/116 [00:00<?, ?it/s]"
      ]
     },
     "metadata": {},
     "output_type": "display_data"
    },
    {
     "name": "stdout",
     "output_type": "stream",
     "text": [
      "Training mean loss was 20.24867974478623\n",
      "\n",
      "Validation set: \n",
      "Validation mAP: 0.36576980352401733\n"
     ]
    },
    {
     "data": {
      "application/vnd.jupyter.widget-view+json": {
       "model_id": "12cdd352c35043ef90bf84068b4d9bc4",
       "version_major": 2,
       "version_minor": 0
      },
      "text/plain": [
       "  0%|          | 0/6 [00:00<?, ?it/s]"
      ]
     },
     "metadata": {},
     "output_type": "display_data"
    },
    {
     "name": "stdout",
     "output_type": "stream",
     "text": [
      "Validation mean loss was 236.95641581217447\n",
      "__________________________________________________\n",
      "Epoch: 115\n",
      "\n",
      "Train set: \n",
      "Train mAP: 0.849393904209137\n"
     ]
    },
    {
     "data": {
      "application/vnd.jupyter.widget-view+json": {
       "model_id": "c6709b4e585f40f39f72c5ccb625efc1",
       "version_major": 2,
       "version_minor": 0
      },
      "text/plain": [
       "  0%|          | 0/116 [00:00<?, ?it/s]"
      ]
     },
     "metadata": {},
     "output_type": "display_data"
    },
    {
     "name": "stdout",
     "output_type": "stream",
     "text": [
      "Training mean loss was 18.750705760100793\n",
      "\n",
      "Validation set: \n",
      "Validation mAP: 0.33460289239883423\n"
     ]
    },
    {
     "data": {
      "application/vnd.jupyter.widget-view+json": {
       "model_id": "cb2b254c51244bbfb9a4fbf07fe272dd",
       "version_major": 2,
       "version_minor": 0
      },
      "text/plain": [
       "  0%|          | 0/6 [00:00<?, ?it/s]"
      ]
     },
     "metadata": {},
     "output_type": "display_data"
    },
    {
     "name": "stdout",
     "output_type": "stream",
     "text": [
      "Validation mean loss was 249.38631947835287\n",
      "__________________________________________________\n",
      "Epoch: 116\n",
      "\n",
      "Train set: \n",
      "Train mAP: 0.850427508354187\n"
     ]
    },
    {
     "data": {
      "application/vnd.jupyter.widget-view+json": {
       "model_id": "2103ec22db3749f19eb04656f607c939",
       "version_major": 2,
       "version_minor": 0
      },
      "text/plain": [
       "  0%|          | 0/116 [00:00<?, ?it/s]"
      ]
     },
     "metadata": {},
     "output_type": "display_data"
    },
    {
     "name": "stdout",
     "output_type": "stream",
     "text": [
      "Training mean loss was 18.36693000793457\n",
      "\n",
      "Validation set: \n",
      "Validation mAP: 0.3523288667201996\n"
     ]
    },
    {
     "data": {
      "application/vnd.jupyter.widget-view+json": {
       "model_id": "023038bdddd449b4aec9ca6f76377192",
       "version_major": 2,
       "version_minor": 0
      },
      "text/plain": [
       "  0%|          | 0/6 [00:00<?, ?it/s]"
      ]
     },
     "metadata": {},
     "output_type": "display_data"
    },
    {
     "name": "stdout",
     "output_type": "stream",
     "text": [
      "Validation mean loss was 240.37115732828775\n",
      "__________________________________________________\n",
      "Epoch: 117\n",
      "\n",
      "Train set: \n",
      "Train mAP: 0.8347491025924683\n"
     ]
    },
    {
     "data": {
      "application/vnd.jupyter.widget-view+json": {
       "model_id": "48bd1960efa5407eaeb51a8c0314a1de",
       "version_major": 2,
       "version_minor": 0
      },
      "text/plain": [
       "  0%|          | 0/116 [00:00<?, ?it/s]"
      ]
     },
     "metadata": {},
     "output_type": "display_data"
    },
    {
     "name": "stdout",
     "output_type": "stream",
     "text": [
      "Training mean loss was 18.59660109980353\n",
      "\n",
      "Validation set: \n",
      "Validation mAP: 0.3463428318500519\n"
     ]
    },
    {
     "data": {
      "application/vnd.jupyter.widget-view+json": {
       "model_id": "e49e31ec3cb142b2a69695f10f361feb",
       "version_major": 2,
       "version_minor": 0
      },
      "text/plain": [
       "  0%|          | 0/6 [00:00<?, ?it/s]"
      ]
     },
     "metadata": {},
     "output_type": "display_data"
    },
    {
     "name": "stdout",
     "output_type": "stream",
     "text": [
      "Validation mean loss was 250.01261393229166\n",
      "__________________________________________________\n",
      "Epoch: 118\n",
      "\n",
      "Train set: \n",
      "Train mAP: 0.851543128490448\n"
     ]
    },
    {
     "data": {
      "application/vnd.jupyter.widget-view+json": {
       "model_id": "edcd337486ef4bea9f2f8e8210686f82",
       "version_major": 2,
       "version_minor": 0
      },
      "text/plain": [
       "  0%|          | 0/116 [00:00<?, ?it/s]"
      ]
     },
     "metadata": {},
     "output_type": "display_data"
    },
    {
     "name": "stdout",
     "output_type": "stream",
     "text": [
      "Training mean loss was 19.37810092136778\n",
      "\n",
      "Validation set: \n",
      "Validation mAP: 0.3377787470817566\n"
     ]
    },
    {
     "data": {
      "application/vnd.jupyter.widget-view+json": {
       "model_id": "9b579c9b33e14535a261a337a7a6028c",
       "version_major": 2,
       "version_minor": 0
      },
      "text/plain": [
       "  0%|          | 0/6 [00:00<?, ?it/s]"
      ]
     },
     "metadata": {},
     "output_type": "display_data"
    },
    {
     "name": "stdout",
     "output_type": "stream",
     "text": [
      "Validation mean loss was 245.2003173828125\n",
      "__________________________________________________\n",
      "Epoch: 119\n",
      "\n",
      "Train set: \n",
      "Train mAP: 0.8534051179885864\n"
     ]
    },
    {
     "data": {
      "application/vnd.jupyter.widget-view+json": {
       "model_id": "e904038492d44af1bf790205282ee581",
       "version_major": 2,
       "version_minor": 0
      },
      "text/plain": [
       "  0%|          | 0/116 [00:00<?, ?it/s]"
      ]
     },
     "metadata": {},
     "output_type": "display_data"
    },
    {
     "name": "stdout",
     "output_type": "stream",
     "text": [
      "Training mean loss was 18.382678089470698\n",
      "\n",
      "Validation set: \n",
      "Validation mAP: 0.3567545711994171\n"
     ]
    },
    {
     "data": {
      "application/vnd.jupyter.widget-view+json": {
       "model_id": "a7e21f95c5b74f8da4caa5fe55b1bd13",
       "version_major": 2,
       "version_minor": 0
      },
      "text/plain": [
       "  0%|          | 0/6 [00:00<?, ?it/s]"
      ]
     },
     "metadata": {},
     "output_type": "display_data"
    },
    {
     "name": "stdout",
     "output_type": "stream",
     "text": [
      "Validation mean loss was 252.07677714029947\n",
      "__________________________________________________\n",
      "Epoch: 120\n",
      "\n",
      "Train set: \n",
      "Train mAP: 0.8484681844711304\n",
      "=> Saving checkpoint\n"
     ]
    },
    {
     "data": {
      "application/vnd.jupyter.widget-view+json": {
       "model_id": "054cf4bfd8824e2e84dcdeb2dcfb0960",
       "version_major": 2,
       "version_minor": 0
      },
      "text/plain": [
       "  0%|          | 0/116 [00:00<?, ?it/s]"
      ]
     },
     "metadata": {},
     "output_type": "display_data"
    },
    {
     "name": "stdout",
     "output_type": "stream",
     "text": [
      "Training mean loss was 18.671416208661835\n",
      "\n",
      "Validation set: \n",
      "Validation mAP: 0.3269994556903839\n"
     ]
    },
    {
     "data": {
      "application/vnd.jupyter.widget-view+json": {
       "model_id": "6de3af63ddb14430acaca81413dbbb24",
       "version_major": 2,
       "version_minor": 0
      },
      "text/plain": [
       "  0%|          | 0/6 [00:00<?, ?it/s]"
      ]
     },
     "metadata": {},
     "output_type": "display_data"
    },
    {
     "name": "stdout",
     "output_type": "stream",
     "text": [
      "Validation mean loss was 239.91936747233072\n",
      "__________________________________________________\n",
      "Epoch: 121\n",
      "\n",
      "Train set: \n",
      "Train mAP: 0.8393127918243408\n"
     ]
    },
    {
     "data": {
      "application/vnd.jupyter.widget-view+json": {
       "model_id": "97f6efa1a7fd4cefb6109c46abd25660",
       "version_major": 2,
       "version_minor": 0
      },
      "text/plain": [
       "  0%|          | 0/116 [00:00<?, ?it/s]"
      ]
     },
     "metadata": {},
     "output_type": "display_data"
    },
    {
     "name": "stdout",
     "output_type": "stream",
     "text": [
      "Training mean loss was 20.668454235997693\n",
      "\n",
      "Validation set: \n",
      "Validation mAP: 0.344203382730484\n"
     ]
    },
    {
     "data": {
      "application/vnd.jupyter.widget-view+json": {
       "model_id": "7b12631fd6cf4880a6b30b3388b56eb0",
       "version_major": 2,
       "version_minor": 0
      },
      "text/plain": [
       "  0%|          | 0/6 [00:00<?, ?it/s]"
      ]
     },
     "metadata": {},
     "output_type": "display_data"
    },
    {
     "name": "stdout",
     "output_type": "stream",
     "text": [
      "Validation mean loss was 242.18909962972006\n",
      "__________________________________________________\n",
      "Epoch: 122\n",
      "\n",
      "Train set: \n",
      "Train mAP: 0.8403189182281494\n"
     ]
    },
    {
     "data": {
      "application/vnd.jupyter.widget-view+json": {
       "model_id": "20bf648b002a4aefac46833d5689908f",
       "version_major": 2,
       "version_minor": 0
      },
      "text/plain": [
       "  0%|          | 0/116 [00:00<?, ?it/s]"
      ]
     },
     "metadata": {},
     "output_type": "display_data"
    },
    {
     "name": "stdout",
     "output_type": "stream",
     "text": [
      "Training mean loss was 20.683736061227734\n",
      "\n",
      "Validation set: \n",
      "Validation mAP: 0.3481525778770447\n"
     ]
    },
    {
     "data": {
      "application/vnd.jupyter.widget-view+json": {
       "model_id": "a84b37d2a4344cd88a2716d550cb52b5",
       "version_major": 2,
       "version_minor": 0
      },
      "text/plain": [
       "  0%|          | 0/6 [00:00<?, ?it/s]"
      ]
     },
     "metadata": {},
     "output_type": "display_data"
    },
    {
     "name": "stdout",
     "output_type": "stream",
     "text": [
      "Validation mean loss was 243.15304311116537\n",
      "__________________________________________________\n",
      "Epoch: 123\n",
      "\n",
      "Train set: \n",
      "Train mAP: 0.8436267375946045\n"
     ]
    },
    {
     "data": {
      "application/vnd.jupyter.widget-view+json": {
       "model_id": "90447fc9d28a4873adec62a7d6fa1b73",
       "version_major": 2,
       "version_minor": 0
      },
      "text/plain": [
       "  0%|          | 0/116 [00:00<?, ?it/s]"
      ]
     },
     "metadata": {},
     "output_type": "display_data"
    },
    {
     "name": "stdout",
     "output_type": "stream",
     "text": [
      "Training mean loss was 18.39145985965071\n",
      "\n",
      "Validation set: \n",
      "Validation mAP: 0.3532112240791321\n"
     ]
    },
    {
     "data": {
      "application/vnd.jupyter.widget-view+json": {
       "model_id": "a048b518cb5446d59b8a41bd4f001fc5",
       "version_major": 2,
       "version_minor": 0
      },
      "text/plain": [
       "  0%|          | 0/6 [00:00<?, ?it/s]"
      ]
     },
     "metadata": {},
     "output_type": "display_data"
    },
    {
     "name": "stdout",
     "output_type": "stream",
     "text": [
      "Validation mean loss was 239.4794184366862\n",
      "__________________________________________________\n",
      "Epoch: 124\n",
      "\n",
      "Train set: \n",
      "Train mAP: 0.8530626893043518\n"
     ]
    },
    {
     "data": {
      "application/vnd.jupyter.widget-view+json": {
       "model_id": "6a91749a4e0c43eebba41af2e7811372",
       "version_major": 2,
       "version_minor": 0
      },
      "text/plain": [
       "  0%|          | 0/116 [00:00<?, ?it/s]"
      ]
     },
     "metadata": {},
     "output_type": "display_data"
    },
    {
     "name": "stdout",
     "output_type": "stream",
     "text": [
      "Training mean loss was 16.911559737961866\n",
      "\n",
      "Validation set: \n",
      "Validation mAP: 0.3455190658569336\n"
     ]
    },
    {
     "data": {
      "application/vnd.jupyter.widget-view+json": {
       "model_id": "c520dc783aa242fdaf4dedab05111094",
       "version_major": 2,
       "version_minor": 0
      },
      "text/plain": [
       "  0%|          | 0/6 [00:00<?, ?it/s]"
      ]
     },
     "metadata": {},
     "output_type": "display_data"
    },
    {
     "name": "stdout",
     "output_type": "stream",
     "text": [
      "Validation mean loss was 239.3402582804362\n",
      "__________________________________________________\n",
      "Epoch: 125\n",
      "\n",
      "Train set: \n",
      "Train mAP: 0.8541348576545715\n"
     ]
    },
    {
     "data": {
      "application/vnd.jupyter.widget-view+json": {
       "model_id": "11d24319f7e74426943ae4db60f5d9e0",
       "version_major": 2,
       "version_minor": 0
      },
      "text/plain": [
       "  0%|          | 0/116 [00:00<?, ?it/s]"
      ]
     },
     "metadata": {},
     "output_type": "display_data"
    },
    {
     "name": "stdout",
     "output_type": "stream",
     "text": [
      "Training mean loss was 16.928785529629938\n",
      "\n",
      "Validation set: \n",
      "Validation mAP: 0.35391151905059814\n"
     ]
    },
    {
     "data": {
      "application/vnd.jupyter.widget-view+json": {
       "model_id": "ae0542b9374a4d00851984ea8e201c79",
       "version_major": 2,
       "version_minor": 0
      },
      "text/plain": [
       "  0%|          | 0/6 [00:00<?, ?it/s]"
      ]
     },
     "metadata": {},
     "output_type": "display_data"
    },
    {
     "name": "stdout",
     "output_type": "stream",
     "text": [
      "Validation mean loss was 231.08991241455078\n",
      "__________________________________________________\n",
      "Epoch: 126\n",
      "\n",
      "Train set: \n",
      "Train mAP: 0.8552783727645874\n"
     ]
    },
    {
     "data": {
      "application/vnd.jupyter.widget-view+json": {
       "model_id": "d2ceeb03d6ab415b900bed286453b007",
       "version_major": 2,
       "version_minor": 0
      },
      "text/plain": [
       "  0%|          | 0/116 [00:00<?, ?it/s]"
      ]
     },
     "metadata": {},
     "output_type": "display_data"
    },
    {
     "name": "stdout",
     "output_type": "stream",
     "text": [
      "Training mean loss was 21.788839981473725\n",
      "\n",
      "Validation set: \n",
      "Validation mAP: 0.3030366897583008\n"
     ]
    },
    {
     "data": {
      "application/vnd.jupyter.widget-view+json": {
       "model_id": "b82b6746b37642638868e546942039e9",
       "version_major": 2,
       "version_minor": 0
      },
      "text/plain": [
       "  0%|          | 0/6 [00:00<?, ?it/s]"
      ]
     },
     "metadata": {},
     "output_type": "display_data"
    },
    {
     "name": "stdout",
     "output_type": "stream",
     "text": [
      "Validation mean loss was 258.0839080810547\n",
      "__________________________________________________\n",
      "Epoch: 127\n",
      "\n",
      "Train set: \n",
      "Train mAP: 0.7817090749740601\n"
     ]
    },
    {
     "data": {
      "application/vnd.jupyter.widget-view+json": {
       "model_id": "9b0bd73b93c44b1f87b6851d378cbad6",
       "version_major": 2,
       "version_minor": 0
      },
      "text/plain": [
       "  0%|          | 0/116 [00:00<?, ?it/s]"
      ]
     },
     "metadata": {},
     "output_type": "display_data"
    },
    {
     "name": "stdout",
     "output_type": "stream",
     "text": [
      "Training mean loss was 27.874118163667877\n",
      "\n",
      "Validation set: \n",
      "Validation mAP: 0.3402104675769806\n"
     ]
    },
    {
     "data": {
      "application/vnd.jupyter.widget-view+json": {
       "model_id": "9fe286802c404ab7bbe5aaa3ad9740db",
       "version_major": 2,
       "version_minor": 0
      },
      "text/plain": [
       "  0%|          | 0/6 [00:00<?, ?it/s]"
      ]
     },
     "metadata": {},
     "output_type": "display_data"
    },
    {
     "name": "stdout",
     "output_type": "stream",
     "text": [
      "Validation mean loss was 245.17703247070312\n",
      "__________________________________________________\n",
      "Epoch: 128\n",
      "\n",
      "Train set: \n",
      "Train mAP: 0.7907134294509888\n"
     ]
    },
    {
     "data": {
      "application/vnd.jupyter.widget-view+json": {
       "model_id": "691100cd49764dd7ad5c97b7d4aeb65a",
       "version_major": 2,
       "version_minor": 0
      },
      "text/plain": [
       "  0%|          | 0/116 [00:00<?, ?it/s]"
      ]
     },
     "metadata": {},
     "output_type": "display_data"
    },
    {
     "name": "stdout",
     "output_type": "stream",
     "text": [
      "Training mean loss was 23.00482888057314\n",
      "\n",
      "Validation set: \n",
      "Validation mAP: 0.3752547800540924\n"
     ]
    },
    {
     "data": {
      "application/vnd.jupyter.widget-view+json": {
       "model_id": "d7f82d67f71b42f5afcca5ba6e2b06c9",
       "version_major": 2,
       "version_minor": 0
      },
      "text/plain": [
       "  0%|          | 0/6 [00:00<?, ?it/s]"
      ]
     },
     "metadata": {},
     "output_type": "display_data"
    },
    {
     "name": "stdout",
     "output_type": "stream",
     "text": [
      "Validation mean loss was 252.96616872151694\n",
      "__________________________________________________\n",
      "Epoch: 129\n",
      "\n",
      "Train set: \n",
      "Train mAP: 0.8540613651275635\n"
     ]
    },
    {
     "data": {
      "application/vnd.jupyter.widget-view+json": {
       "model_id": "0e0009857ffc44678aee068c7204c55d",
       "version_major": 2,
       "version_minor": 0
      },
      "text/plain": [
       "  0%|          | 0/116 [00:00<?, ?it/s]"
      ]
     },
     "metadata": {},
     "output_type": "display_data"
    },
    {
     "name": "stdout",
     "output_type": "stream",
     "text": [
      "Training mean loss was 19.079791233457367\n",
      "\n",
      "Validation set: \n",
      "Validation mAP: 0.3641079068183899\n"
     ]
    },
    {
     "data": {
      "application/vnd.jupyter.widget-view+json": {
       "model_id": "a91cdca93ec5453aae6078a3d38e9ca1",
       "version_major": 2,
       "version_minor": 0
      },
      "text/plain": [
       "  0%|          | 0/6 [00:00<?, ?it/s]"
      ]
     },
     "metadata": {},
     "output_type": "display_data"
    },
    {
     "name": "stdout",
     "output_type": "stream",
     "text": [
      "Validation mean loss was 222.79279327392578\n",
      "__________________________________________________\n",
      "Epoch: 130\n",
      "\n",
      "Train set: \n",
      "Train mAP: 0.8697915077209473\n",
      "=> Saving checkpoint\n"
     ]
    },
    {
     "data": {
      "application/vnd.jupyter.widget-view+json": {
       "model_id": "cd1bdfe708e54a88bbf6e649e4df47e0",
       "version_major": 2,
       "version_minor": 0
      },
      "text/plain": [
       "  0%|          | 0/116 [00:00<?, ?it/s]"
      ]
     },
     "metadata": {},
     "output_type": "display_data"
    },
    {
     "name": "stdout",
     "output_type": "stream",
     "text": [
      "Training mean loss was 16.319486675591303\n",
      "\n",
      "Validation set: \n",
      "Validation mAP: 0.3890834152698517\n"
     ]
    },
    {
     "data": {
      "application/vnd.jupyter.widget-view+json": {
       "model_id": "b9b9ef5963104932b4fb8ea35dcdc76e",
       "version_major": 2,
       "version_minor": 0
      },
      "text/plain": [
       "  0%|          | 0/6 [00:00<?, ?it/s]"
      ]
     },
     "metadata": {},
     "output_type": "display_data"
    },
    {
     "name": "stdout",
     "output_type": "stream",
     "text": [
      "Validation mean loss was 234.70987447102866\n",
      "__________________________________________________\n",
      "Epoch: 131\n",
      "\n",
      "Train set: \n",
      "Train mAP: 0.8845396041870117\n"
     ]
    },
    {
     "data": {
      "application/vnd.jupyter.widget-view+json": {
       "model_id": "1bb0d708c1c64e5da79928aec0e33795",
       "version_major": 2,
       "version_minor": 0
      },
      "text/plain": [
       "  0%|          | 0/116 [00:00<?, ?it/s]"
      ]
     },
     "metadata": {},
     "output_type": "display_data"
    },
    {
     "name": "stdout",
     "output_type": "stream",
     "text": [
      "Training mean loss was 14.231279027873072\n",
      "\n",
      "Validation set: \n",
      "Validation mAP: 0.38555246591567993\n"
     ]
    },
    {
     "data": {
      "application/vnd.jupyter.widget-view+json": {
       "model_id": "be703ed642af408aa206b1b764af61fe",
       "version_major": 2,
       "version_minor": 0
      },
      "text/plain": [
       "  0%|          | 0/6 [00:00<?, ?it/s]"
      ]
     },
     "metadata": {},
     "output_type": "display_data"
    },
    {
     "name": "stdout",
     "output_type": "stream",
     "text": [
      "Validation mean loss was 232.24386342366537\n",
      "__________________________________________________\n",
      "Epoch: 132\n",
      "\n",
      "Train set: \n",
      "Train mAP: 0.8985734581947327\n"
     ]
    },
    {
     "data": {
      "application/vnd.jupyter.widget-view+json": {
       "model_id": "bccf2e4efd0e4a20828742c4eb7bdb34",
       "version_major": 2,
       "version_minor": 0
      },
      "text/plain": [
       "  0%|          | 0/116 [00:00<?, ?it/s]"
      ]
     },
     "metadata": {},
     "output_type": "display_data"
    },
    {
     "name": "stdout",
     "output_type": "stream",
     "text": [
      "Training mean loss was 12.784608306555912\n",
      "\n",
      "Validation set: \n",
      "Validation mAP: 0.3638296127319336\n"
     ]
    },
    {
     "data": {
      "application/vnd.jupyter.widget-view+json": {
       "model_id": "c07439be8fd44979bef950ab8fd5c52c",
       "version_major": 2,
       "version_minor": 0
      },
      "text/plain": [
       "  0%|          | 0/6 [00:00<?, ?it/s]"
      ]
     },
     "metadata": {},
     "output_type": "display_data"
    },
    {
     "name": "stdout",
     "output_type": "stream",
     "text": [
      "Validation mean loss was 251.99718729654947\n",
      "__________________________________________________\n",
      "Epoch: 133\n",
      "\n",
      "Train set: \n",
      "Train mAP: 0.8821286559104919\n"
     ]
    },
    {
     "data": {
      "application/vnd.jupyter.widget-view+json": {
       "model_id": "4be6cefca1d845cda71584b00ac3c993",
       "version_major": 2,
       "version_minor": 0
      },
      "text/plain": [
       "  0%|          | 0/116 [00:00<?, ?it/s]"
      ]
     },
     "metadata": {},
     "output_type": "display_data"
    },
    {
     "name": "stdout",
     "output_type": "stream",
     "text": [
      "Training mean loss was 14.329946452173694\n",
      "\n",
      "Validation set: \n",
      "Validation mAP: 0.3679051995277405\n"
     ]
    },
    {
     "data": {
      "application/vnd.jupyter.widget-view+json": {
       "model_id": "48d35eac1d2f47b6855f0c750d295dbe",
       "version_major": 2,
       "version_minor": 0
      },
      "text/plain": [
       "  0%|          | 0/6 [00:00<?, ?it/s]"
      ]
     },
     "metadata": {},
     "output_type": "display_data"
    },
    {
     "name": "stdout",
     "output_type": "stream",
     "text": [
      "Validation mean loss was 213.83560180664062\n",
      "__________________________________________________\n",
      "Epoch: 134\n",
      "\n",
      "Train set: \n",
      "Train mAP: 0.8775373101234436\n"
     ]
    },
    {
     "data": {
      "application/vnd.jupyter.widget-view+json": {
       "model_id": "3bcb02bafd3e47a5b03ccbd482b02c54",
       "version_major": 2,
       "version_minor": 0
      },
      "text/plain": [
       "  0%|          | 0/116 [00:00<?, ?it/s]"
      ]
     },
     "metadata": {},
     "output_type": "display_data"
    },
    {
     "name": "stdout",
     "output_type": "stream",
     "text": [
      "Training mean loss was 13.576716538133292\n",
      "\n",
      "Validation set: \n",
      "Validation mAP: 0.3931816816329956\n"
     ]
    },
    {
     "data": {
      "application/vnd.jupyter.widget-view+json": {
       "model_id": "cc814198848740abaff85d5357321a16",
       "version_major": 2,
       "version_minor": 0
      },
      "text/plain": [
       "  0%|          | 0/6 [00:00<?, ?it/s]"
      ]
     },
     "metadata": {},
     "output_type": "display_data"
    },
    {
     "name": "stdout",
     "output_type": "stream",
     "text": [
      "Validation mean loss was 237.90691121419272\n",
      "__________________________________________________\n",
      "Epoch: 135\n",
      "\n",
      "Train set: \n",
      "Train mAP: 0.8940730094909668\n"
     ]
    },
    {
     "data": {
      "application/vnd.jupyter.widget-view+json": {
       "model_id": "7b9dc38a7560437a8b3bbf37add960ec",
       "version_major": 2,
       "version_minor": 0
      },
      "text/plain": [
       "  0%|          | 0/116 [00:00<?, ?it/s]"
      ]
     },
     "metadata": {},
     "output_type": "display_data"
    },
    {
     "name": "stdout",
     "output_type": "stream",
     "text": [
      "Training mean loss was 13.304385300340323\n",
      "\n",
      "Validation set: \n",
      "Validation mAP: 0.3917067348957062\n"
     ]
    },
    {
     "data": {
      "application/vnd.jupyter.widget-view+json": {
       "model_id": "7d247ef583aa4b7f87d073d0098c1e02",
       "version_major": 2,
       "version_minor": 0
      },
      "text/plain": [
       "  0%|          | 0/6 [00:00<?, ?it/s]"
      ]
     },
     "metadata": {},
     "output_type": "display_data"
    },
    {
     "name": "stdout",
     "output_type": "stream",
     "text": [
      "Validation mean loss was 228.83645884195963\n",
      "__________________________________________________\n",
      "Epoch: 136\n",
      "\n",
      "Train set: \n",
      "Train mAP: 0.8857871294021606\n"
     ]
    },
    {
     "data": {
      "application/vnd.jupyter.widget-view+json": {
       "model_id": "8a4af20151c9426782d5691e30d1c919",
       "version_major": 2,
       "version_minor": 0
      },
      "text/plain": [
       "  0%|          | 0/116 [00:00<?, ?it/s]"
      ]
     },
     "metadata": {},
     "output_type": "display_data"
    },
    {
     "name": "stdout",
     "output_type": "stream",
     "text": [
      "Training mean loss was 12.849546810676312\n",
      "\n",
      "Validation set: \n",
      "Validation mAP: 0.39861762523651123\n"
     ]
    },
    {
     "data": {
      "application/vnd.jupyter.widget-view+json": {
       "model_id": "b33a75ea3263416ba93fb0c379ffdf70",
       "version_major": 2,
       "version_minor": 0
      },
      "text/plain": [
       "  0%|          | 0/6 [00:00<?, ?it/s]"
      ]
     },
     "metadata": {},
     "output_type": "display_data"
    },
    {
     "name": "stdout",
     "output_type": "stream",
     "text": [
      "Validation mean loss was 232.522829691569\n",
      "__________________________________________________\n",
      "Epoch: 137\n",
      "\n",
      "Train set: \n",
      "Train mAP: 0.8889303207397461\n"
     ]
    },
    {
     "data": {
      "application/vnd.jupyter.widget-view+json": {
       "model_id": "147fd1e55a0d46eeb535f952c6e702b3",
       "version_major": 2,
       "version_minor": 0
      },
      "text/plain": [
       "  0%|          | 0/116 [00:00<?, ?it/s]"
      ]
     },
     "metadata": {},
     "output_type": "display_data"
    },
    {
     "name": "stdout",
     "output_type": "stream",
     "text": [
      "Training mean loss was 15.012629624070792\n",
      "\n",
      "Validation set: \n",
      "Validation mAP: 0.34584102034568787\n"
     ]
    },
    {
     "data": {
      "application/vnd.jupyter.widget-view+json": {
       "model_id": "18d61050fbd442f7906b2788081a3036",
       "version_major": 2,
       "version_minor": 0
      },
      "text/plain": [
       "  0%|          | 0/6 [00:00<?, ?it/s]"
      ]
     },
     "metadata": {},
     "output_type": "display_data"
    },
    {
     "name": "stdout",
     "output_type": "stream",
     "text": [
      "Validation mean loss was 241.3661117553711\n",
      "__________________________________________________\n",
      "Epoch: 138\n",
      "\n",
      "Train set: \n",
      "Train mAP: 0.8595080971717834\n"
     ]
    },
    {
     "data": {
      "application/vnd.jupyter.widget-view+json": {
       "model_id": "c657d6f078484f2084256a23c416d955",
       "version_major": 2,
       "version_minor": 0
      },
      "text/plain": [
       "  0%|          | 0/116 [00:00<?, ?it/s]"
      ]
     },
     "metadata": {},
     "output_type": "display_data"
    },
    {
     "name": "stdout",
     "output_type": "stream",
     "text": [
      "Training mean loss was 14.74090500535636\n",
      "\n",
      "Validation set: \n",
      "Validation mAP: 0.38208621740341187\n"
     ]
    },
    {
     "data": {
      "application/vnd.jupyter.widget-view+json": {
       "model_id": "527df039d84e4d568e9ad053f03157a2",
       "version_major": 2,
       "version_minor": 0
      },
      "text/plain": [
       "  0%|          | 0/6 [00:00<?, ?it/s]"
      ]
     },
     "metadata": {},
     "output_type": "display_data"
    },
    {
     "name": "stdout",
     "output_type": "stream",
     "text": [
      "Validation mean loss was 239.97098795572916\n",
      "__________________________________________________\n",
      "Epoch: 139\n",
      "\n",
      "Train set: \n",
      "Train mAP: 0.8875348567962646\n"
     ]
    },
    {
     "data": {
      "application/vnd.jupyter.widget-view+json": {
       "model_id": "47603d128be8486a8a6f77b94f060ee5",
       "version_major": 2,
       "version_minor": 0
      },
      "text/plain": [
       "  0%|          | 0/116 [00:00<?, ?it/s]"
      ]
     },
     "metadata": {},
     "output_type": "display_data"
    },
    {
     "name": "stdout",
     "output_type": "stream",
     "text": [
      "Training mean loss was 15.338696274264105\n",
      "\n",
      "Validation set: \n",
      "Validation mAP: 0.38467511534690857\n"
     ]
    },
    {
     "data": {
      "application/vnd.jupyter.widget-view+json": {
       "model_id": "9ad47cbf62884a6497813321f5122ffd",
       "version_major": 2,
       "version_minor": 0
      },
      "text/plain": [
       "  0%|          | 0/6 [00:00<?, ?it/s]"
      ]
     },
     "metadata": {},
     "output_type": "display_data"
    },
    {
     "name": "stdout",
     "output_type": "stream",
     "text": [
      "Validation mean loss was 231.81053670247397\n",
      "__________________________________________________\n",
      "Epoch: 140\n",
      "\n",
      "Train set: \n",
      "Train mAP: 0.8568321466445923\n",
      "=> Saving checkpoint\n"
     ]
    },
    {
     "data": {
      "application/vnd.jupyter.widget-view+json": {
       "model_id": "ed9ba33296c34783bbad6dd927a17b63",
       "version_major": 2,
       "version_minor": 0
      },
      "text/plain": [
       "  0%|          | 0/116 [00:00<?, ?it/s]"
      ]
     },
     "metadata": {},
     "output_type": "display_data"
    },
    {
     "name": "stdout",
     "output_type": "stream",
     "text": [
      "Training mean loss was 14.966341224210016\n",
      "\n",
      "Validation set: \n",
      "Validation mAP: 0.37355342507362366\n"
     ]
    },
    {
     "data": {
      "application/vnd.jupyter.widget-view+json": {
       "model_id": "13816d00da39421a9977b95ffc739ec9",
       "version_major": 2,
       "version_minor": 0
      },
      "text/plain": [
       "  0%|          | 0/6 [00:00<?, ?it/s]"
      ]
     },
     "metadata": {},
     "output_type": "display_data"
    },
    {
     "name": "stdout",
     "output_type": "stream",
     "text": [
      "Validation mean loss was 234.03713734944662\n",
      "__________________________________________________\n",
      "Epoch: 141\n",
      "\n",
      "Train set: \n",
      "Train mAP: 0.8538141250610352\n"
     ]
    },
    {
     "data": {
      "application/vnd.jupyter.widget-view+json": {
       "model_id": "b682f4d6121344abbb2b4460eed62564",
       "version_major": 2,
       "version_minor": 0
      },
      "text/plain": [
       "  0%|          | 0/116 [00:00<?, ?it/s]"
      ]
     },
     "metadata": {},
     "output_type": "display_data"
    },
    {
     "name": "stdout",
     "output_type": "stream",
     "text": [
      "Training mean loss was 14.018809203443857\n",
      "\n",
      "Validation set: \n",
      "Validation mAP: 0.37931519746780396\n"
     ]
    },
    {
     "data": {
      "application/vnd.jupyter.widget-view+json": {
       "model_id": "eb870608e53949768d9d5d5974170e80",
       "version_major": 2,
       "version_minor": 0
      },
      "text/plain": [
       "  0%|          | 0/6 [00:00<?, ?it/s]"
      ]
     },
     "metadata": {},
     "output_type": "display_data"
    },
    {
     "name": "stdout",
     "output_type": "stream",
     "text": [
      "Validation mean loss was 231.37744649251303\n",
      "__________________________________________________\n",
      "Epoch: 142\n",
      "\n",
      "Train set: \n",
      "Train mAP: 0.8689074516296387\n"
     ]
    },
    {
     "data": {
      "application/vnd.jupyter.widget-view+json": {
       "model_id": "2a6853dde25044d398ddc35eff807aa4",
       "version_major": 2,
       "version_minor": 0
      },
      "text/plain": [
       "  0%|          | 0/116 [00:00<?, ?it/s]"
      ]
     },
     "metadata": {},
     "output_type": "display_data"
    },
    {
     "name": "stdout",
     "output_type": "stream",
     "text": [
      "Training mean loss was 13.615299463272095\n",
      "\n",
      "Validation set: \n",
      "Validation mAP: 0.4022766947746277\n"
     ]
    },
    {
     "data": {
      "application/vnd.jupyter.widget-view+json": {
       "model_id": "08a0d6f530f84b3bbaa04310c7463c0c",
       "version_major": 2,
       "version_minor": 0
      },
      "text/plain": [
       "  0%|          | 0/6 [00:00<?, ?it/s]"
      ]
     },
     "metadata": {},
     "output_type": "display_data"
    },
    {
     "name": "stdout",
     "output_type": "stream",
     "text": [
      "Validation mean loss was 230.04617818196616\n",
      "__________________________________________________\n",
      "Epoch: 143\n",
      "\n",
      "Train set: \n",
      "Train mAP: 0.8825507164001465\n"
     ]
    },
    {
     "data": {
      "application/vnd.jupyter.widget-view+json": {
       "model_id": "b8426ea58950444abae7d37d2a9624f4",
       "version_major": 2,
       "version_minor": 0
      },
      "text/plain": [
       "  0%|          | 0/116 [00:00<?, ?it/s]"
      ]
     },
     "metadata": {},
     "output_type": "display_data"
    },
    {
     "name": "stdout",
     "output_type": "stream",
     "text": [
      "Training mean loss was 14.780402989223086\n",
      "\n",
      "Validation set: \n",
      "Validation mAP: 0.4127688407897949\n"
     ]
    },
    {
     "data": {
      "application/vnd.jupyter.widget-view+json": {
       "model_id": "b4c079593c284c0ea2f51a19ca706278",
       "version_major": 2,
       "version_minor": 0
      },
      "text/plain": [
       "  0%|          | 0/6 [00:00<?, ?it/s]"
      ]
     },
     "metadata": {},
     "output_type": "display_data"
    },
    {
     "name": "stdout",
     "output_type": "stream",
     "text": [
      "Validation mean loss was 227.96756998697916\n",
      "__________________________________________________\n",
      "Epoch: 144\n",
      "\n",
      "Train set: \n",
      "Train mAP: 0.8782424926757812\n"
     ]
    },
    {
     "data": {
      "application/vnd.jupyter.widget-view+json": {
       "model_id": "aa677a6b43614b9e969cb4dd5bdd3f3b",
       "version_major": 2,
       "version_minor": 0
      },
      "text/plain": [
       "  0%|          | 0/116 [00:00<?, ?it/s]"
      ]
     },
     "metadata": {},
     "output_type": "display_data"
    },
    {
     "name": "stdout",
     "output_type": "stream",
     "text": [
      "Training mean loss was 13.503426930000042\n",
      "\n",
      "Validation set: \n",
      "Validation mAP: 0.4073123037815094\n"
     ]
    },
    {
     "data": {
      "application/vnd.jupyter.widget-view+json": {
       "model_id": "8999d1eef9ea4cee9feff41100ba1547",
       "version_major": 2,
       "version_minor": 0
      },
      "text/plain": [
       "  0%|          | 0/6 [00:00<?, ?it/s]"
      ]
     },
     "metadata": {},
     "output_type": "display_data"
    },
    {
     "name": "stdout",
     "output_type": "stream",
     "text": [
      "Validation mean loss was 217.86924997965494\n",
      "__________________________________________________\n",
      "Epoch: 145\n",
      "\n",
      "Train set: \n",
      "Train mAP: 0.8631209135055542\n"
     ]
    },
    {
     "data": {
      "application/vnd.jupyter.widget-view+json": {
       "model_id": "a043a85614a34c54a5a826b332883ffc",
       "version_major": 2,
       "version_minor": 0
      },
      "text/plain": [
       "  0%|          | 0/116 [00:00<?, ?it/s]"
      ]
     },
     "metadata": {},
     "output_type": "display_data"
    },
    {
     "name": "stdout",
     "output_type": "stream",
     "text": [
      "Training mean loss was 13.368314093556897\n",
      "\n",
      "Validation set: \n",
      "Validation mAP: 0.3836098313331604\n"
     ]
    },
    {
     "data": {
      "application/vnd.jupyter.widget-view+json": {
       "model_id": "3364817ef76f4a3098835302fe4f5021",
       "version_major": 2,
       "version_minor": 0
      },
      "text/plain": [
       "  0%|          | 0/6 [00:00<?, ?it/s]"
      ]
     },
     "metadata": {},
     "output_type": "display_data"
    },
    {
     "name": "stdout",
     "output_type": "stream",
     "text": [
      "Validation mean loss was 236.36979166666666\n",
      "__________________________________________________\n",
      "Epoch: 146\n",
      "\n",
      "Train set: \n",
      "Train mAP: 0.8835596442222595\n"
     ]
    },
    {
     "data": {
      "application/vnd.jupyter.widget-view+json": {
       "model_id": "da0fd39dbe894c1cb05995f7e5ef590a",
       "version_major": 2,
       "version_minor": 0
      },
      "text/plain": [
       "  0%|          | 0/116 [00:00<?, ?it/s]"
      ]
     },
     "metadata": {},
     "output_type": "display_data"
    },
    {
     "name": "stdout",
     "output_type": "stream",
     "text": [
      "Training mean loss was 13.70890917449162\n",
      "\n",
      "Validation set: \n",
      "Validation mAP: 0.3898550570011139\n"
     ]
    },
    {
     "data": {
      "application/vnd.jupyter.widget-view+json": {
       "model_id": "ca9abcf92c294254a84ae1505cfbf1f4",
       "version_major": 2,
       "version_minor": 0
      },
      "text/plain": [
       "  0%|          | 0/6 [00:00<?, ?it/s]"
      ]
     },
     "metadata": {},
     "output_type": "display_data"
    },
    {
     "name": "stdout",
     "output_type": "stream",
     "text": [
      "Validation mean loss was 228.08436075846353\n",
      "__________________________________________________\n",
      "Epoch: 147\n",
      "\n",
      "Train set: \n",
      "Train mAP: 0.8880971670150757\n"
     ]
    },
    {
     "data": {
      "application/vnd.jupyter.widget-view+json": {
       "model_id": "26e0bd090541481ebffff97647a19bf1",
       "version_major": 2,
       "version_minor": 0
      },
      "text/plain": [
       "  0%|          | 0/116 [00:00<?, ?it/s]"
      ]
     },
     "metadata": {},
     "output_type": "display_data"
    },
    {
     "name": "stdout",
     "output_type": "stream",
     "text": [
      "Training mean loss was 13.983325769161356\n",
      "\n",
      "Validation set: \n",
      "Validation mAP: 0.33405083417892456\n"
     ]
    },
    {
     "data": {
      "application/vnd.jupyter.widget-view+json": {
       "model_id": "c5a14c13d6504c57afdb9409e89c21c9",
       "version_major": 2,
       "version_minor": 0
      },
      "text/plain": [
       "  0%|          | 0/6 [00:00<?, ?it/s]"
      ]
     },
     "metadata": {},
     "output_type": "display_data"
    },
    {
     "name": "stdout",
     "output_type": "stream",
     "text": [
      "Validation mean loss was 238.98865509033203\n",
      "__________________________________________________\n",
      "Epoch: 148\n",
      "\n",
      "Train set: \n",
      "Train mAP: 0.8554784059524536\n"
     ]
    },
    {
     "data": {
      "application/vnd.jupyter.widget-view+json": {
       "model_id": "5a2968ef4bb541d3b613f23dc8c27cbd",
       "version_major": 2,
       "version_minor": 0
      },
      "text/plain": [
       "  0%|          | 0/116 [00:00<?, ?it/s]"
      ]
     },
     "metadata": {},
     "output_type": "display_data"
    },
    {
     "name": "stdout",
     "output_type": "stream",
     "text": [
      "Training mean loss was 14.0109813377775\n",
      "\n",
      "Validation set: \n",
      "Validation mAP: 0.39015600085258484\n"
     ]
    },
    {
     "data": {
      "application/vnd.jupyter.widget-view+json": {
       "model_id": "922ac0d4122a49ada55c6cfce1365ec2",
       "version_major": 2,
       "version_minor": 0
      },
      "text/plain": [
       "  0%|          | 0/6 [00:00<?, ?it/s]"
      ]
     },
     "metadata": {},
     "output_type": "display_data"
    },
    {
     "name": "stdout",
     "output_type": "stream",
     "text": [
      "Validation mean loss was 226.91989390055338\n",
      "__________________________________________________\n",
      "Epoch: 149\n",
      "\n",
      "Train set: \n",
      "Train mAP: 0.8836982250213623\n"
     ]
    },
    {
     "data": {
      "application/vnd.jupyter.widget-view+json": {
       "model_id": "ca81d2ae8d7443748254f108f8f5923e",
       "version_major": 2,
       "version_minor": 0
      },
      "text/plain": [
       "  0%|          | 0/116 [00:00<?, ?it/s]"
      ]
     },
     "metadata": {},
     "output_type": "display_data"
    },
    {
     "name": "stdout",
     "output_type": "stream",
     "text": [
      "Training mean loss was 13.333630520721961\n",
      "\n",
      "Validation set: \n",
      "Validation mAP: 0.41398414969444275\n"
     ]
    },
    {
     "data": {
      "application/vnd.jupyter.widget-view+json": {
       "model_id": "043348618e8b4e88ba784b3f104052e4",
       "version_major": 2,
       "version_minor": 0
      },
      "text/plain": [
       "  0%|          | 0/6 [00:00<?, ?it/s]"
      ]
     },
     "metadata": {},
     "output_type": "display_data"
    },
    {
     "name": "stdout",
     "output_type": "stream",
     "text": [
      "Validation mean loss was 220.47877248128256\n",
      "__________________________________________________\n",
      "Epoch: 150\n",
      "\n",
      "Train set: \n",
      "Train mAP: 0.8943282961845398\n",
      "=> Saving checkpoint\n"
     ]
    },
    {
     "data": {
      "application/vnd.jupyter.widget-view+json": {
       "model_id": "686d55d8cf1e4cd0857f23143fdda4bb",
       "version_major": 2,
       "version_minor": 0
      },
      "text/plain": [
       "  0%|          | 0/116 [00:00<?, ?it/s]"
      ]
     },
     "metadata": {},
     "output_type": "display_data"
    },
    {
     "name": "stdout",
     "output_type": "stream",
     "text": [
      "Training mean loss was 13.315607136693494\n",
      "\n",
      "Validation set: \n",
      "Validation mAP: 0.39120230078697205\n"
     ]
    },
    {
     "data": {
      "application/vnd.jupyter.widget-view+json": {
       "model_id": "8ac4db1c982f4effb9198bba2b1f5b5f",
       "version_major": 2,
       "version_minor": 0
      },
      "text/plain": [
       "  0%|          | 0/6 [00:00<?, ?it/s]"
      ]
     },
     "metadata": {},
     "output_type": "display_data"
    },
    {
     "name": "stdout",
     "output_type": "stream",
     "text": [
      "Validation mean loss was 222.80228169759116\n",
      "__________________________________________________\n",
      "Epoch: 151\n",
      "\n",
      "Train set: \n",
      "Train mAP: 0.8682202100753784\n"
     ]
    },
    {
     "data": {
      "application/vnd.jupyter.widget-view+json": {
       "model_id": "1b21b8ffcc37473da0a520edf262ebc0",
       "version_major": 2,
       "version_minor": 0
      },
      "text/plain": [
       "  0%|          | 0/116 [00:00<?, ?it/s]"
      ]
     },
     "metadata": {},
     "output_type": "display_data"
    },
    {
     "name": "stdout",
     "output_type": "stream",
     "text": [
      "Training mean loss was 13.804022180623022\n",
      "\n",
      "Validation set: \n",
      "Validation mAP: 0.3730631172657013\n"
     ]
    },
    {
     "data": {
      "application/vnd.jupyter.widget-view+json": {
       "model_id": "a8a5aad4fcb14a409db1d886fb736c19",
       "version_major": 2,
       "version_minor": 0
      },
      "text/plain": [
       "  0%|          | 0/6 [00:00<?, ?it/s]"
      ]
     },
     "metadata": {},
     "output_type": "display_data"
    },
    {
     "name": "stdout",
     "output_type": "stream",
     "text": [
      "Validation mean loss was 230.89393870035806\n",
      "__________________________________________________\n",
      "Epoch: 152\n",
      "\n",
      "Train set: \n",
      "Train mAP: 0.8719966411590576\n"
     ]
    },
    {
     "data": {
      "application/vnd.jupyter.widget-view+json": {
       "model_id": "d2b60903e82848ea8d0d96edf79d80af",
       "version_major": 2,
       "version_minor": 0
      },
      "text/plain": [
       "  0%|          | 0/116 [00:00<?, ?it/s]"
      ]
     },
     "metadata": {},
     "output_type": "display_data"
    },
    {
     "name": "stdout",
     "output_type": "stream",
     "text": [
      "Training mean loss was 16.18044013812624\n",
      "\n",
      "Validation set: \n",
      "Validation mAP: 0.38745537400245667\n"
     ]
    },
    {
     "data": {
      "application/vnd.jupyter.widget-view+json": {
       "model_id": "3ab898b8b81a45888989afc59f175772",
       "version_major": 2,
       "version_minor": 0
      },
      "text/plain": [
       "  0%|          | 0/6 [00:00<?, ?it/s]"
      ]
     },
     "metadata": {},
     "output_type": "display_data"
    },
    {
     "name": "stdout",
     "output_type": "stream",
     "text": [
      "Validation mean loss was 241.30494181315103\n",
      "__________________________________________________\n",
      "Epoch: 153\n",
      "\n",
      "Train set: \n",
      "Train mAP: 0.8806301951408386\n"
     ]
    },
    {
     "data": {
      "application/vnd.jupyter.widget-view+json": {
       "model_id": "c89fbd3eea1b44f99341480615e92a50",
       "version_major": 2,
       "version_minor": 0
      },
      "text/plain": [
       "  0%|          | 0/116 [00:00<?, ?it/s]"
      ]
     },
     "metadata": {},
     "output_type": "display_data"
    },
    {
     "name": "stdout",
     "output_type": "stream",
     "text": [
      "Training mean loss was 16.96061526495835\n",
      "\n",
      "Validation set: \n",
      "Validation mAP: 0.37988337874412537\n"
     ]
    },
    {
     "data": {
      "application/vnd.jupyter.widget-view+json": {
       "model_id": "14bb1c86c3634f009681b962b76b01dd",
       "version_major": 2,
       "version_minor": 0
      },
      "text/plain": [
       "  0%|          | 0/6 [00:00<?, ?it/s]"
      ]
     },
     "metadata": {},
     "output_type": "display_data"
    },
    {
     "name": "stdout",
     "output_type": "stream",
     "text": [
      "Validation mean loss was 226.94190470377603\n",
      "__________________________________________________\n",
      "Epoch: 154\n",
      "\n",
      "Train set: \n",
      "Train mAP: 0.8672444224357605\n"
     ]
    },
    {
     "data": {
      "application/vnd.jupyter.widget-view+json": {
       "model_id": "ed39e00445254a73947adbb33d6ee1e4",
       "version_major": 2,
       "version_minor": 0
      },
      "text/plain": [
       "  0%|          | 0/116 [00:00<?, ?it/s]"
      ]
     },
     "metadata": {},
     "output_type": "display_data"
    },
    {
     "name": "stdout",
     "output_type": "stream",
     "text": [
      "Training mean loss was 15.443755651342459\n",
      "\n",
      "Validation set: \n",
      "Validation mAP: 0.3516004681587219\n"
     ]
    },
    {
     "data": {
      "application/vnd.jupyter.widget-view+json": {
       "model_id": "bc354e0396694e6cb1d908f94810a2db",
       "version_major": 2,
       "version_minor": 0
      },
      "text/plain": [
       "  0%|          | 0/6 [00:00<?, ?it/s]"
      ]
     },
     "metadata": {},
     "output_type": "display_data"
    },
    {
     "name": "stdout",
     "output_type": "stream",
     "text": [
      "Validation mean loss was 238.36487325032553\n",
      "__________________________________________________\n",
      "Epoch: 155\n",
      "\n",
      "Train set: \n",
      "Train mAP: 0.8628164529800415\n"
     ]
    },
    {
     "data": {
      "application/vnd.jupyter.widget-view+json": {
       "model_id": "8254d68de5834ba9848021720c30e021",
       "version_major": 2,
       "version_minor": 0
      },
      "text/plain": [
       "  0%|          | 0/116 [00:00<?, ?it/s]"
      ]
     },
     "metadata": {},
     "output_type": "display_data"
    },
    {
     "name": "stdout",
     "output_type": "stream",
     "text": [
      "Training mean loss was 13.701286776312466\n",
      "\n",
      "Validation set: \n",
      "Validation mAP: 0.3920491933822632\n"
     ]
    },
    {
     "data": {
      "application/vnd.jupyter.widget-view+json": {
       "model_id": "5c6e321de8604efb8e4a5fa593ff5a99",
       "version_major": 2,
       "version_minor": 0
      },
      "text/plain": [
       "  0%|          | 0/6 [00:00<?, ?it/s]"
      ]
     },
     "metadata": {},
     "output_type": "display_data"
    },
    {
     "name": "stdout",
     "output_type": "stream",
     "text": [
      "Validation mean loss was 214.90896606445312\n",
      "__________________________________________________\n",
      "Epoch: 156\n",
      "\n",
      "Train set: \n",
      "Train mAP: 0.887176513671875\n"
     ]
    },
    {
     "data": {
      "application/vnd.jupyter.widget-view+json": {
       "model_id": "266a55797a0f442b84cc61d79fe5c460",
       "version_major": 2,
       "version_minor": 0
      },
      "text/plain": [
       "  0%|          | 0/116 [00:00<?, ?it/s]"
      ]
     },
     "metadata": {},
     "output_type": "display_data"
    },
    {
     "name": "stdout",
     "output_type": "stream",
     "text": [
      "Training mean loss was 11.844440299889136\n",
      "\n",
      "Validation set: \n",
      "Validation mAP: 0.3777135908603668\n"
     ]
    },
    {
     "data": {
      "application/vnd.jupyter.widget-view+json": {
       "model_id": "0f4fdd83cca247139d047571354a20d2",
       "version_major": 2,
       "version_minor": 0
      },
      "text/plain": [
       "  0%|          | 0/6 [00:00<?, ?it/s]"
      ]
     },
     "metadata": {},
     "output_type": "display_data"
    },
    {
     "name": "stdout",
     "output_type": "stream",
     "text": [
      "Validation mean loss was 239.44231160481772\n",
      "__________________________________________________\n",
      "Epoch: 157\n",
      "\n",
      "Train set: \n",
      "Train mAP: 0.8791701793670654\n"
     ]
    },
    {
     "data": {
      "application/vnd.jupyter.widget-view+json": {
       "model_id": "a87e1a95710241de80c51739f2b30a37",
       "version_major": 2,
       "version_minor": 0
      },
      "text/plain": [
       "  0%|          | 0/116 [00:00<?, ?it/s]"
      ]
     },
     "metadata": {},
     "output_type": "display_data"
    },
    {
     "name": "stdout",
     "output_type": "stream",
     "text": [
      "Training mean loss was 11.38820875102076\n",
      "\n",
      "Validation set: \n",
      "Validation mAP: 0.3967897593975067\n"
     ]
    },
    {
     "data": {
      "application/vnd.jupyter.widget-view+json": {
       "model_id": "6ecf17c755b549efa0414dc8835e077d",
       "version_major": 2,
       "version_minor": 0
      },
      "text/plain": [
       "  0%|          | 0/6 [00:00<?, ?it/s]"
      ]
     },
     "metadata": {},
     "output_type": "display_data"
    },
    {
     "name": "stdout",
     "output_type": "stream",
     "text": [
      "Validation mean loss was 218.0310262044271\n",
      "__________________________________________________\n",
      "Epoch: 158\n",
      "\n",
      "Train set: \n",
      "Train mAP: 0.8817760944366455\n"
     ]
    },
    {
     "data": {
      "application/vnd.jupyter.widget-view+json": {
       "model_id": "53715acbcd6f49ba829e676fb98c7d00",
       "version_major": 2,
       "version_minor": 0
      },
      "text/plain": [
       "  0%|          | 0/116 [00:00<?, ?it/s]"
      ]
     },
     "metadata": {},
     "output_type": "display_data"
    },
    {
     "name": "stdout",
     "output_type": "stream",
     "text": [
      "Training mean loss was 11.022233523171524\n",
      "\n",
      "Validation set: \n",
      "Validation mAP: 0.38171303272247314\n"
     ]
    },
    {
     "data": {
      "application/vnd.jupyter.widget-view+json": {
       "model_id": "5a3d91cebd6645c9bcedf34e90a1deca",
       "version_major": 2,
       "version_minor": 0
      },
      "text/plain": [
       "  0%|          | 0/6 [00:00<?, ?it/s]"
      ]
     },
     "metadata": {},
     "output_type": "display_data"
    },
    {
     "name": "stdout",
     "output_type": "stream",
     "text": [
      "Validation mean loss was 223.62100728352866\n",
      "__________________________________________________\n",
      "Epoch: 159\n",
      "\n",
      "Train set: \n",
      "Train mAP: 0.8995941281318665\n"
     ]
    },
    {
     "data": {
      "application/vnd.jupyter.widget-view+json": {
       "model_id": "5f6383237cdd4c0980c01eea9236b25f",
       "version_major": 2,
       "version_minor": 0
      },
      "text/plain": [
       "  0%|          | 0/116 [00:00<?, ?it/s]"
      ]
     },
     "metadata": {},
     "output_type": "display_data"
    },
    {
     "name": "stdout",
     "output_type": "stream",
     "text": [
      "Training mean loss was 10.39384373714184\n",
      "\n",
      "Validation set: \n",
      "Validation mAP: 0.41829052567481995\n"
     ]
    },
    {
     "data": {
      "application/vnd.jupyter.widget-view+json": {
       "model_id": "ee9fba8b94e6444b8489b04264fc943c",
       "version_major": 2,
       "version_minor": 0
      },
      "text/plain": [
       "  0%|          | 0/6 [00:00<?, ?it/s]"
      ]
     },
     "metadata": {},
     "output_type": "display_data"
    },
    {
     "name": "stdout",
     "output_type": "stream",
     "text": [
      "Validation mean loss was 220.87331899007162\n",
      "__________________________________________________\n",
      "Epoch: 160\n",
      "\n",
      "Train set: \n",
      "Train mAP: 0.9041256308555603\n",
      "=> Saving checkpoint\n",
      "Saving checkpoint due to mAP reaching threshold 0.90 at epoch 160.\n",
      "160\n",
      "=> Saving checkpoint\n"
     ]
    },
    {
     "data": {
      "application/vnd.jupyter.widget-view+json": {
       "model_id": "3ae4fcb0c5284fa19d1479338de0b4cf",
       "version_major": 2,
       "version_minor": 0
      },
      "text/plain": [
       "  0%|          | 0/116 [00:00<?, ?it/s]"
      ]
     },
     "metadata": {},
     "output_type": "display_data"
    },
    {
     "name": "stdout",
     "output_type": "stream",
     "text": [
      "Training mean loss was 10.000457007309485\n",
      "\n",
      "Validation set: \n",
      "Validation mAP: 0.3974192142486572\n"
     ]
    },
    {
     "data": {
      "application/vnd.jupyter.widget-view+json": {
       "model_id": "bf332aa808024ac187620076bba12e8f",
       "version_major": 2,
       "version_minor": 0
      },
      "text/plain": [
       "  0%|          | 0/6 [00:00<?, ?it/s]"
      ]
     },
     "metadata": {},
     "output_type": "display_data"
    },
    {
     "name": "stdout",
     "output_type": "stream",
     "text": [
      "Validation mean loss was 215.84851837158203\n",
      "__________________________________________________\n",
      "Epoch: 161\n",
      "\n",
      "Train set: \n",
      "Train mAP: 0.9005917310714722\n"
     ]
    },
    {
     "data": {
      "application/vnd.jupyter.widget-view+json": {
       "model_id": "6ae7d9958ba14eb0bf63e3ead2c3e7f1",
       "version_major": 2,
       "version_minor": 0
      },
      "text/plain": [
       "  0%|          | 0/116 [00:00<?, ?it/s]"
      ]
     },
     "metadata": {},
     "output_type": "display_data"
    },
    {
     "name": "stdout",
     "output_type": "stream",
     "text": [
      "Training mean loss was 10.566705555751406\n",
      "\n",
      "Validation set: \n",
      "Validation mAP: 0.39213740825653076\n"
     ]
    },
    {
     "data": {
      "application/vnd.jupyter.widget-view+json": {
       "model_id": "feba470610f24531ac190a003f51a1af",
       "version_major": 2,
       "version_minor": 0
      },
      "text/plain": [
       "  0%|          | 0/6 [00:00<?, ?it/s]"
      ]
     },
     "metadata": {},
     "output_type": "display_data"
    },
    {
     "name": "stdout",
     "output_type": "stream",
     "text": [
      "Validation mean loss was 230.98511250813803\n",
      "__________________________________________________\n",
      "Epoch: 162\n",
      "\n",
      "Train set: \n",
      "Train mAP: 0.8771860599517822\n"
     ]
    },
    {
     "data": {
      "application/vnd.jupyter.widget-view+json": {
       "model_id": "455011b948874d629bfb1e0d8af22712",
       "version_major": 2,
       "version_minor": 0
      },
      "text/plain": [
       "  0%|          | 0/116 [00:00<?, ?it/s]"
      ]
     },
     "metadata": {},
     "output_type": "display_data"
    },
    {
     "name": "stdout",
     "output_type": "stream",
     "text": [
      "Training mean loss was 11.092337156164236\n",
      "\n",
      "Validation set: \n",
      "Validation mAP: 0.3956858515739441\n"
     ]
    },
    {
     "data": {
      "application/vnd.jupyter.widget-view+json": {
       "model_id": "7e0b303c47a74e6b83baf9d29ed040c4",
       "version_major": 2,
       "version_minor": 0
      },
      "text/plain": [
       "  0%|          | 0/6 [00:00<?, ?it/s]"
      ]
     },
     "metadata": {},
     "output_type": "display_data"
    },
    {
     "name": "stdout",
     "output_type": "stream",
     "text": [
      "Validation mean loss was 234.7096939086914\n",
      "__________________________________________________\n",
      "Epoch: 163\n",
      "\n",
      "Train set: \n",
      "Train mAP: 0.8823055624961853\n"
     ]
    },
    {
     "data": {
      "application/vnd.jupyter.widget-view+json": {
       "model_id": "15fda19a91324c2a951a8d8fa81085b1",
       "version_major": 2,
       "version_minor": 0
      },
      "text/plain": [
       "  0%|          | 0/116 [00:00<?, ?it/s]"
      ]
     },
     "metadata": {},
     "output_type": "display_data"
    },
    {
     "name": "stdout",
     "output_type": "stream",
     "text": [
      "Training mean loss was 11.24547356161578\n",
      "\n",
      "Validation set: \n",
      "Validation mAP: 0.4047219157218933\n"
     ]
    },
    {
     "data": {
      "application/vnd.jupyter.widget-view+json": {
       "model_id": "612dbf81ad2e4701b410794165bb2065",
       "version_major": 2,
       "version_minor": 0
      },
      "text/plain": [
       "  0%|          | 0/6 [00:00<?, ?it/s]"
      ]
     },
     "metadata": {},
     "output_type": "display_data"
    },
    {
     "name": "stdout",
     "output_type": "stream",
     "text": [
      "Validation mean loss was 235.6565195719401\n",
      "__________________________________________________\n",
      "Epoch: 164\n",
      "\n",
      "Train set: \n",
      "Train mAP: 0.895023763179779\n"
     ]
    },
    {
     "data": {
      "application/vnd.jupyter.widget-view+json": {
       "model_id": "d1516de9962c47429c9604886865e27f",
       "version_major": 2,
       "version_minor": 0
      },
      "text/plain": [
       "  0%|          | 0/116 [00:00<?, ?it/s]"
      ]
     },
     "metadata": {},
     "output_type": "display_data"
    },
    {
     "name": "stdout",
     "output_type": "stream",
     "text": [
      "Training mean loss was 12.712996400635818\n",
      "\n",
      "Validation set: \n",
      "Validation mAP: 0.403902530670166\n"
     ]
    },
    {
     "data": {
      "application/vnd.jupyter.widget-view+json": {
       "model_id": "3397b9fe62cb49a0a784e2347fe97065",
       "version_major": 2,
       "version_minor": 0
      },
      "text/plain": [
       "  0%|          | 0/6 [00:00<?, ?it/s]"
      ]
     },
     "metadata": {},
     "output_type": "display_data"
    },
    {
     "name": "stdout",
     "output_type": "stream",
     "text": [
      "Validation mean loss was 213.05764516194662\n",
      "__________________________________________________\n",
      "Epoch: 165\n",
      "\n",
      "Train set: \n",
      "Train mAP: 0.8835812211036682\n"
     ]
    },
    {
     "data": {
      "application/vnd.jupyter.widget-view+json": {
       "model_id": "e58745972095498d9f2acc02725e85b7",
       "version_major": 2,
       "version_minor": 0
      },
      "text/plain": [
       "  0%|          | 0/116 [00:00<?, ?it/s]"
      ]
     },
     "metadata": {},
     "output_type": "display_data"
    },
    {
     "name": "stdout",
     "output_type": "stream",
     "text": [
      "Training mean loss was 12.744669157883216\n",
      "\n",
      "Validation set: \n",
      "Validation mAP: 0.39169394969940186\n"
     ]
    },
    {
     "data": {
      "application/vnd.jupyter.widget-view+json": {
       "model_id": "cc1506bcf32f4510999910dd349ca4c7",
       "version_major": 2,
       "version_minor": 0
      },
      "text/plain": [
       "  0%|          | 0/6 [00:00<?, ?it/s]"
      ]
     },
     "metadata": {},
     "output_type": "display_data"
    },
    {
     "name": "stdout",
     "output_type": "stream",
     "text": [
      "Validation mean loss was 216.80995178222656\n",
      "__________________________________________________\n",
      "Epoch: 166\n",
      "\n",
      "Train set: \n",
      "Train mAP: 0.8735594153404236\n"
     ]
    },
    {
     "data": {
      "application/vnd.jupyter.widget-view+json": {
       "model_id": "576e6789f0f541689ad7a987012565b4",
       "version_major": 2,
       "version_minor": 0
      },
      "text/plain": [
       "  0%|          | 0/116 [00:00<?, ?it/s]"
      ]
     },
     "metadata": {},
     "output_type": "display_data"
    },
    {
     "name": "stdout",
     "output_type": "stream",
     "text": [
      "Training mean loss was 12.379061246740408\n",
      "\n",
      "Validation set: \n",
      "Validation mAP: 0.4159708619117737\n"
     ]
    },
    {
     "data": {
      "application/vnd.jupyter.widget-view+json": {
       "model_id": "d593b82f086e48f2be844fa7f18b5eec",
       "version_major": 2,
       "version_minor": 0
      },
      "text/plain": [
       "  0%|          | 0/6 [00:00<?, ?it/s]"
      ]
     },
     "metadata": {},
     "output_type": "display_data"
    },
    {
     "name": "stdout",
     "output_type": "stream",
     "text": [
      "Validation mean loss was 223.84889221191406\n",
      "__________________________________________________\n",
      "Epoch: 167\n",
      "\n",
      "Train set: \n",
      "Train mAP: 0.8859348893165588\n"
     ]
    },
    {
     "data": {
      "application/vnd.jupyter.widget-view+json": {
       "model_id": "0ecd2f228240461ca6beff8c169198e3",
       "version_major": 2,
       "version_minor": 0
      },
      "text/plain": [
       "  0%|          | 0/116 [00:00<?, ?it/s]"
      ]
     },
     "metadata": {},
     "output_type": "display_data"
    },
    {
     "name": "stdout",
     "output_type": "stream",
     "text": [
      "Training mean loss was 11.753216167976117\n",
      "\n",
      "Validation set: \n",
      "Validation mAP: 0.4313519299030304\n"
     ]
    },
    {
     "data": {
      "application/vnd.jupyter.widget-view+json": {
       "model_id": "005e1aa463a74d8bb2d5d48aad0a891f",
       "version_major": 2,
       "version_minor": 0
      },
      "text/plain": [
       "  0%|          | 0/6 [00:00<?, ?it/s]"
      ]
     },
     "metadata": {},
     "output_type": "display_data"
    },
    {
     "name": "stdout",
     "output_type": "stream",
     "text": [
      "Validation mean loss was 226.56603240966797\n",
      "__________________________________________________\n",
      "Epoch: 168\n",
      "\n",
      "Train set: \n",
      "Train mAP: 0.8900415301322937\n"
     ]
    },
    {
     "data": {
      "application/vnd.jupyter.widget-view+json": {
       "model_id": "7996d9b76cfe4427bb212c5cca330c6c",
       "version_major": 2,
       "version_minor": 0
      },
      "text/plain": [
       "  0%|          | 0/116 [00:00<?, ?it/s]"
      ]
     },
     "metadata": {},
     "output_type": "display_data"
    },
    {
     "name": "stdout",
     "output_type": "stream",
     "text": [
      "Training mean loss was 12.445993522117877\n",
      "\n",
      "Validation set: \n",
      "Validation mAP: 0.3483960032463074\n"
     ]
    },
    {
     "data": {
      "application/vnd.jupyter.widget-view+json": {
       "model_id": "c641b1b70be847aa9fefb35b169ceda6",
       "version_major": 2,
       "version_minor": 0
      },
      "text/plain": [
       "  0%|          | 0/6 [00:00<?, ?it/s]"
      ]
     },
     "metadata": {},
     "output_type": "display_data"
    },
    {
     "name": "stdout",
     "output_type": "stream",
     "text": [
      "Validation mean loss was 253.5545883178711\n",
      "__________________________________________________\n",
      "Epoch: 169\n",
      "\n",
      "Train set: \n",
      "Train mAP: 0.8104448318481445\n"
     ]
    },
    {
     "data": {
      "application/vnd.jupyter.widget-view+json": {
       "model_id": "0b67532444a34848b5c7537164e1c10c",
       "version_major": 2,
       "version_minor": 0
      },
      "text/plain": [
       "  0%|          | 0/116 [00:00<?, ?it/s]"
      ]
     },
     "metadata": {},
     "output_type": "display_data"
    },
    {
     "name": "stdout",
     "output_type": "stream",
     "text": [
      "Training mean loss was 12.4168334500543\n",
      "\n",
      "Validation set: \n",
      "Validation mAP: 0.40143683552742004\n"
     ]
    },
    {
     "data": {
      "application/vnd.jupyter.widget-view+json": {
       "model_id": "6ffdd8ae28514aee8e34cf12bd608aec",
       "version_major": 2,
       "version_minor": 0
      },
      "text/plain": [
       "  0%|          | 0/6 [00:00<?, ?it/s]"
      ]
     },
     "metadata": {},
     "output_type": "display_data"
    },
    {
     "name": "stdout",
     "output_type": "stream",
     "text": [
      "Validation mean loss was 222.3441645304362\n",
      "__________________________________________________\n",
      "Epoch: 170\n",
      "\n",
      "Train set: \n",
      "Train mAP: 0.8957101106643677\n",
      "=> Saving checkpoint\n"
     ]
    },
    {
     "data": {
      "application/vnd.jupyter.widget-view+json": {
       "model_id": "22b269a873ef44a9880a21f496ebf0eb",
       "version_major": 2,
       "version_minor": 0
      },
      "text/plain": [
       "  0%|          | 0/116 [00:00<?, ?it/s]"
      ]
     },
     "metadata": {},
     "output_type": "display_data"
    },
    {
     "name": "stdout",
     "output_type": "stream",
     "text": [
      "Training mean loss was 13.296374057901316\n",
      "\n",
      "Validation set: \n",
      "Validation mAP: 0.4185662865638733\n"
     ]
    },
    {
     "data": {
      "application/vnd.jupyter.widget-view+json": {
       "model_id": "3dd2f9d3668c4795b924dbc27177cb4a",
       "version_major": 2,
       "version_minor": 0
      },
      "text/plain": [
       "  0%|          | 0/6 [00:00<?, ?it/s]"
      ]
     },
     "metadata": {},
     "output_type": "display_data"
    },
    {
     "name": "stdout",
     "output_type": "stream",
     "text": [
      "Validation mean loss was 221.21453094482422\n",
      "__________________________________________________\n",
      "Epoch: 171\n",
      "\n",
      "Train set: \n",
      "Train mAP: 0.8778355121612549\n"
     ]
    },
    {
     "data": {
      "application/vnd.jupyter.widget-view+json": {
       "model_id": "3710296eff144da88c359a8e4135665d",
       "version_major": 2,
       "version_minor": 0
      },
      "text/plain": [
       "  0%|          | 0/116 [00:00<?, ?it/s]"
      ]
     },
     "metadata": {},
     "output_type": "display_data"
    },
    {
     "name": "stdout",
     "output_type": "stream",
     "text": [
      "Training mean loss was 12.919704988084991\n",
      "\n",
      "Validation set: \n",
      "Validation mAP: 0.4199359714984894\n"
     ]
    },
    {
     "data": {
      "application/vnd.jupyter.widget-view+json": {
       "model_id": "b1ae2497ecbf42b689a1751aa6c1bcb1",
       "version_major": 2,
       "version_minor": 0
      },
      "text/plain": [
       "  0%|          | 0/6 [00:00<?, ?it/s]"
      ]
     },
     "metadata": {},
     "output_type": "display_data"
    },
    {
     "name": "stdout",
     "output_type": "stream",
     "text": [
      "Validation mean loss was 219.09029134114584\n",
      "__________________________________________________\n",
      "Epoch: 172\n",
      "\n",
      "Train set: \n",
      "Train mAP: 0.9107812643051147\n"
     ]
    },
    {
     "data": {
      "application/vnd.jupyter.widget-view+json": {
       "model_id": "ffb73a9a2dae4c368ea8a8266e98523d",
       "version_major": 2,
       "version_minor": 0
      },
      "text/plain": [
       "  0%|          | 0/116 [00:00<?, ?it/s]"
      ]
     },
     "metadata": {},
     "output_type": "display_data"
    },
    {
     "name": "stdout",
     "output_type": "stream",
     "text": [
      "Training mean loss was 13.464307332861013\n",
      "\n",
      "Validation set: \n",
      "Validation mAP: 0.37603092193603516\n"
     ]
    },
    {
     "data": {
      "application/vnd.jupyter.widget-view+json": {
       "model_id": "be722a154f11493db1d45daaa0e87967",
       "version_major": 2,
       "version_minor": 0
      },
      "text/plain": [
       "  0%|          | 0/6 [00:00<?, ?it/s]"
      ]
     },
     "metadata": {},
     "output_type": "display_data"
    },
    {
     "name": "stdout",
     "output_type": "stream",
     "text": [
      "Validation mean loss was 216.57079060872397\n",
      "__________________________________________________\n",
      "Epoch: 173\n",
      "\n",
      "Train set: \n",
      "Train mAP: 0.8863734006881714\n"
     ]
    },
    {
     "data": {
      "application/vnd.jupyter.widget-view+json": {
       "model_id": "77382364caf142dd9e73ad9e852733d0",
       "version_major": 2,
       "version_minor": 0
      },
      "text/plain": [
       "  0%|          | 0/116 [00:00<?, ?it/s]"
      ]
     },
     "metadata": {},
     "output_type": "display_data"
    },
    {
     "name": "stdout",
     "output_type": "stream",
     "text": [
      "Training mean loss was 11.925426536592944\n",
      "\n",
      "Validation set: \n",
      "Validation mAP: 0.42214322090148926\n"
     ]
    },
    {
     "data": {
      "application/vnd.jupyter.widget-view+json": {
       "model_id": "0016ce3bdf5b45e69c3450e68cabb61d",
       "version_major": 2,
       "version_minor": 0
      },
      "text/plain": [
       "  0%|          | 0/6 [00:00<?, ?it/s]"
      ]
     },
     "metadata": {},
     "output_type": "display_data"
    },
    {
     "name": "stdout",
     "output_type": "stream",
     "text": [
      "Validation mean loss was 214.94218953450522\n",
      "__________________________________________________\n",
      "Epoch: 174\n",
      "\n",
      "Train set: \n",
      "Train mAP: 0.8944080471992493\n"
     ]
    },
    {
     "data": {
      "application/vnd.jupyter.widget-view+json": {
       "model_id": "79146ce7021640529b8cdb38a3dc78ab",
       "version_major": 2,
       "version_minor": 0
      },
      "text/plain": [
       "  0%|          | 0/116 [00:00<?, ?it/s]"
      ]
     },
     "metadata": {},
     "output_type": "display_data"
    },
    {
     "name": "stdout",
     "output_type": "stream",
     "text": [
      "Training mean loss was 12.513203838775897\n",
      "\n",
      "Validation set: \n",
      "Validation mAP: 0.44052547216415405\n"
     ]
    },
    {
     "data": {
      "application/vnd.jupyter.widget-view+json": {
       "model_id": "15a116373563423785aec326d868c521",
       "version_major": 2,
       "version_minor": 0
      },
      "text/plain": [
       "  0%|          | 0/6 [00:00<?, ?it/s]"
      ]
     },
     "metadata": {},
     "output_type": "display_data"
    },
    {
     "name": "stdout",
     "output_type": "stream",
     "text": [
      "Validation mean loss was 224.32740529378256\n",
      "__________________________________________________\n",
      "Epoch: 175\n",
      "\n",
      "Train set: \n",
      "Train mAP: 0.8990566730499268\n"
     ]
    },
    {
     "data": {
      "application/vnd.jupyter.widget-view+json": {
       "model_id": "250a987a364740aab762a7f8bea04e62",
       "version_major": 2,
       "version_minor": 0
      },
      "text/plain": [
       "  0%|          | 0/116 [00:00<?, ?it/s]"
      ]
     },
     "metadata": {},
     "output_type": "display_data"
    },
    {
     "name": "stdout",
     "output_type": "stream",
     "text": [
      "Training mean loss was 10.945486488013431\n",
      "\n",
      "Validation set: \n",
      "Validation mAP: 0.45564138889312744\n"
     ]
    },
    {
     "data": {
      "application/vnd.jupyter.widget-view+json": {
       "model_id": "fa74782c7ce14c6c8fb73115742d51ba",
       "version_major": 2,
       "version_minor": 0
      },
      "text/plain": [
       "  0%|          | 0/6 [00:00<?, ?it/s]"
      ]
     },
     "metadata": {},
     "output_type": "display_data"
    },
    {
     "name": "stdout",
     "output_type": "stream",
     "text": [
      "Validation mean loss was 213.2863744099935\n",
      "__________________________________________________\n",
      "Epoch: 176\n",
      "\n",
      "Train set: \n",
      "Train mAP: 0.8970341682434082\n"
     ]
    },
    {
     "data": {
      "application/vnd.jupyter.widget-view+json": {
       "model_id": "31da6793ade9486bafc63500a1218047",
       "version_major": 2,
       "version_minor": 0
      },
      "text/plain": [
       "  0%|          | 0/116 [00:00<?, ?it/s]"
      ]
     },
     "metadata": {},
     "output_type": "display_data"
    },
    {
     "name": "stdout",
     "output_type": "stream",
     "text": [
      "Training mean loss was 9.966557848042456\n",
      "\n",
      "Validation set: \n",
      "Validation mAP: 0.43126845359802246\n"
     ]
    },
    {
     "data": {
      "application/vnd.jupyter.widget-view+json": {
       "model_id": "afd0b0a6b4d74428927e429622387a8c",
       "version_major": 2,
       "version_minor": 0
      },
      "text/plain": [
       "  0%|          | 0/6 [00:00<?, ?it/s]"
      ]
     },
     "metadata": {},
     "output_type": "display_data"
    },
    {
     "name": "stdout",
     "output_type": "stream",
     "text": [
      "Validation mean loss was 208.0342585245768\n",
      "__________________________________________________\n",
      "Epoch: 177\n",
      "\n",
      "Train set: \n",
      "Train mAP: 0.8999476432800293\n"
     ]
    },
    {
     "data": {
      "application/vnd.jupyter.widget-view+json": {
       "model_id": "33621705ba124260adbc2e058137aed2",
       "version_major": 2,
       "version_minor": 0
      },
      "text/plain": [
       "  0%|          | 0/116 [00:00<?, ?it/s]"
      ]
     },
     "metadata": {},
     "output_type": "display_data"
    },
    {
     "name": "stdout",
     "output_type": "stream",
     "text": [
      "Training mean loss was 9.36171685416123\n",
      "\n",
      "Validation set: \n",
      "Validation mAP: 0.40946701169013977\n"
     ]
    },
    {
     "data": {
      "application/vnd.jupyter.widget-view+json": {
       "model_id": "f4c7f2e68b1c41d691d5411edd52a200",
       "version_major": 2,
       "version_minor": 0
      },
      "text/plain": [
       "  0%|          | 0/6 [00:00<?, ?it/s]"
      ]
     },
     "metadata": {},
     "output_type": "display_data"
    },
    {
     "name": "stdout",
     "output_type": "stream",
     "text": [
      "Validation mean loss was 217.13412729899088\n",
      "__________________________________________________\n",
      "Epoch: 178\n",
      "\n",
      "Train set: \n",
      "Train mAP: 0.9103468060493469\n"
     ]
    },
    {
     "data": {
      "application/vnd.jupyter.widget-view+json": {
       "model_id": "28eedf292bf34f28bc83105fa0c07342",
       "version_major": 2,
       "version_minor": 0
      },
      "text/plain": [
       "  0%|          | 0/116 [00:00<?, ?it/s]"
      ]
     },
     "metadata": {},
     "output_type": "display_data"
    },
    {
     "name": "stdout",
     "output_type": "stream",
     "text": [
      "Training mean loss was 9.208411294838477\n",
      "\n",
      "Validation set: \n",
      "Validation mAP: 0.43921929597854614\n"
     ]
    },
    {
     "data": {
      "application/vnd.jupyter.widget-view+json": {
       "model_id": "47dc1e7513064a6b8e7c1486f208ee47",
       "version_major": 2,
       "version_minor": 0
      },
      "text/plain": [
       "  0%|          | 0/6 [00:00<?, ?it/s]"
      ]
     },
     "metadata": {},
     "output_type": "display_data"
    },
    {
     "name": "stdout",
     "output_type": "stream",
     "text": [
      "Validation mean loss was 224.91842905680338\n",
      "__________________________________________________\n",
      "Epoch: 179\n",
      "\n",
      "Train set: \n",
      "Train mAP: 0.8956358432769775\n"
     ]
    },
    {
     "data": {
      "application/vnd.jupyter.widget-view+json": {
       "model_id": "887adea6d24e40b5bd6d212ba3c1ccdd",
       "version_major": 2,
       "version_minor": 0
      },
      "text/plain": [
       "  0%|          | 0/116 [00:00<?, ?it/s]"
      ]
     },
     "metadata": {},
     "output_type": "display_data"
    },
    {
     "name": "stdout",
     "output_type": "stream",
     "text": [
      "Training mean loss was 9.166009820740799\n",
      "\n",
      "Validation set: \n",
      "Validation mAP: 0.4115005135536194\n"
     ]
    },
    {
     "data": {
      "application/vnd.jupyter.widget-view+json": {
       "model_id": "5616c7d5bc084131964f1298c57f3593",
       "version_major": 2,
       "version_minor": 0
      },
      "text/plain": [
       "  0%|          | 0/6 [00:00<?, ?it/s]"
      ]
     },
     "metadata": {},
     "output_type": "display_data"
    },
    {
     "name": "stdout",
     "output_type": "stream",
     "text": [
      "Validation mean loss was 217.00906117757162\n",
      "__________________________________________________\n",
      "Epoch: 180\n",
      "\n",
      "Train set: \n",
      "Train mAP: 0.8972907066345215\n",
      "=> Saving checkpoint\n"
     ]
    },
    {
     "data": {
      "application/vnd.jupyter.widget-view+json": {
       "model_id": "c81ad4ab2dc84f899834de6e3935bf3b",
       "version_major": 2,
       "version_minor": 0
      },
      "text/plain": [
       "  0%|          | 0/116 [00:00<?, ?it/s]"
      ]
     },
     "metadata": {},
     "output_type": "display_data"
    },
    {
     "name": "stdout",
     "output_type": "stream",
     "text": [
      "Training mean loss was 9.210513961726221\n",
      "\n",
      "Validation set: \n",
      "Validation mAP: 0.41782909631729126\n"
     ]
    },
    {
     "data": {
      "application/vnd.jupyter.widget-view+json": {
       "model_id": "ca22538cbc8a4f9fbdea112603516247",
       "version_major": 2,
       "version_minor": 0
      },
      "text/plain": [
       "  0%|          | 0/6 [00:00<?, ?it/s]"
      ]
     },
     "metadata": {},
     "output_type": "display_data"
    },
    {
     "name": "stdout",
     "output_type": "stream",
     "text": [
      "Validation mean loss was 224.11153920491537\n",
      "__________________________________________________\n",
      "Epoch: 181\n",
      "\n",
      "Train set: \n",
      "Train mAP: 0.8978528380393982\n"
     ]
    },
    {
     "data": {
      "application/vnd.jupyter.widget-view+json": {
       "model_id": "45bdc8555a254b478563b437f3c1af1b",
       "version_major": 2,
       "version_minor": 0
      },
      "text/plain": [
       "  0%|          | 0/116 [00:00<?, ?it/s]"
      ]
     },
     "metadata": {},
     "output_type": "display_data"
    },
    {
     "name": "stdout",
     "output_type": "stream",
     "text": [
      "Training mean loss was 9.828752184736318\n",
      "\n",
      "Validation set: \n",
      "Validation mAP: 0.4145032465457916\n"
     ]
    },
    {
     "data": {
      "application/vnd.jupyter.widget-view+json": {
       "model_id": "2ee7bc731c204a98913907ca9410f198",
       "version_major": 2,
       "version_minor": 0
      },
      "text/plain": [
       "  0%|          | 0/6 [00:00<?, ?it/s]"
      ]
     },
     "metadata": {},
     "output_type": "display_data"
    },
    {
     "name": "stdout",
     "output_type": "stream",
     "text": [
      "Validation mean loss was 221.68758392333984\n",
      "__________________________________________________\n",
      "Epoch: 182\n",
      "\n",
      "Train set: \n",
      "Train mAP: 0.9037049412727356\n"
     ]
    },
    {
     "data": {
      "application/vnd.jupyter.widget-view+json": {
       "model_id": "558de0310b414e6fa9595853c091be0b",
       "version_major": 2,
       "version_minor": 0
      },
      "text/plain": [
       "  0%|          | 0/116 [00:00<?, ?it/s]"
      ]
     },
     "metadata": {},
     "output_type": "display_data"
    },
    {
     "name": "stdout",
     "output_type": "stream",
     "text": [
      "Training mean loss was 10.53950297832489\n",
      "\n",
      "Validation set: \n",
      "Validation mAP: 0.4160463809967041\n"
     ]
    },
    {
     "data": {
      "application/vnd.jupyter.widget-view+json": {
       "model_id": "0fcfb70ee4684c03a97acf20ada179c7",
       "version_major": 2,
       "version_minor": 0
      },
      "text/plain": [
       "  0%|          | 0/6 [00:00<?, ?it/s]"
      ]
     },
     "metadata": {},
     "output_type": "display_data"
    },
    {
     "name": "stdout",
     "output_type": "stream",
     "text": [
      "Validation mean loss was 226.9106699625651\n",
      "__________________________________________________\n",
      "Epoch: 183\n",
      "\n",
      "Train set: \n",
      "Train mAP: 0.9088866710662842\n"
     ]
    },
    {
     "data": {
      "application/vnd.jupyter.widget-view+json": {
       "model_id": "a401754a5add4093b20812990b6ffa62",
       "version_major": 2,
       "version_minor": 0
      },
      "text/plain": [
       "  0%|          | 0/116 [00:00<?, ?it/s]"
      ]
     },
     "metadata": {},
     "output_type": "display_data"
    },
    {
     "name": "stdout",
     "output_type": "stream",
     "text": [
      "Training mean loss was 10.238291534884223\n",
      "\n",
      "Validation set: \n",
      "Validation mAP: 0.4108976125717163\n"
     ]
    },
    {
     "data": {
      "application/vnd.jupyter.widget-view+json": {
       "model_id": "2f36d6642b84491a8ffc3ca1a9256641",
       "version_major": 2,
       "version_minor": 0
      },
      "text/plain": [
       "  0%|          | 0/6 [00:00<?, ?it/s]"
      ]
     },
     "metadata": {},
     "output_type": "display_data"
    },
    {
     "name": "stdout",
     "output_type": "stream",
     "text": [
      "Validation mean loss was 218.43288930257162\n",
      "__________________________________________________\n",
      "Epoch: 184\n",
      "\n",
      "Train set: \n",
      "Train mAP: 0.9039312601089478\n"
     ]
    },
    {
     "data": {
      "application/vnd.jupyter.widget-view+json": {
       "model_id": "39af76152adc485f931b55ac6ce9200a",
       "version_major": 2,
       "version_minor": 0
      },
      "text/plain": [
       "  0%|          | 0/116 [00:00<?, ?it/s]"
      ]
     },
     "metadata": {},
     "output_type": "display_data"
    },
    {
     "name": "stdout",
     "output_type": "stream",
     "text": [
      "Training mean loss was 10.720065963679346\n",
      "\n",
      "Validation set: \n",
      "Validation mAP: 0.39247721433639526\n"
     ]
    },
    {
     "data": {
      "application/vnd.jupyter.widget-view+json": {
       "model_id": "be63d9687daf4eeb8706df6afbea86c4",
       "version_major": 2,
       "version_minor": 0
      },
      "text/plain": [
       "  0%|          | 0/6 [00:00<?, ?it/s]"
      ]
     },
     "metadata": {},
     "output_type": "display_data"
    },
    {
     "name": "stdout",
     "output_type": "stream",
     "text": [
      "Validation mean loss was 224.186398824056\n",
      "__________________________________________________\n",
      "Epoch: 185\n",
      "\n",
      "Train set: \n",
      "Train mAP: 0.9028879404067993\n"
     ]
    },
    {
     "data": {
      "application/vnd.jupyter.widget-view+json": {
       "model_id": "8a70c06a27c14e5c93684bb1b27ba871",
       "version_major": 2,
       "version_minor": 0
      },
      "text/plain": [
       "  0%|          | 0/116 [00:00<?, ?it/s]"
      ]
     },
     "metadata": {},
     "output_type": "display_data"
    },
    {
     "name": "stdout",
     "output_type": "stream",
     "text": [
      "Training mean loss was 10.905885396332577\n",
      "\n",
      "Validation set: \n",
      "Validation mAP: 0.34595951437950134\n"
     ]
    },
    {
     "data": {
      "application/vnd.jupyter.widget-view+json": {
       "model_id": "48cc82e2e2034a73a8957a77cee3d9b8",
       "version_major": 2,
       "version_minor": 0
      },
      "text/plain": [
       "  0%|          | 0/6 [00:00<?, ?it/s]"
      ]
     },
     "metadata": {},
     "output_type": "display_data"
    },
    {
     "name": "stdout",
     "output_type": "stream",
     "text": [
      "Validation mean loss was 222.32493845621744\n",
      "__________________________________________________\n",
      "Epoch: 186\n",
      "\n",
      "Train set: \n",
      "Train mAP: 0.8590338230133057\n"
     ]
    },
    {
     "data": {
      "application/vnd.jupyter.widget-view+json": {
       "model_id": "553ab452e6b945d2a7a3fc88cf5be0d3",
       "version_major": 2,
       "version_minor": 0
      },
      "text/plain": [
       "  0%|          | 0/116 [00:00<?, ?it/s]"
      ]
     },
     "metadata": {},
     "output_type": "display_data"
    },
    {
     "name": "stdout",
     "output_type": "stream",
     "text": [
      "Training mean loss was 10.486328860809063\n",
      "\n",
      "Validation set: \n",
      "Validation mAP: 0.40645208954811096\n"
     ]
    },
    {
     "data": {
      "application/vnd.jupyter.widget-view+json": {
       "model_id": "7f1ca587ff6f490bb3160c60f94a82c1",
       "version_major": 2,
       "version_minor": 0
      },
      "text/plain": [
       "  0%|          | 0/6 [00:00<?, ?it/s]"
      ]
     },
     "metadata": {},
     "output_type": "display_data"
    },
    {
     "name": "stdout",
     "output_type": "stream",
     "text": [
      "Validation mean loss was 217.9858423868815\n",
      "__________________________________________________\n",
      "Epoch: 187\n",
      "\n",
      "Train set: \n",
      "Train mAP: 0.8840548992156982\n"
     ]
    },
    {
     "data": {
      "application/vnd.jupyter.widget-view+json": {
       "model_id": "15f2acd4c4ec46f99080e5849d7d3fc1",
       "version_major": 2,
       "version_minor": 0
      },
      "text/plain": [
       "  0%|          | 0/116 [00:00<?, ?it/s]"
      ]
     },
     "metadata": {},
     "output_type": "display_data"
    },
    {
     "name": "stdout",
     "output_type": "stream",
     "text": [
      "Training mean loss was 10.354396774851043\n",
      "\n",
      "Validation set: \n",
      "Validation mAP: 0.40529710054397583\n"
     ]
    },
    {
     "data": {
      "application/vnd.jupyter.widget-view+json": {
       "model_id": "4c69391dfb664bc2be1e3a5dcdad5fe4",
       "version_major": 2,
       "version_minor": 0
      },
      "text/plain": [
       "  0%|          | 0/6 [00:00<?, ?it/s]"
      ]
     },
     "metadata": {},
     "output_type": "display_data"
    },
    {
     "name": "stdout",
     "output_type": "stream",
     "text": [
      "Validation mean loss was 214.3010686238607\n",
      "__________________________________________________\n",
      "Epoch: 188\n",
      "\n",
      "Train set: \n",
      "Train mAP: 0.9018367528915405\n"
     ]
    },
    {
     "data": {
      "application/vnd.jupyter.widget-view+json": {
       "model_id": "7d3e11e81aed4244a05dbb237fb08e00",
       "version_major": 2,
       "version_minor": 0
      },
      "text/plain": [
       "  0%|          | 0/116 [00:00<?, ?it/s]"
      ]
     },
     "metadata": {},
     "output_type": "display_data"
    },
    {
     "name": "stdout",
     "output_type": "stream",
     "text": [
      "Training mean loss was 9.957733865441947\n",
      "\n",
      "Validation set: \n",
      "Validation mAP: 0.3972688615322113\n"
     ]
    },
    {
     "data": {
      "application/vnd.jupyter.widget-view+json": {
       "model_id": "57aff6d49d954754865824b33278198c",
       "version_major": 2,
       "version_minor": 0
      },
      "text/plain": [
       "  0%|          | 0/6 [00:00<?, ?it/s]"
      ]
     },
     "metadata": {},
     "output_type": "display_data"
    },
    {
     "name": "stdout",
     "output_type": "stream",
     "text": [
      "Validation mean loss was 224.33940633138022\n",
      "__________________________________________________\n",
      "Epoch: 189\n",
      "\n",
      "Train set: \n",
      "Train mAP: 0.8948032855987549\n"
     ]
    },
    {
     "data": {
      "application/vnd.jupyter.widget-view+json": {
       "model_id": "fb6b8607b698412196d59040b6423871",
       "version_major": 2,
       "version_minor": 0
      },
      "text/plain": [
       "  0%|          | 0/116 [00:00<?, ?it/s]"
      ]
     },
     "metadata": {},
     "output_type": "display_data"
    },
    {
     "name": "stdout",
     "output_type": "stream",
     "text": [
      "Training mean loss was 9.910601587131106\n",
      "\n",
      "Validation set: \n",
      "Validation mAP: 0.4283533990383148\n"
     ]
    },
    {
     "data": {
      "application/vnd.jupyter.widget-view+json": {
       "model_id": "230eddd0fda14442b5b426f01582a4d8",
       "version_major": 2,
       "version_minor": 0
      },
      "text/plain": [
       "  0%|          | 0/6 [00:00<?, ?it/s]"
      ]
     },
     "metadata": {},
     "output_type": "display_data"
    },
    {
     "name": "stdout",
     "output_type": "stream",
     "text": [
      "Validation mean loss was 211.50717544555664\n",
      "__________________________________________________\n",
      "Epoch: 190\n",
      "\n",
      "Train set: \n",
      "Train mAP: 0.8930882215499878\n",
      "=> Saving checkpoint\n"
     ]
    },
    {
     "data": {
      "application/vnd.jupyter.widget-view+json": {
       "model_id": "799ba71ce14d418ba55a4390704f7d83",
       "version_major": 2,
       "version_minor": 0
      },
      "text/plain": [
       "  0%|          | 0/116 [00:00<?, ?it/s]"
      ]
     },
     "metadata": {},
     "output_type": "display_data"
    },
    {
     "name": "stdout",
     "output_type": "stream",
     "text": [
      "Training mean loss was 9.807736166592303\n",
      "\n",
      "Validation set: \n",
      "Validation mAP: 0.4260696470737457\n"
     ]
    },
    {
     "data": {
      "application/vnd.jupyter.widget-view+json": {
       "model_id": "899c3d07eabc47298e8e8046287c7a5d",
       "version_major": 2,
       "version_minor": 0
      },
      "text/plain": [
       "  0%|          | 0/6 [00:00<?, ?it/s]"
      ]
     },
     "metadata": {},
     "output_type": "display_data"
    },
    {
     "name": "stdout",
     "output_type": "stream",
     "text": [
      "Validation mean loss was 219.42989857991537\n",
      "__________________________________________________\n",
      "Epoch: 191\n",
      "\n",
      "Train set: \n",
      "Train mAP: 0.9013181924819946\n"
     ]
    },
    {
     "data": {
      "application/vnd.jupyter.widget-view+json": {
       "model_id": "2e71def7c3ee4380817da2ecaef98be2",
       "version_major": 2,
       "version_minor": 0
      },
      "text/plain": [
       "  0%|          | 0/116 [00:00<?, ?it/s]"
      ]
     },
     "metadata": {},
     "output_type": "display_data"
    },
    {
     "name": "stdout",
     "output_type": "stream",
     "text": [
      "Training mean loss was 13.530561981530026\n",
      "\n",
      "Validation set: \n",
      "Validation mAP: 0.4145556390285492\n"
     ]
    },
    {
     "data": {
      "application/vnd.jupyter.widget-view+json": {
       "model_id": "f65b420906284c7daf2dc351060703e4",
       "version_major": 2,
       "version_minor": 0
      },
      "text/plain": [
       "  0%|          | 0/6 [00:00<?, ?it/s]"
      ]
     },
     "metadata": {},
     "output_type": "display_data"
    },
    {
     "name": "stdout",
     "output_type": "stream",
     "text": [
      "Validation mean loss was 209.89980824788412\n",
      "__________________________________________________\n",
      "Epoch: 192\n",
      "\n",
      "Train set: \n",
      "Train mAP: 0.8504716753959656\n"
     ]
    },
    {
     "data": {
      "application/vnd.jupyter.widget-view+json": {
       "model_id": "710d9873ea464dc5b28e3064c18ac721",
       "version_major": 2,
       "version_minor": 0
      },
      "text/plain": [
       "  0%|          | 0/116 [00:00<?, ?it/s]"
      ]
     },
     "metadata": {},
     "output_type": "display_data"
    },
    {
     "name": "stdout",
     "output_type": "stream",
     "text": [
      "Training mean loss was 13.539206447272464\n",
      "\n",
      "Validation set: \n",
      "Validation mAP: 0.40711405873298645\n"
     ]
    },
    {
     "data": {
      "application/vnd.jupyter.widget-view+json": {
       "model_id": "cf2a5b2522ec4d4bac044d319f26fda5",
       "version_major": 2,
       "version_minor": 0
      },
      "text/plain": [
       "  0%|          | 0/6 [00:00<?, ?it/s]"
      ]
     },
     "metadata": {},
     "output_type": "display_data"
    },
    {
     "name": "stdout",
     "output_type": "stream",
     "text": [
      "Validation mean loss was 208.13467915852866\n",
      "__________________________________________________\n",
      "Epoch: 193\n",
      "\n",
      "Train set: \n",
      "Train mAP: 0.8765758275985718\n"
     ]
    },
    {
     "data": {
      "application/vnd.jupyter.widget-view+json": {
       "model_id": "ae2ea6ba7ed24fb39749bfd76f2f9b88",
       "version_major": 2,
       "version_minor": 0
      },
      "text/plain": [
       "  0%|          | 0/116 [00:00<?, ?it/s]"
      ]
     },
     "metadata": {},
     "output_type": "display_data"
    },
    {
     "name": "stdout",
     "output_type": "stream",
     "text": [
      "Training mean loss was 12.060923539358994\n",
      "\n",
      "Validation set: \n",
      "Validation mAP: 0.1923520565032959\n"
     ]
    },
    {
     "data": {
      "application/vnd.jupyter.widget-view+json": {
       "model_id": "4a6cd08aae2c4611b5f9d58cb78edd25",
       "version_major": 2,
       "version_minor": 0
      },
      "text/plain": [
       "  0%|          | 0/6 [00:00<?, ?it/s]"
      ]
     },
     "metadata": {},
     "output_type": "display_data"
    },
    {
     "name": "stdout",
     "output_type": "stream",
     "text": [
      "Validation mean loss was 479.445551554362\n",
      "__________________________________________________\n",
      "Epoch: 194\n",
      "\n",
      "Train set: \n",
      "Train mAP: 0.5962202548980713\n"
     ]
    },
    {
     "data": {
      "application/vnd.jupyter.widget-view+json": {
       "model_id": "c8b69bf9238145b79827157c2e613160",
       "version_major": 2,
       "version_minor": 0
      },
      "text/plain": [
       "  0%|          | 0/116 [00:00<?, ?it/s]"
      ]
     },
     "metadata": {},
     "output_type": "display_data"
    },
    {
     "name": "stdout",
     "output_type": "stream",
     "text": [
      "Training mean loss was 12.083793956657935\n",
      "\n",
      "Validation set: \n",
      "Validation mAP: 0.41586360335350037\n"
     ]
    },
    {
     "data": {
      "application/vnd.jupyter.widget-view+json": {
       "model_id": "9400f63c12494ab09d3e1fad93891a5d",
       "version_major": 2,
       "version_minor": 0
      },
      "text/plain": [
       "  0%|          | 0/6 [00:00<?, ?it/s]"
      ]
     },
     "metadata": {},
     "output_type": "display_data"
    },
    {
     "name": "stdout",
     "output_type": "stream",
     "text": [
      "Validation mean loss was 221.8336970011393\n",
      "__________________________________________________\n",
      "Epoch: 195\n",
      "\n",
      "Train set: \n",
      "Train mAP: 0.8973290920257568\n"
     ]
    },
    {
     "data": {
      "application/vnd.jupyter.widget-view+json": {
       "model_id": "6b3f030e1d984303b4c50a4f11a56ce0",
       "version_major": 2,
       "version_minor": 0
      },
      "text/plain": [
       "  0%|          | 0/116 [00:00<?, ?it/s]"
      ]
     },
     "metadata": {},
     "output_type": "display_data"
    },
    {
     "name": "stdout",
     "output_type": "stream",
     "text": [
      "Training mean loss was 10.965622355198038\n",
      "\n",
      "Validation set: \n",
      "Validation mAP: 0.4283326268196106\n"
     ]
    },
    {
     "data": {
      "application/vnd.jupyter.widget-view+json": {
       "model_id": "a16fcaaa16a14122b13982867171603b",
       "version_major": 2,
       "version_minor": 0
      },
      "text/plain": [
       "  0%|          | 0/6 [00:00<?, ?it/s]"
      ]
     },
     "metadata": {},
     "output_type": "display_data"
    },
    {
     "name": "stdout",
     "output_type": "stream",
     "text": [
      "Validation mean loss was 208.4804229736328\n",
      "__________________________________________________\n",
      "Epoch: 196\n",
      "\n",
      "Train set: \n",
      "Train mAP: 0.9068877696990967\n"
     ]
    },
    {
     "data": {
      "application/vnd.jupyter.widget-view+json": {
       "model_id": "03757b8b877c4a77a52e768ac2972f01",
       "version_major": 2,
       "version_minor": 0
      },
      "text/plain": [
       "  0%|          | 0/116 [00:00<?, ?it/s]"
      ]
     },
     "metadata": {},
     "output_type": "display_data"
    },
    {
     "name": "stdout",
     "output_type": "stream",
     "text": [
      "Training mean loss was 9.02377592284104\n",
      "\n",
      "Validation set: \n",
      "Validation mAP: 0.4218847453594208\n"
     ]
    },
    {
     "data": {
      "application/vnd.jupyter.widget-view+json": {
       "model_id": "6ebf8e15923a440a92d4a71da26d3d9b",
       "version_major": 2,
       "version_minor": 0
      },
      "text/plain": [
       "  0%|          | 0/6 [00:00<?, ?it/s]"
      ]
     },
     "metadata": {},
     "output_type": "display_data"
    },
    {
     "name": "stdout",
     "output_type": "stream",
     "text": [
      "Validation mean loss was 224.08748881022134\n",
      "__________________________________________________\n",
      "Epoch: 197\n",
      "\n",
      "Train set: \n",
      "Train mAP: 0.9150840044021606\n"
     ]
    },
    {
     "data": {
      "application/vnd.jupyter.widget-view+json": {
       "model_id": "1809edc816e44819b2743e1fd37aabd9",
       "version_major": 2,
       "version_minor": 0
      },
      "text/plain": [
       "  0%|          | 0/116 [00:00<?, ?it/s]"
      ]
     },
     "metadata": {},
     "output_type": "display_data"
    },
    {
     "name": "stdout",
     "output_type": "stream",
     "text": [
      "Training mean loss was 8.838310845966998\n",
      "\n",
      "Validation set: \n",
      "Validation mAP: 0.3878370523452759\n"
     ]
    },
    {
     "data": {
      "application/vnd.jupyter.widget-view+json": {
       "model_id": "8e5b94351e084b9e9a79bc1b8804c40c",
       "version_major": 2,
       "version_minor": 0
      },
      "text/plain": [
       "  0%|          | 0/6 [00:00<?, ?it/s]"
      ]
     },
     "metadata": {},
     "output_type": "display_data"
    },
    {
     "name": "stdout",
     "output_type": "stream",
     "text": [
      "Validation mean loss was 240.13520304361978\n",
      "__________________________________________________\n",
      "Epoch: 198\n",
      "\n",
      "Train set: \n",
      "Train mAP: 0.775270402431488\n"
     ]
    },
    {
     "data": {
      "application/vnd.jupyter.widget-view+json": {
       "model_id": "33ef88180ea6460d9ce0fc918d521357",
       "version_major": 2,
       "version_minor": 0
      },
      "text/plain": [
       "  0%|          | 0/116 [00:00<?, ?it/s]"
      ]
     },
     "metadata": {},
     "output_type": "display_data"
    },
    {
     "name": "stdout",
     "output_type": "stream",
     "text": [
      "Training mean loss was 10.184221115605585\n",
      "\n",
      "Validation set: \n",
      "Validation mAP: 0.41026487946510315\n"
     ]
    },
    {
     "data": {
      "application/vnd.jupyter.widget-view+json": {
       "model_id": "1d697d1b896e4cfb95bd408da7fe0ed6",
       "version_major": 2,
       "version_minor": 0
      },
      "text/plain": [
       "  0%|          | 0/6 [00:00<?, ?it/s]"
      ]
     },
     "metadata": {},
     "output_type": "display_data"
    },
    {
     "name": "stdout",
     "output_type": "stream",
     "text": [
      "Validation mean loss was 211.2830047607422\n",
      "__________________________________________________\n",
      "Epoch: 199\n",
      "\n",
      "Train set: \n",
      "Train mAP: 0.8893697261810303\n"
     ]
    },
    {
     "data": {
      "application/vnd.jupyter.widget-view+json": {
       "model_id": "fa856eeaa19648ad81b6e0423ef8b1ad",
       "version_major": 2,
       "version_minor": 0
      },
      "text/plain": [
       "  0%|          | 0/116 [00:00<?, ?it/s]"
      ]
     },
     "metadata": {},
     "output_type": "display_data"
    },
    {
     "name": "stdout",
     "output_type": "stream",
     "text": [
      "Training mean loss was 9.182587796244128\n",
      "\n",
      "Validation set: \n",
      "Validation mAP: 0.4074357748031616\n"
     ]
    },
    {
     "data": {
      "application/vnd.jupyter.widget-view+json": {
       "model_id": "dee891ee51d74e329f546d903079763c",
       "version_major": 2,
       "version_minor": 0
      },
      "text/plain": [
       "  0%|          | 0/6 [00:00<?, ?it/s]"
      ]
     },
     "metadata": {},
     "output_type": "display_data"
    },
    {
     "name": "stdout",
     "output_type": "stream",
     "text": [
      "Validation mean loss was 218.39708201090494\n"
     ]
    },
    {
     "data": {
      "image/png": "[encoded data removed]",
      "text/plain": [
       "<Figure size 432x288 with 1 Axes>"
      ]
     },
     "metadata": {},
     "output_type": "display_data"
    },
    {
     "data": {
      "image/png": "[encoded data removed]",
      "text/plain": [
       "<Figure size 432x288 with 1 Axes>"
      ]
     },
     "metadata": {},
     "output_type": "display_data"
    }
   ],
   "source": [
    "if __name__ == \"__main__\":\n",
    "    main()"
   ]
  },
  {
   "cell_type": "code",
   "execution_count": 14,
   "id": "fdce0ee4-7411-4a03-b2cf-c2c31416f371",
   "metadata": {},
   "outputs": [
    {
     "data": {
      "image/png": "[encoded data removed]",
      "text/plain": [
       "<Figure size 432x288 with 1 Axes>"
      ]
     },
     "metadata": {},
     "output_type": "display_data"
    },
    {
     "data": {
      "image/png": "[encoded data removed]",
      "text/plain": [
       "<Figure size 432x288 with 1 Axes>"
      ]
     },
     "metadata": {},
     "output_type": "display_data"
    }
   ],
   "source": [
    "loss_graph()\n",
    "mAP_graph()"
   ]
  },
  {
   "cell_type": "code",
   "execution_count": null,
   "id": "48a14c05-36d1-4e42-9c6d-b87f9103c1a9",
   "metadata": {},
   "outputs": [],
   "source": [
    "18:48\n",
    "19:53"
   ]
  }
 ],
 "metadata": {
  "kernelspec": {
   "display_name": "Python 3",
   "language": "python",
   "name": "python3"
  },
  "language_info": {
   "codemirror_mode": {
    "name": "ipython",
    "version": 3
   },
   "file_extension": ".py",
   "mimetype": "text/x-python",
   "name": "python",
   "nbconvert_exporter": "python",
   "pygments_lexer": "ipython3",
   "version": "3.9.4"
  }
 },
 "nbformat": 4,
 "nbformat_minor": 5
}
